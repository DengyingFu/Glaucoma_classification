{
 "cells": [
  {
   "cell_type": "code",
   "execution_count": 1,
   "id": "9c70c432-8d8a-44ee-aa27-695e51da0dcd",
   "metadata": {},
   "outputs": [],
   "source": [
    "import argparse\n",
    "from pprint import pprint\n",
    "import random\n",
    "from copy import deepcopy\n",
    "\n",
    "import torch\n",
    "import torch.backends\n",
    "from torch import optim\n",
    "from torch.hub import load_state_dict_from_url\n",
    "from torch.nn import CrossEntropyLoss\n",
    "from torchvision import datasets\n",
    "from torchvision.models import vgg16,AlexNet,resnet18,squeezenet1_0\n",
    "from torchvision.transforms import transforms\n",
    "from tqdm import tqdm\n",
    "\n",
    "from baal.active import get_heuristic, ActiveLearningDataset\n",
    "from baal.active.active_loop import ActiveLearningLoop\n",
    "from baal.bayesian.dropout import patch_module\n",
    "from baal import ModelWrapper\n",
    "\n",
    "import numpy as np\n",
    "import matplotlib.pyplot as plt\n",
    "from model import resnet18\n",
    "import torch.nn as nn\n",
    "from baal.utils.plot_utils import make_animation_from_data\n",
    "from torch.utils.data import DataLoader\n",
    "from sklearn.manifold import TSNE\n",
    "import imageio\n",
    "from IPython.display import HTML\n",
    "from matplotlib import animation\n",
    "import os\n",
    "from IPython.display import display\n"
   ]
  },
  {
   "cell_type": "code",
   "execution_count": 2,
   "id": "aac8f13a-8f98-4159-aebb-faf0e648ad43",
   "metadata": {},
   "outputs": [],
   "source": [
    "\n",
    "def parse_args():\n",
    "    args = {\n",
    "        \"epoch\": 53,\n",
    "        \"batch_size\": 32,\n",
    "        \"initial_pool\": 10,\n",
    "        \"query_size\": 10,\n",
    "        \"lr\": 0.0001,\n",
    "        \"heuristic\": ['bald'],\n",
    "        \"iterations\": 20,\n",
    "        \"shuffle_prop\": 0.01,\n",
    "        \"learning_epoch\": 10,\n",
    "        \"model\": ['AlexNet']\n",
    "    }\n",
    "    return args\n",
    "\n",
    "\n",
    "\n",
    "def get_datasets(initial_pool):\n",
    "    transform = transforms.Compose(\n",
    "        [\n",
    "            transforms.Resize((224, 224)),\n",
    "            transforms.RandomHorizontalFlip(),\n",
    "            transforms.RandomRotation(30),\n",
    "            transforms.ToTensor(),\n",
    "            transforms.Normalize(3 * [0.5], 3 * [0.5]),\n",
    "        ]\n",
    "    )\n",
    "    test_transform = transforms.Compose(\n",
    "        [\n",
    "            transforms.Resize((224, 224)),\n",
    "            transforms.ToTensor(),\n",
    "            transforms.Normalize(3 * [0.5], 3 * [0.5]),\n",
    "        ]\n",
    "    )\n",
    "    data_root = os.path.abspath(os.path.join(os.getcwd(), \"../..\"))  # get data root path\n",
    "    image_path = os.path.join(data_root, \"/root/data/ACRIMA\", \"\")  # flower data set path\n",
    "    assert os.path.exists(image_path), \"{} path does not exist.\".format(image_path)\n",
    "    train_ds = datasets.ImageFolder(root=os.path.join(image_path, \"train\"),\n",
    "                                    transform=transform)\n",
    "    test_set = datasets.ImageFolder(root=os.path.join(image_path, \"val\"),\n",
    "                                    transform=test_transform)\n",
    "\n",
    "    active_set = ActiveLearningDataset(train_ds, pool_specifics={\"transform\": test_transform})\n",
    "\n",
    "    # We start labeling randomly.\n",
    "    active_set.label_randomly(initial_pool)   #随机标记数据\n",
    "    return active_set, test_set\n",
    "\n"
   ]
  },
  {
   "cell_type": "code",
   "execution_count": 3,
   "id": "e96b2b7a-338c-434e-b1e1-e110e97ecfce",
   "metadata": {},
   "outputs": [
    {
     "name": "stdout",
     "output_type": "stream",
     "text": [
      "True\n",
      "['bald']\n"
     ]
    }
   ],
   "source": [
    "print(torch.cuda.is_available())\n",
    "args = parse_args()\n",
    "use_cuda = torch.cuda.is_available()\n",
    "torch.backends.cudnn.benchmark = True\n",
    "random.seed(1337)\n",
    "torch.manual_seed(1337)   #1337只是一个标志，每次运行时下面生成的随机数都是同一个\n",
    "\n",
    "if not use_cuda:\n",
    "    print(\"warning, the experiments would take ages to run on cpu\")\n",
    "\n",
    "hyperparams = parse_args()   #返回字典对象\n",
    "print(hyperparams[\"heuristic\"])"
   ]
  },
  {
   "cell_type": "code",
   "execution_count": 4,
   "id": "cdfff265-7e9e-460e-babe-d201316ab9fa",
   "metadata": {},
   "outputs": [
    {
     "name": "stdout",
     "output_type": "stream",
     "text": [
      "Start active learning Training: model is  AlexNet \n",
      "\n",
      "Start active learning Training: query_strategy is  bald \n",
      "\n",
      "reduction on main is  none\n"
     ]
    },
    {
     "name": "stderr",
     "output_type": "stream",
     "text": [
      "  0%|          | 0/53 [00:00<?, ?it/s]"
     ]
    },
    {
     "name": "stdout",
     "output_type": "stream",
     "text": [
      "[881-MainThread  ] [baal.modelwrapper:train_on_dataset:654] \u001b[2m2024-04-15T01:18:24.938944Z\u001b[0m [\u001b[32m\u001b[1minfo     \u001b[0m] \u001b[1mStarting training             \u001b[0m \u001b[36mdataset\u001b[0m=\u001b[35m10\u001b[0m \u001b[36mepoch\u001b[0m=\u001b[35m10\u001b[0m\n",
      "[881-MainThread  ] [baal.modelwrapper:train_on_dataset:666] \u001b[2m2024-04-15T01:18:28.911777Z\u001b[0m [\u001b[32m\u001b[1minfo     \u001b[0m] \u001b[1mTraining complete             \u001b[0m \u001b[36mtrain_acc\u001b[0m=\u001b[35m0.699999988079071\u001b[0m \u001b[36mtrain_loss\u001b[0m=\u001b[35m0.6434779167175293\u001b[0m\n",
      "[881-MainThread  ] [baal.modelwrapper:test_on_dataset:696] \u001b[2m2024-04-15T01:18:28.914269Z\u001b[0m [\u001b[32m\u001b[1minfo     \u001b[0m] \u001b[1mStarting evaluating           \u001b[0m \u001b[36mdataset\u001b[0m=\u001b[35m175\u001b[0m\n",
      "[881-MainThread  ] [baal.modelwrapper:test_on_dataset:720] \u001b[2m2024-04-15T01:18:30.129898Z\u001b[0m [\u001b[32m\u001b[1minfo     \u001b[0m] \u001b[1mEvaluation complete           \u001b[0m \u001b[36mtest_acc\u001b[0m=\u001b[35m0.5208333134651184\u001b[0m \u001b[36mtest_loss\u001b[0m=\u001b[35m0.6686129570007324\u001b[0m\n",
      "Uth----------- tensor(0.7912)\n",
      "[881-MainThread  ] [baal.modelwrapper:predict_on_dataset_generator:819] \u001b[2m2024-04-15T01:18:30.136337Z\u001b[0m [\u001b[32m\u001b[1minfo     \u001b[0m] \u001b[1mStart Predict                 \u001b[0m \u001b[36mdataset\u001b[0m=\u001b[35m520\u001b[0m\n",
      "\n",
      "  0%|          | 0/52 [00:00<?, ?it/s]\u001b[A\n",
      "  2%|▏         | 1/52 [00:00<00:20,  2.50it/s]\u001b[A\n",
      "  8%|▊         | 4/52 [00:00<00:05,  9.30it/s]\u001b[A\n",
      " 13%|█▎        | 7/52 [00:00<00:03, 14.02it/s]\u001b[A\n",
      " 19%|█▉        | 10/52 [00:00<00:02, 17.35it/s]\u001b[A\n",
      " 25%|██▌       | 13/52 [00:00<00:01, 19.61it/s]\u001b[A\n",
      " 31%|███       | 16/52 [00:00<00:01, 21.28it/s]\u001b[A\n",
      " 37%|███▋      | 19/52 [00:01<00:01, 22.34it/s]\u001b[A\n",
      " 42%|████▏     | 22/52 [00:01<00:01, 23.09it/s]\u001b[A\n",
      " 48%|████▊     | 25/52 [00:01<00:01, 23.56it/s]\u001b[A\n",
      " 54%|█████▍    | 28/52 [00:01<00:01, 23.92it/s]\u001b[A\n",
      " 60%|█████▉    | 31/52 [00:01<00:00, 24.31it/s]\u001b[A\n",
      " 65%|██████▌   | 34/52 [00:01<00:00, 24.47it/s]\u001b[A\n",
      " 71%|███████   | 37/52 [00:01<00:00, 24.60it/s]\u001b[A\n",
      " 77%|███████▋  | 40/52 [00:01<00:00, 24.72it/s]\u001b[A\n",
      " 83%|████████▎ | 43/52 [00:02<00:00, 24.79it/s]\u001b[A\n",
      " 88%|████████▊ | 46/52 [00:02<00:00, 24.81it/s]\u001b[A\n",
      " 94%|█████████▍| 49/52 [00:02<00:00, 24.85it/s]\u001b[A\n",
      "100%|██████████| 52/52 [00:02<00:00, 20.85it/s]\u001b[A\n",
      "!!!Save weights in AlexNetal\n",
      "Uncertain_th update to 0.7911645\n"
     ]
    },
    {
     "name": "stderr",
     "output_type": "stream",
     "text": [
      "  2%|▏         | 1/53 [00:08<07:44,  8.94s/it]"
     ]
    },
    {
     "name": "stdout",
     "output_type": "stream",
     "text": [
      "{'dataset_size': 10,\n",
      " 'test_accuracy': 0.5208333134651184,\n",
      " 'test_loss': 0.6686129570007324,\n",
      " 'train_accuracy': 0.699999988079071,\n",
      " 'train_loss': 0.6434779167175293}\n",
      "[881-MainThread  ] [baal.modelwrapper:train_on_dataset:654] \u001b[2m2024-04-15T01:18:33.879490Z\u001b[0m [\u001b[32m\u001b[1minfo     \u001b[0m] \u001b[1mStarting training             \u001b[0m \u001b[36mdataset\u001b[0m=\u001b[35m20\u001b[0m \u001b[36mepoch\u001b[0m=\u001b[35m10\u001b[0m\n",
      "[881-MainThread  ] [baal.modelwrapper:train_on_dataset:666] \u001b[2m2024-04-15T01:18:38.605328Z\u001b[0m [\u001b[32m\u001b[1minfo     \u001b[0m] \u001b[1mTraining complete             \u001b[0m \u001b[36mtrain_acc\u001b[0m=\u001b[35m0.699999988079071\u001b[0m \u001b[36mtrain_loss\u001b[0m=\u001b[35m0.5960108637809753\u001b[0m\n",
      "[881-MainThread  ] [baal.modelwrapper:test_on_dataset:696] \u001b[2m2024-04-15T01:18:38.608789Z\u001b[0m [\u001b[32m\u001b[1minfo     \u001b[0m] \u001b[1mStarting evaluating           \u001b[0m \u001b[36mdataset\u001b[0m=\u001b[35m175\u001b[0m\n",
      "[881-MainThread  ] [baal.modelwrapper:test_on_dataset:720] \u001b[2m2024-04-15T01:18:39.666505Z\u001b[0m [\u001b[32m\u001b[1minfo     \u001b[0m] \u001b[1mEvaluation complete           \u001b[0m \u001b[36mtest_acc\u001b[0m=\u001b[35m0.5\u001b[0m \u001b[36mtest_loss\u001b[0m=\u001b[35m0.7076972126960754\u001b[0m\n",
      "Uth----------- tensor(0.7869)\n",
      "[881-MainThread  ] [baal.modelwrapper:predict_on_dataset_generator:819] \u001b[2m2024-04-15T01:18:39.675936Z\u001b[0m [\u001b[32m\u001b[1minfo     \u001b[0m] \u001b[1mStart Predict                 \u001b[0m \u001b[36mdataset\u001b[0m=\u001b[35m510\u001b[0m\n",
      "\n",
      "  0%|          | 0/51 [00:00<?, ?it/s]\u001b[A\n",
      "  2%|▏         | 1/51 [00:00<00:17,  2.82it/s]\u001b[A\n",
      "  8%|▊         | 4/51 [00:00<00:04, 10.05it/s]\u001b[A\n",
      " 14%|█▎        | 7/51 [00:00<00:02, 14.74it/s]\u001b[A\n",
      " 20%|█▉        | 10/51 [00:00<00:02, 17.89it/s]\u001b[A\n",
      " 25%|██▌       | 13/51 [00:00<00:01, 20.03it/s]\u001b[A\n",
      " 31%|███▏      | 16/51 [00:00<00:01, 21.39it/s]\u001b[A\n",
      " 37%|███▋      | 19/51 [00:01<00:01, 22.31it/s]\u001b[A\n",
      " 43%|████▎     | 22/51 [00:01<00:01, 23.09it/s]\u001b[A\n",
      " 49%|████▉     | 25/51 [00:01<00:01, 23.56it/s]\u001b[A\n",
      " 55%|█████▍    | 28/51 [00:01<00:00, 23.93it/s]\u001b[A\n",
      " 61%|██████    | 31/51 [00:01<00:00, 24.22it/s]\u001b[A\n",
      " 67%|██████▋   | 34/51 [00:01<00:00, 24.43it/s]\u001b[A\n",
      " 73%|███████▎  | 37/51 [00:01<00:00, 24.44it/s]\u001b[A\n",
      " 78%|███████▊  | 40/51 [00:01<00:00, 24.56it/s]\u001b[A\n",
      " 84%|████████▍ | 43/51 [00:02<00:00, 24.63it/s]\u001b[A\n",
      " 90%|█████████ | 46/51 [00:02<00:00, 24.62it/s]\u001b[A\n",
      "100%|██████████| 51/51 [00:02<00:00, 20.91it/s]\u001b[A"
     ]
    },
    {
     "name": "stderr",
     "output_type": "stream",
     "text": [
      "  4%|▍         | 2/53 [00:17<07:15,  8.53s/it]"
     ]
    },
    {
     "name": "stdout",
     "output_type": "stream",
     "text": [
      "\n",
      "{'dataset_size': 20,\n",
      " 'test_accuracy': 0.5,\n",
      " 'test_loss': 0.7076972126960754,\n",
      " 'train_accuracy': 0.699999988079071,\n",
      " 'train_loss': 0.5960108637809753}\n",
      "[881-MainThread  ] [baal.modelwrapper:train_on_dataset:654] \u001b[2m2024-04-15T01:18:42.124395Z\u001b[0m [\u001b[32m\u001b[1minfo     \u001b[0m] \u001b[1mStarting training             \u001b[0m \u001b[36mdataset\u001b[0m=\u001b[35m30\u001b[0m \u001b[36mepoch\u001b[0m=\u001b[35m10\u001b[0m\n",
      "[881-MainThread  ] [baal.modelwrapper:train_on_dataset:666] \u001b[2m2024-04-15T01:18:47.568717Z\u001b[0m [\u001b[32m\u001b[1minfo     \u001b[0m] \u001b[1mTraining complete             \u001b[0m \u001b[36mtrain_acc\u001b[0m=\u001b[35m0.6000000238418579\u001b[0m \u001b[36mtrain_loss\u001b[0m=\u001b[35m0.5989528298377991\u001b[0m\n",
      "[881-MainThread  ] [baal.modelwrapper:test_on_dataset:696] \u001b[2m2024-04-15T01:18:47.574958Z\u001b[0m [\u001b[32m\u001b[1minfo     \u001b[0m] \u001b[1mStarting evaluating           \u001b[0m \u001b[36mdataset\u001b[0m=\u001b[35m175\u001b[0m\n",
      "[881-MainThread  ] [baal.modelwrapper:test_on_dataset:720] \u001b[2m2024-04-15T01:18:48.776236Z\u001b[0m [\u001b[32m\u001b[1minfo     \u001b[0m] \u001b[1mEvaluation complete           \u001b[0m \u001b[36mtest_acc\u001b[0m=\u001b[35m0.5645833611488342\u001b[0m \u001b[36mtest_loss\u001b[0m=\u001b[35m0.6353631615638733\u001b[0m\n",
      "Uth----------- tensor(0.8709)\n",
      "[881-MainThread  ] [baal.modelwrapper:predict_on_dataset_generator:819] \u001b[2m2024-04-15T01:18:48.782841Z\u001b[0m [\u001b[32m\u001b[1minfo     \u001b[0m] \u001b[1mStart Predict                 \u001b[0m \u001b[36mdataset\u001b[0m=\u001b[35m500\u001b[0m\n",
      "\n",
      "  0%|          | 0/50 [00:00<?, ?it/s]\u001b[A\n",
      "  2%|▏         | 1/50 [00:00<00:17,  2.80it/s]\u001b[A\n",
      "  8%|▊         | 4/50 [00:00<00:04, 10.01it/s]\u001b[A\n",
      " 14%|█▍        | 7/50 [00:00<00:02, 14.66it/s]\u001b[A\n",
      " 20%|██        | 10/50 [00:00<00:02, 17.75it/s]\u001b[A\n",
      " 26%|██▌       | 13/50 [00:00<00:01, 19.97it/s]\u001b[A\n",
      " 32%|███▏      | 16/50 [00:00<00:01, 21.37it/s]\u001b[A\n",
      " 38%|███▊      | 19/50 [00:01<00:01, 22.24it/s]\u001b[A\n",
      " 44%|████▍     | 22/50 [00:01<00:01, 22.66it/s]\u001b[A\n",
      " 50%|█████     | 25/50 [00:01<00:01, 23.27it/s]\u001b[A\n",
      " 56%|█████▌    | 28/50 [00:01<00:00, 23.61it/s]\u001b[A\n",
      " 62%|██████▏   | 31/50 [00:01<00:00, 24.02it/s]\u001b[A\n",
      " 68%|██████▊   | 34/50 [00:01<00:00, 24.01it/s]\u001b[A\n",
      " 74%|███████▍  | 37/50 [00:01<00:00, 24.21it/s]\u001b[A\n",
      " 80%|████████  | 40/50 [00:01<00:00, 24.41it/s]\u001b[A\n",
      " 86%|████████▌ | 43/50 [00:02<00:00, 24.51it/s]\u001b[A\n",
      " 92%|█████████▏| 46/50 [00:02<00:00, 24.67it/s]\u001b[A\n",
      "100%|██████████| 50/50 [00:02<00:00, 20.75it/s]\u001b[A\n",
      "!!!Save weights in AlexNetal\n",
      "Uncertain_th update to 0.8709427\n"
     ]
    },
    {
     "name": "stderr",
     "output_type": "stream",
     "text": [
      "  6%|▌         | 3/53 [00:27<07:42,  9.25s/it]"
     ]
    },
    {
     "name": "stdout",
     "output_type": "stream",
     "text": [
      "{'dataset_size': 30,\n",
      " 'test_accuracy': 0.5645833611488342,\n",
      " 'test_loss': 0.6353631615638733,\n",
      " 'train_accuracy': 0.6000000238418579,\n",
      " 'train_loss': 0.5989528298377991}\n",
      "[881-MainThread  ] [baal.modelwrapper:train_on_dataset:654] \u001b[2m2024-04-15T01:18:52.241572Z\u001b[0m [\u001b[32m\u001b[1minfo     \u001b[0m] \u001b[1mStarting training             \u001b[0m \u001b[36mdataset\u001b[0m=\u001b[35m40\u001b[0m \u001b[36mepoch\u001b[0m=\u001b[35m10\u001b[0m\n",
      "[881-MainThread  ] [baal.modelwrapper:train_on_dataset:666] \u001b[2m2024-04-15T01:18:58.431811Z\u001b[0m [\u001b[32m\u001b[1minfo     \u001b[0m] \u001b[1mTraining complete             \u001b[0m \u001b[36mtrain_acc\u001b[0m=\u001b[35m0.921875\u001b[0m \u001b[36mtrain_loss\u001b[0m=\u001b[35m0.4276672601699829\u001b[0m\n",
      "[881-MainThread  ] [baal.modelwrapper:test_on_dataset:696] \u001b[2m2024-04-15T01:18:58.434138Z\u001b[0m [\u001b[32m\u001b[1minfo     \u001b[0m] \u001b[1mStarting evaluating           \u001b[0m \u001b[36mdataset\u001b[0m=\u001b[35m175\u001b[0m\n",
      "[881-MainThread  ] [baal.modelwrapper:test_on_dataset:720] \u001b[2m2024-04-15T01:18:59.516590Z\u001b[0m [\u001b[32m\u001b[1minfo     \u001b[0m] \u001b[1mEvaluation complete           \u001b[0m \u001b[36mtest_acc\u001b[0m=\u001b[35m0.7711805701255798\u001b[0m \u001b[36mtest_loss\u001b[0m=\u001b[35m0.5693051815032959\u001b[0m\n",
      "Uth----------- tensor(0.8953)\n",
      "[881-MainThread  ] [baal.modelwrapper:predict_on_dataset_generator:819] \u001b[2m2024-04-15T01:18:59.523367Z\u001b[0m [\u001b[32m\u001b[1minfo     \u001b[0m] \u001b[1mStart Predict                 \u001b[0m \u001b[36mdataset\u001b[0m=\u001b[35m490\u001b[0m\n",
      "\n",
      "  0%|          | 0/49 [00:00<?, ?it/s]\u001b[A\n",
      "  2%|▏         | 1/49 [00:00<00:17,  2.78it/s]\u001b[A\n",
      "  8%|▊         | 4/49 [00:00<00:04,  9.94it/s]\u001b[A\n",
      " 14%|█▍        | 7/49 [00:00<00:02, 14.64it/s]\u001b[A\n",
      " 20%|██        | 10/49 [00:00<00:02, 17.82it/s]\u001b[A\n",
      " 27%|██▋       | 13/49 [00:00<00:01, 19.96it/s]\u001b[A\n",
      " 33%|███▎      | 16/49 [00:00<00:01, 21.22it/s]\u001b[A\n",
      " 39%|███▉      | 19/49 [00:01<00:01, 22.29it/s]\u001b[A\n",
      " 45%|████▍     | 22/49 [00:01<00:01, 23.03it/s]\u001b[A\n",
      " 51%|█████     | 25/49 [00:01<00:01, 23.56it/s]\u001b[A\n",
      " 57%|█████▋    | 28/49 [00:01<00:00, 23.92it/s]\u001b[A\n",
      " 63%|██████▎   | 31/49 [00:01<00:00, 24.00it/s]\u001b[A\n",
      " 69%|██████▉   | 34/49 [00:01<00:00, 24.25it/s]\u001b[A\n",
      " 76%|███████▌  | 37/49 [00:01<00:00, 24.37it/s]\u001b[A\n",
      " 82%|████████▏ | 40/49 [00:01<00:00, 24.51it/s]\u001b[A\n",
      " 88%|████████▊ | 43/49 [00:02<00:00, 24.28it/s]\u001b[A\n",
      " 94%|█████████▍| 46/49 [00:02<00:00, 24.46it/s]\u001b[A\n",
      "100%|██████████| 49/49 [00:02<00:00, 20.73it/s]\u001b[A\n",
      "!!!Save weights in AlexNetal\n",
      "Uncertain_th update to 0.89530843\n"
     ]
    },
    {
     "name": "stderr",
     "output_type": "stream",
     "text": [
      "  8%|▊         | 4/53 [00:38<08:02,  9.85s/it]"
     ]
    },
    {
     "name": "stdout",
     "output_type": "stream",
     "text": [
      "{'dataset_size': 40,\n",
      " 'test_accuracy': 0.7711805701255798,\n",
      " 'test_loss': 0.5693051815032959,\n",
      " 'train_accuracy': 0.921875,\n",
      " 'train_loss': 0.4276672601699829}\n",
      "[881-MainThread  ] [baal.modelwrapper:train_on_dataset:654] \u001b[2m2024-04-15T01:19:03.004193Z\u001b[0m [\u001b[32m\u001b[1minfo     \u001b[0m] \u001b[1mStarting training             \u001b[0m \u001b[36mdataset\u001b[0m=\u001b[35m50\u001b[0m \u001b[36mepoch\u001b[0m=\u001b[35m10\u001b[0m\n",
      "[881-MainThread  ] [baal.modelwrapper:train_on_dataset:666] \u001b[2m2024-04-15T01:19:09.094076Z\u001b[0m [\u001b[32m\u001b[1minfo     \u001b[0m] \u001b[1mTraining complete             \u001b[0m \u001b[36mtrain_acc\u001b[0m=\u001b[35m0.9166666269302368\u001b[0m \u001b[36mtrain_loss\u001b[0m=\u001b[35m0.4845643639564514\u001b[0m\n",
      "[881-MainThread  ] [baal.modelwrapper:test_on_dataset:696] \u001b[2m2024-04-15T01:19:09.098254Z\u001b[0m [\u001b[32m\u001b[1minfo     \u001b[0m] \u001b[1mStarting evaluating           \u001b[0m \u001b[36mdataset\u001b[0m=\u001b[35m175\u001b[0m\n",
      "[881-MainThread  ] [baal.modelwrapper:test_on_dataset:720] \u001b[2m2024-04-15T01:19:10.200973Z\u001b[0m [\u001b[32m\u001b[1minfo     \u001b[0m] \u001b[1mEvaluation complete           \u001b[0m \u001b[36mtest_acc\u001b[0m=\u001b[35m0.7756944298744202\u001b[0m \u001b[36mtest_loss\u001b[0m=\u001b[35m0.5490373969078064\u001b[0m\n",
      "Uth----------- tensor(0.8676)\n",
      "[881-MainThread  ] [baal.modelwrapper:predict_on_dataset_generator:819] \u001b[2m2024-04-15T01:19:10.207603Z\u001b[0m [\u001b[32m\u001b[1minfo     \u001b[0m] \u001b[1mStart Predict                 \u001b[0m \u001b[36mdataset\u001b[0m=\u001b[35m480\u001b[0m\n",
      "\n",
      "  0%|          | 0/48 [00:00<?, ?it/s]\u001b[A\n",
      "  2%|▏         | 1/48 [00:00<00:16,  2.77it/s]\u001b[A\n",
      "  8%|▊         | 4/48 [00:00<00:04,  9.84it/s]\u001b[A\n",
      " 15%|█▍        | 7/48 [00:00<00:02, 14.56it/s]\u001b[A\n",
      " 21%|██        | 10/48 [00:00<00:02, 17.81it/s]\u001b[A\n",
      " 27%|██▋       | 13/48 [00:00<00:01, 19.93it/s]\u001b[A\n",
      " 33%|███▎      | 16/48 [00:00<00:01, 21.40it/s]\u001b[A\n",
      " 40%|███▉      | 19/48 [00:01<00:01, 22.38it/s]\u001b[A\n",
      " 46%|████▌     | 22/48 [00:01<00:01, 23.09it/s]\u001b[A\n",
      " 52%|█████▏    | 25/48 [00:01<00:00, 23.59it/s]\u001b[A\n",
      " 58%|█████▊    | 28/48 [00:01<00:00, 23.94it/s]\u001b[A\n",
      " 65%|██████▍   | 31/48 [00:01<00:00, 24.04it/s]\u001b[A\n",
      " 71%|███████   | 34/48 [00:01<00:00, 24.15it/s]\u001b[A\n",
      " 77%|███████▋  | 37/48 [00:01<00:00, 24.29it/s]\u001b[A\n",
      " 83%|████████▎ | 40/48 [00:01<00:00, 24.34it/s]\u001b[A\n",
      " 90%|████████▉ | 43/48 [00:02<00:00, 24.43it/s]\u001b[A\n",
      "100%|██████████| 48/48 [00:02<00:00, 20.72it/s]\u001b[A\n",
      "!!!Save weights in AlexNetal\n",
      "Uncertain_th update to 0.86762637\n"
     ]
    },
    {
     "name": "stderr",
     "output_type": "stream",
     "text": [
      "  9%|▉         | 5/53 [00:48<08:05, 10.12s/it]"
     ]
    },
    {
     "name": "stdout",
     "output_type": "stream",
     "text": [
      "{'dataset_size': 50,\n",
      " 'test_accuracy': 0.7756944298744202,\n",
      " 'test_loss': 0.5490373969078064,\n",
      " 'train_accuracy': 0.9166666269302368,\n",
      " 'train_loss': 0.4845643639564514}\n",
      "[881-MainThread  ] [baal.modelwrapper:train_on_dataset:654] \u001b[2m2024-04-15T01:19:13.594034Z\u001b[0m [\u001b[32m\u001b[1minfo     \u001b[0m] \u001b[1mStarting training             \u001b[0m \u001b[36mdataset\u001b[0m=\u001b[35m60\u001b[0m \u001b[36mepoch\u001b[0m=\u001b[35m10\u001b[0m\n",
      "[881-MainThread  ] [baal.modelwrapper:train_on_dataset:666] \u001b[2m2024-04-15T01:19:19.916724Z\u001b[0m [\u001b[32m\u001b[1minfo     \u001b[0m] \u001b[1mTraining complete             \u001b[0m \u001b[36mtrain_acc\u001b[0m=\u001b[35m0.8995535969734192\u001b[0m \u001b[36mtrain_loss\u001b[0m=\u001b[35m0.4393761456012726\u001b[0m\n",
      "[881-MainThread  ] [baal.modelwrapper:test_on_dataset:696] \u001b[2m2024-04-15T01:19:19.921287Z\u001b[0m [\u001b[32m\u001b[1minfo     \u001b[0m] \u001b[1mStarting evaluating           \u001b[0m \u001b[36mdataset\u001b[0m=\u001b[35m175\u001b[0m\n",
      "[881-MainThread  ] [baal.modelwrapper:test_on_dataset:720] \u001b[2m2024-04-15T01:19:21.098014Z\u001b[0m [\u001b[32m\u001b[1minfo     \u001b[0m] \u001b[1mEvaluation complete           \u001b[0m \u001b[36mtest_acc\u001b[0m=\u001b[35m0.9302083849906921\u001b[0m \u001b[36mtest_loss\u001b[0m=\u001b[35m0.500485360622406\u001b[0m\n",
      "Uth----------- tensor(0.8466)\n",
      "[881-MainThread  ] [baal.modelwrapper:predict_on_dataset_generator:819] \u001b[2m2024-04-15T01:19:21.104677Z\u001b[0m [\u001b[32m\u001b[1minfo     \u001b[0m] \u001b[1mStart Predict                 \u001b[0m \u001b[36mdataset\u001b[0m=\u001b[35m470\u001b[0m\n",
      "\n",
      "  0%|          | 0/47 [00:00<?, ?it/s]\u001b[A\n",
      "  2%|▏         | 1/47 [00:00<00:17,  2.58it/s]\u001b[A\n",
      "  9%|▊         | 4/47 [00:00<00:04,  9.46it/s]\u001b[A\n",
      " 15%|█▍        | 7/47 [00:00<00:02, 14.08it/s]\u001b[A\n",
      " 21%|██▏       | 10/47 [00:00<00:02, 17.24it/s]\u001b[A\n",
      " 28%|██▊       | 13/47 [00:00<00:01, 19.46it/s]\u001b[A\n",
      " 34%|███▍      | 16/47 [00:01<00:01, 20.87it/s]\u001b[A\n",
      " 40%|████      | 19/47 [00:01<00:01, 21.98it/s]\u001b[A\n",
      " 47%|████▋     | 22/47 [00:01<00:01, 22.73it/s]\u001b[A\n",
      " 53%|█████▎    | 25/47 [00:01<00:00, 23.24it/s]\u001b[A\n",
      " 60%|█████▉    | 28/47 [00:01<00:00, 23.70it/s]\u001b[A\n",
      " 66%|██████▌   | 31/47 [00:01<00:00, 23.90it/s]\u001b[A\n",
      " 72%|███████▏  | 34/47 [00:01<00:00, 24.09it/s]\u001b[A\n",
      " 79%|███████▊  | 37/47 [00:01<00:00, 24.26it/s]\u001b[A\n",
      " 85%|████████▌ | 40/47 [00:01<00:00, 23.97it/s]\u001b[A\n",
      " 91%|█████████▏| 43/47 [00:02<00:00, 24.15it/s]\u001b[A\n",
      "100%|██████████| 47/47 [00:02<00:00, 20.26it/s]\u001b[A\n",
      "!!!Save weights in AlexNetal\n",
      "Uncertain_th update to 0.8465963\n"
     ]
    },
    {
     "name": "stderr",
     "output_type": "stream",
     "text": [
      " 11%|█▏        | 6/53 [00:59<08:07, 10.37s/it]"
     ]
    },
    {
     "name": "stdout",
     "output_type": "stream",
     "text": [
      "{'dataset_size': 60,\n",
      " 'test_accuracy': 0.9302083849906921,\n",
      " 'test_loss': 0.500485360622406,\n",
      " 'train_accuracy': 0.8995535969734192,\n",
      " 'train_loss': 0.4393761456012726}\n",
      "[881-MainThread  ] [baal.modelwrapper:train_on_dataset:654] \u001b[2m2024-04-15T01:19:24.456347Z\u001b[0m [\u001b[32m\u001b[1minfo     \u001b[0m] \u001b[1mStarting training             \u001b[0m \u001b[36mdataset\u001b[0m=\u001b[35m70\u001b[0m \u001b[36mepoch\u001b[0m=\u001b[35m10\u001b[0m\n",
      "[881-MainThread  ] [baal.modelwrapper:train_on_dataset:666] \u001b[2m2024-04-15T01:19:31.217987Z\u001b[0m [\u001b[32m\u001b[1minfo     \u001b[0m] \u001b[1mTraining complete             \u001b[0m \u001b[36mtrain_acc\u001b[0m=\u001b[35m0.7048611640930176\u001b[0m \u001b[36mtrain_loss\u001b[0m=\u001b[35m0.4437674582004547\u001b[0m\n",
      "[881-MainThread  ] [baal.modelwrapper:test_on_dataset:696] \u001b[2m2024-04-15T01:19:31.221116Z\u001b[0m [\u001b[32m\u001b[1minfo     \u001b[0m] \u001b[1mStarting evaluating           \u001b[0m \u001b[36mdataset\u001b[0m=\u001b[35m175\u001b[0m\n",
      "[881-MainThread  ] [baal.modelwrapper:test_on_dataset:720] \u001b[2m2024-04-15T01:19:32.388918Z\u001b[0m [\u001b[32m\u001b[1minfo     \u001b[0m] \u001b[1mEvaluation complete           \u001b[0m \u001b[36mtest_acc\u001b[0m=\u001b[35m0.7260416150093079\u001b[0m \u001b[36mtest_loss\u001b[0m=\u001b[35m0.49681583046913147\u001b[0m\n",
      "Uth----------- tensor(0.6682)\n",
      "[881-MainThread  ] [baal.modelwrapper:predict_on_dataset_generator:819] \u001b[2m2024-04-15T01:19:32.395753Z\u001b[0m [\u001b[32m\u001b[1minfo     \u001b[0m] \u001b[1mStart Predict                 \u001b[0m \u001b[36mdataset\u001b[0m=\u001b[35m460\u001b[0m\n",
      "\n",
      "  0%|          | 0/46 [00:00<?, ?it/s]\u001b[A\n",
      "  2%|▏         | 1/46 [00:00<00:17,  2.65it/s]\u001b[A\n",
      "  9%|▊         | 4/46 [00:00<00:04,  9.65it/s]\u001b[A\n",
      " 15%|█▌        | 7/46 [00:00<00:02, 14.34it/s]\u001b[A\n",
      " 22%|██▏       | 10/46 [00:00<00:02, 17.61it/s]\u001b[A\n",
      " 28%|██▊       | 13/46 [00:00<00:01, 19.77it/s]\u001b[A\n",
      " 35%|███▍      | 16/46 [00:00<00:01, 21.29it/s]\u001b[A\n",
      " 41%|████▏     | 19/46 [00:01<00:01, 22.31it/s]\u001b[A\n",
      " 48%|████▊     | 22/46 [00:01<00:01, 23.02it/s]\u001b[A\n",
      " 54%|█████▍    | 25/46 [00:01<00:00, 23.43it/s]\u001b[A\n",
      " 61%|██████    | 28/46 [00:01<00:00, 23.76it/s]\u001b[A\n",
      " 67%|██████▋   | 31/46 [00:01<00:00, 23.91it/s]\u001b[A\n",
      " 74%|███████▍  | 34/46 [00:01<00:00, 24.04it/s]\u001b[A\n",
      " 80%|████████  | 37/46 [00:01<00:00, 24.22it/s]\u001b[A\n",
      " 87%|████████▋ | 40/46 [00:01<00:00, 24.31it/s]\u001b[A\n",
      " 93%|█████████▎| 43/46 [00:02<00:00, 24.37it/s]\u001b[A\n",
      "100%|██████████| 46/46 [00:02<00:00, 20.09it/s]\u001b[A"
     ]
    },
    {
     "name": "stderr",
     "output_type": "stream",
     "text": [
      " 13%|█▎        | 7/53 [01:09<07:55, 10.33s/it]"
     ]
    },
    {
     "name": "stdout",
     "output_type": "stream",
     "text": [
      "\n",
      "{'dataset_size': 70,\n",
      " 'test_accuracy': 0.7260416150093079,\n",
      " 'test_loss': 0.49681583046913147,\n",
      " 'train_accuracy': 0.7048611640930176,\n",
      " 'train_loss': 0.4437674582004547}\n",
      "[881-MainThread  ] [baal.modelwrapper:train_on_dataset:654] \u001b[2m2024-04-15T01:19:34.694959Z\u001b[0m [\u001b[32m\u001b[1minfo     \u001b[0m] \u001b[1mStarting training             \u001b[0m \u001b[36mdataset\u001b[0m=\u001b[35m80\u001b[0m \u001b[36mepoch\u001b[0m=\u001b[35m10\u001b[0m\n",
      "[881-MainThread  ] [baal.modelwrapper:train_on_dataset:666] \u001b[2m2024-04-15T01:19:41.950546Z\u001b[0m [\u001b[32m\u001b[1minfo     \u001b[0m] \u001b[1mTraining complete             \u001b[0m \u001b[36mtrain_acc\u001b[0m=\u001b[35m0.90625\u001b[0m \u001b[36mtrain_loss\u001b[0m=\u001b[35m0.3638102114200592\u001b[0m\n",
      "[881-MainThread  ] [baal.modelwrapper:test_on_dataset:696] \u001b[2m2024-04-15T01:19:41.954374Z\u001b[0m [\u001b[32m\u001b[1minfo     \u001b[0m] \u001b[1mStarting evaluating           \u001b[0m \u001b[36mdataset\u001b[0m=\u001b[35m175\u001b[0m\n",
      "[881-MainThread  ] [baal.modelwrapper:test_on_dataset:720] \u001b[2m2024-04-15T01:19:43.048128Z\u001b[0m [\u001b[32m\u001b[1minfo     \u001b[0m] \u001b[1mEvaluation complete           \u001b[0m \u001b[36mtest_acc\u001b[0m=\u001b[35m0.8968749642372131\u001b[0m \u001b[36mtest_loss\u001b[0m=\u001b[35m0.40226879715919495\u001b[0m\n",
      "Uth----------- tensor(0.7096)\n",
      "[881-MainThread  ] [baal.modelwrapper:predict_on_dataset_generator:819] \u001b[2m2024-04-15T01:19:43.054793Z\u001b[0m [\u001b[32m\u001b[1minfo     \u001b[0m] \u001b[1mStart Predict                 \u001b[0m \u001b[36mdataset\u001b[0m=\u001b[35m450\u001b[0m\n",
      "\n",
      "  0%|          | 0/45 [00:00<?, ?it/s]\u001b[A\n",
      "  2%|▏         | 1/45 [00:00<00:17,  2.57it/s]\u001b[A\n",
      "  9%|▉         | 4/45 [00:00<00:04,  9.42it/s]\u001b[A\n",
      " 16%|█▌        | 7/45 [00:00<00:02, 13.93it/s]\u001b[A\n",
      " 22%|██▏       | 10/45 [00:00<00:02, 17.12it/s]\u001b[A\n",
      " 29%|██▉       | 13/45 [00:00<00:01, 19.33it/s]\u001b[A\n",
      " 36%|███▌      | 16/45 [00:01<00:01, 20.91it/s]\u001b[A\n",
      " 42%|████▏     | 19/45 [00:01<00:01, 21.98it/s]\u001b[A\n",
      " 49%|████▉     | 22/45 [00:01<00:01, 22.76it/s]\u001b[A\n",
      " 56%|█████▌    | 25/45 [00:01<00:00, 23.29it/s]\u001b[A\n",
      " 62%|██████▏   | 28/45 [00:01<00:00, 23.70it/s]\u001b[A\n",
      " 69%|██████▉   | 31/45 [00:01<00:00, 23.95it/s]\u001b[A\n",
      " 76%|███████▌  | 34/45 [00:01<00:00, 24.05it/s]\u001b[A\n",
      " 82%|████████▏ | 37/45 [00:01<00:00, 24.21it/s]\u001b[A\n",
      " 89%|████████▉ | 40/45 [00:01<00:00, 24.28it/s]\u001b[A\n",
      "100%|██████████| 45/45 [00:02<00:00, 19.77it/s]\u001b[A"
     ]
    },
    {
     "name": "stderr",
     "output_type": "stream",
     "text": [
      " 15%|█▌        | 8/53 [01:20<07:49, 10.43s/it]"
     ]
    },
    {
     "name": "stdout",
     "output_type": "stream",
     "text": [
      "\n",
      "{'dataset_size': 80,\n",
      " 'test_accuracy': 0.8968749642372131,\n",
      " 'test_loss': 0.40226879715919495,\n",
      " 'train_accuracy': 0.90625,\n",
      " 'train_loss': 0.3638102114200592}\n",
      "[881-MainThread  ] [baal.modelwrapper:train_on_dataset:654] \u001b[2m2024-04-15T01:19:45.339820Z\u001b[0m [\u001b[32m\u001b[1minfo     \u001b[0m] \u001b[1mStarting training             \u001b[0m \u001b[36mdataset\u001b[0m=\u001b[35m90\u001b[0m \u001b[36mepoch\u001b[0m=\u001b[35m10\u001b[0m\n",
      "[881-MainThread  ] [baal.modelwrapper:train_on_dataset:666] \u001b[2m2024-04-15T01:19:52.053317Z\u001b[0m [\u001b[32m\u001b[1minfo     \u001b[0m] \u001b[1mTraining complete             \u001b[0m \u001b[36mtrain_acc\u001b[0m=\u001b[35m0.7852563858032227\u001b[0m \u001b[36mtrain_loss\u001b[0m=\u001b[35m0.4434284269809723\u001b[0m\n",
      "[881-MainThread  ] [baal.modelwrapper:test_on_dataset:696] \u001b[2m2024-04-15T01:19:52.057646Z\u001b[0m [\u001b[32m\u001b[1minfo     \u001b[0m] \u001b[1mStarting evaluating           \u001b[0m \u001b[36mdataset\u001b[0m=\u001b[35m175\u001b[0m\n",
      "[881-MainThread  ] [baal.modelwrapper:test_on_dataset:720] \u001b[2m2024-04-15T01:19:53.186157Z\u001b[0m [\u001b[32m\u001b[1minfo     \u001b[0m] \u001b[1mEvaluation complete           \u001b[0m \u001b[36mtest_acc\u001b[0m=\u001b[35m0.8857638835906982\u001b[0m \u001b[36mtest_loss\u001b[0m=\u001b[35m0.4304652214050293\u001b[0m\n",
      "Uth----------- tensor(0.6871)\n",
      "[881-MainThread  ] [baal.modelwrapper:predict_on_dataset_generator:819] \u001b[2m2024-04-15T01:19:53.193400Z\u001b[0m [\u001b[32m\u001b[1minfo     \u001b[0m] \u001b[1mStart Predict                 \u001b[0m \u001b[36mdataset\u001b[0m=\u001b[35m440\u001b[0m\n",
      "\n",
      "  0%|          | 0/44 [00:00<?, ?it/s]\u001b[A\n",
      "  2%|▏         | 1/44 [00:00<00:16,  2.68it/s]\u001b[A\n",
      "  9%|▉         | 4/44 [00:00<00:04,  9.59it/s]\u001b[A\n",
      " 16%|█▌        | 7/44 [00:00<00:02, 14.30it/s]\u001b[A\n",
      " 23%|██▎       | 10/44 [00:00<00:01, 17.55it/s]\u001b[A\n",
      " 30%|██▉       | 13/44 [00:00<00:01, 19.74it/s]\u001b[A\n",
      " 36%|███▋      | 16/44 [00:00<00:01, 21.13it/s]\u001b[A\n",
      " 43%|████▎     | 19/44 [00:01<00:01, 21.90it/s]\u001b[A\n",
      " 50%|█████     | 22/44 [00:01<00:00, 22.69it/s]\u001b[A\n",
      " 57%|█████▋    | 25/44 [00:01<00:00, 23.14it/s]\u001b[A\n",
      " 64%|██████▎   | 28/44 [00:01<00:00, 23.71it/s]\u001b[A\n",
      " 70%|███████   | 31/44 [00:01<00:00, 23.79it/s]\u001b[A\n",
      " 77%|███████▋  | 34/44 [00:01<00:00, 24.04it/s]\u001b[A\n",
      " 84%|████████▍ | 37/44 [00:01<00:00, 24.21it/s]\u001b[A\n",
      " 91%|█████████ | 40/44 [00:01<00:00, 24.33it/s]\u001b[A\n",
      "100%|██████████| 44/44 [00:02<00:00, 20.12it/s]\u001b[A"
     ]
    },
    {
     "name": "stderr",
     "output_type": "stream",
     "text": [
      " 17%|█▋        | 9/53 [01:30<07:33, 10.31s/it]"
     ]
    },
    {
     "name": "stdout",
     "output_type": "stream",
     "text": [
      "\n",
      "{'dataset_size': 90,\n",
      " 'test_accuracy': 0.8857638835906982,\n",
      " 'test_loss': 0.4304652214050293,\n",
      " 'train_accuracy': 0.7852563858032227,\n",
      " 'train_loss': 0.4434284269809723}\n",
      "[881-MainThread  ] [baal.modelwrapper:train_on_dataset:654] \u001b[2m2024-04-15T01:19:55.393145Z\u001b[0m [\u001b[32m\u001b[1minfo     \u001b[0m] \u001b[1mStarting training             \u001b[0m \u001b[36mdataset\u001b[0m=\u001b[35m100\u001b[0m \u001b[36mepoch\u001b[0m=\u001b[35m10\u001b[0m\n",
      "[881-MainThread  ] [baal.modelwrapper:train_on_dataset:666] \u001b[2m2024-04-15T01:20:02.021820Z\u001b[0m [\u001b[32m\u001b[1minfo     \u001b[0m] \u001b[1mTraining complete             \u001b[0m \u001b[36mtrain_acc\u001b[0m=\u001b[35m0.8046875\u001b[0m \u001b[36mtrain_loss\u001b[0m=\u001b[35m0.43004608154296875\u001b[0m\n",
      "[881-MainThread  ] [baal.modelwrapper:test_on_dataset:696] \u001b[2m2024-04-15T01:20:02.023991Z\u001b[0m [\u001b[32m\u001b[1minfo     \u001b[0m] \u001b[1mStarting evaluating           \u001b[0m \u001b[36mdataset\u001b[0m=\u001b[35m175\u001b[0m\n",
      "[881-MainThread  ] [baal.modelwrapper:test_on_dataset:720] \u001b[2m2024-04-15T01:20:03.144940Z\u001b[0m [\u001b[32m\u001b[1minfo     \u001b[0m] \u001b[1mEvaluation complete           \u001b[0m \u001b[36mtest_acc\u001b[0m=\u001b[35m0.8968749642372131\u001b[0m \u001b[36mtest_loss\u001b[0m=\u001b[35m0.38742342591285706\u001b[0m\n",
      "Uth----------- tensor(0.6665)\n",
      "[881-MainThread  ] [baal.modelwrapper:predict_on_dataset_generator:819] \u001b[2m2024-04-15T01:20:03.151534Z\u001b[0m [\u001b[32m\u001b[1minfo     \u001b[0m] \u001b[1mStart Predict                 \u001b[0m \u001b[36mdataset\u001b[0m=\u001b[35m430\u001b[0m\n",
      "\n",
      "  0%|          | 0/43 [00:00<?, ?it/s]\u001b[A\n",
      "  2%|▏         | 1/43 [00:00<00:16,  2.59it/s]\u001b[A\n",
      "  9%|▉         | 4/43 [00:00<00:04,  9.47it/s]\u001b[A\n",
      " 16%|█▋        | 7/43 [00:00<00:02, 14.14it/s]\u001b[A\n",
      " 23%|██▎       | 10/43 [00:00<00:01, 17.38it/s]\u001b[A\n",
      " 30%|███       | 13/43 [00:00<00:01, 19.52it/s]\u001b[A\n",
      " 37%|███▋      | 16/43 [00:01<00:01, 20.78it/s]\u001b[A\n",
      " 44%|████▍     | 19/43 [00:01<00:01, 21.91it/s]\u001b[A\n",
      " 51%|█████     | 22/43 [00:01<00:00, 22.56it/s]\u001b[A\n",
      " 58%|█████▊    | 25/43 [00:01<00:00, 23.00it/s]\u001b[A\n",
      " 65%|██████▌   | 28/43 [00:01<00:00, 23.56it/s]\u001b[A\n",
      " 72%|███████▏  | 31/43 [00:01<00:00, 23.87it/s]\u001b[A\n",
      " 79%|███████▉  | 34/43 [00:01<00:00, 23.72it/s]\u001b[A\n",
      " 86%|████████▌ | 37/43 [00:01<00:00, 24.00it/s]\u001b[A\n",
      " 93%|█████████▎| 40/43 [00:01<00:00, 24.21it/s]\u001b[A\n",
      "100%|██████████| 43/43 [00:02<00:00, 19.61it/s]\u001b[A"
     ]
    },
    {
     "name": "stderr",
     "output_type": "stream",
     "text": [
      " 19%|█▉        | 10/53 [01:40<07:18, 10.20s/it]"
     ]
    },
    {
     "name": "stdout",
     "output_type": "stream",
     "text": [
      "\n",
      "{'dataset_size': 100,\n",
      " 'test_accuracy': 0.8968749642372131,\n",
      " 'test_loss': 0.38742342591285706,\n",
      " 'train_accuracy': 0.8046875,\n",
      " 'train_loss': 0.43004608154296875}\n",
      "[881-MainThread  ] [baal.modelwrapper:train_on_dataset:654] \u001b[2m2024-04-15T01:20:05.353829Z\u001b[0m [\u001b[32m\u001b[1minfo     \u001b[0m] \u001b[1mStarting training             \u001b[0m \u001b[36mdataset\u001b[0m=\u001b[35m110\u001b[0m \u001b[36mepoch\u001b[0m=\u001b[35m10\u001b[0m\n",
      "[881-MainThread  ] [baal.modelwrapper:train_on_dataset:666] \u001b[2m2024-04-15T01:20:12.143233Z\u001b[0m [\u001b[32m\u001b[1minfo     \u001b[0m] \u001b[1mTraining complete             \u001b[0m \u001b[36mtrain_acc\u001b[0m=\u001b[35m0.8939732313156128\u001b[0m \u001b[36mtrain_loss\u001b[0m=\u001b[35m0.32759782671928406\u001b[0m\n",
      "[881-MainThread  ] [baal.modelwrapper:test_on_dataset:696] \u001b[2m2024-04-15T01:20:12.146097Z\u001b[0m [\u001b[32m\u001b[1minfo     \u001b[0m] \u001b[1mStarting evaluating           \u001b[0m \u001b[36mdataset\u001b[0m=\u001b[35m175\u001b[0m\n",
      "[881-MainThread  ] [baal.modelwrapper:test_on_dataset:720] \u001b[2m2024-04-15T01:20:13.232664Z\u001b[0m [\u001b[32m\u001b[1minfo     \u001b[0m] \u001b[1mEvaluation complete           \u001b[0m \u001b[36mtest_acc\u001b[0m=\u001b[35m0.9079861640930176\u001b[0m \u001b[36mtest_loss\u001b[0m=\u001b[35m0.35963085293769836\u001b[0m\n",
      "Uth----------- tensor(0.6978)\n",
      "[881-MainThread  ] [baal.modelwrapper:predict_on_dataset_generator:819] \u001b[2m2024-04-15T01:20:13.239439Z\u001b[0m [\u001b[32m\u001b[1minfo     \u001b[0m] \u001b[1mStart Predict                 \u001b[0m \u001b[36mdataset\u001b[0m=\u001b[35m420\u001b[0m\n",
      "\n",
      "  0%|          | 0/42 [00:00<?, ?it/s]\u001b[A\n",
      "  2%|▏         | 1/42 [00:00<00:15,  2.70it/s]\u001b[A\n",
      " 10%|▉         | 4/42 [00:00<00:03,  9.75it/s]\u001b[A\n",
      " 17%|█▋        | 7/42 [00:00<00:02, 14.45it/s]\u001b[A\n",
      " 24%|██▍       | 10/42 [00:00<00:01, 17.67it/s]\u001b[A\n",
      " 31%|███       | 13/42 [00:00<00:01, 19.70it/s]\u001b[A\n",
      " 38%|███▊      | 16/42 [00:00<00:01, 21.15it/s]\u001b[A\n",
      " 45%|████▌     | 19/42 [00:01<00:01, 22.15it/s]\u001b[A\n",
      " 52%|█████▏    | 22/42 [00:01<00:00, 22.82it/s]\u001b[A\n",
      " 60%|█████▉    | 25/42 [00:01<00:00, 23.25it/s]\u001b[A\n",
      " 67%|██████▋   | 28/42 [00:01<00:00, 23.74it/s]\u001b[A\n",
      " 74%|███████▍  | 31/42 [00:01<00:00, 23.99it/s]\u001b[A\n",
      " 81%|████████  | 34/42 [00:01<00:00, 24.14it/s]\u001b[A\n",
      " 88%|████████▊ | 37/42 [00:01<00:00, 24.23it/s]\u001b[A\n",
      "100%|██████████| 42/42 [00:02<00:00, 19.84it/s]\u001b[A"
     ]
    },
    {
     "name": "stderr",
     "output_type": "stream",
     "text": [
      " 21%|██        | 11/53 [01:50<07:06, 10.14s/it]"
     ]
    },
    {
     "name": "stdout",
     "output_type": "stream",
     "text": [
      "\n",
      "{'dataset_size': 110,\n",
      " 'test_accuracy': 0.9079861640930176,\n",
      " 'test_loss': 0.35963085293769836,\n",
      " 'train_accuracy': 0.8939732313156128,\n",
      " 'train_loss': 0.32759782671928406}\n",
      "[881-MainThread  ] [baal.modelwrapper:train_on_dataset:654] \u001b[2m2024-04-15T01:20:15.365376Z\u001b[0m [\u001b[32m\u001b[1minfo     \u001b[0m] \u001b[1mStarting training             \u001b[0m \u001b[36mdataset\u001b[0m=\u001b[35m120\u001b[0m \u001b[36mepoch\u001b[0m=\u001b[35m10\u001b[0m\n",
      "[881-MainThread  ] [baal.modelwrapper:train_on_dataset:666] \u001b[2m2024-04-15T01:20:22.232731Z\u001b[0m [\u001b[32m\u001b[1minfo     \u001b[0m] \u001b[1mTraining complete             \u001b[0m \u001b[36mtrain_acc\u001b[0m=\u001b[35m0.8333333730697632\u001b[0m \u001b[36mtrain_loss\u001b[0m=\u001b[35m0.41869476437568665\u001b[0m\n",
      "[881-MainThread  ] [baal.modelwrapper:test_on_dataset:696] \u001b[2m2024-04-15T01:20:22.236686Z\u001b[0m [\u001b[32m\u001b[1minfo     \u001b[0m] \u001b[1mStarting evaluating           \u001b[0m \u001b[36mdataset\u001b[0m=\u001b[35m175\u001b[0m\n",
      "[881-MainThread  ] [baal.modelwrapper:test_on_dataset:720] \u001b[2m2024-04-15T01:20:23.297680Z\u001b[0m [\u001b[32m\u001b[1minfo     \u001b[0m] \u001b[1mEvaluation complete           \u001b[0m \u001b[36mtest_acc\u001b[0m=\u001b[35m0.925694465637207\u001b[0m \u001b[36mtest_loss\u001b[0m=\u001b[35m0.35379138588905334\u001b[0m\n",
      "Uth----------- tensor(0.6615)\n",
      "[881-MainThread  ] [baal.modelwrapper:predict_on_dataset_generator:819] \u001b[2m2024-04-15T01:20:23.304991Z\u001b[0m [\u001b[32m\u001b[1minfo     \u001b[0m] \u001b[1mStart Predict                 \u001b[0m \u001b[36mdataset\u001b[0m=\u001b[35m410\u001b[0m\n",
      "\n",
      "  0%|          | 0/41 [00:00<?, ?it/s]\u001b[A\n",
      "  2%|▏         | 1/41 [00:00<00:15,  2.51it/s]\u001b[A\n",
      " 10%|▉         | 4/41 [00:00<00:03,  9.29it/s]\u001b[A\n",
      " 17%|█▋        | 7/41 [00:00<00:02, 13.97it/s]\u001b[A\n",
      " 24%|██▍       | 10/41 [00:00<00:01, 17.26it/s]\u001b[A\n",
      " 32%|███▏      | 13/41 [00:00<00:01, 19.50it/s]\u001b[A\n",
      " 39%|███▉      | 16/41 [00:01<00:01, 21.05it/s]\u001b[A\n",
      " 46%|████▋     | 19/41 [00:01<00:00, 22.14it/s]\u001b[A\n",
      " 54%|█████▎    | 22/41 [00:01<00:00, 22.92it/s]\u001b[A\n",
      " 61%|██████    | 25/41 [00:01<00:00, 23.42it/s]\u001b[A\n",
      " 68%|██████▊   | 28/41 [00:01<00:00, 23.87it/s]\u001b[A\n",
      " 76%|███████▌  | 31/41 [00:01<00:00, 24.08it/s]\u001b[A\n",
      " 83%|████████▎ | 34/41 [00:01<00:00, 24.22it/s]\u001b[A\n",
      " 90%|█████████ | 37/41 [00:01<00:00, 24.33it/s]\u001b[A\n",
      "100%|██████████| 41/41 [00:02<00:00, 19.72it/s]\u001b[A"
     ]
    },
    {
     "name": "stderr",
     "output_type": "stream",
     "text": [
      " 23%|██▎       | 12/53 [02:00<06:54, 10.11s/it]"
     ]
    },
    {
     "name": "stdout",
     "output_type": "stream",
     "text": [
      "\n",
      "{'dataset_size': 120,\n",
      " 'test_accuracy': 0.925694465637207,\n",
      " 'test_loss': 0.35379138588905334,\n",
      " 'train_accuracy': 0.8333333730697632,\n",
      " 'train_loss': 0.41869476437568665}\n",
      "[881-MainThread  ] [baal.modelwrapper:train_on_dataset:654] \u001b[2m2024-04-15T01:20:25.392671Z\u001b[0m [\u001b[32m\u001b[1minfo     \u001b[0m] \u001b[1mStarting training             \u001b[0m \u001b[36mdataset\u001b[0m=\u001b[35m130\u001b[0m \u001b[36mepoch\u001b[0m=\u001b[35m10\u001b[0m\n",
      "[881-MainThread  ] [baal.modelwrapper:train_on_dataset:666] \u001b[2m2024-04-15T01:20:32.423217Z\u001b[0m [\u001b[32m\u001b[1minfo     \u001b[0m] \u001b[1mTraining complete             \u001b[0m \u001b[36mtrain_acc\u001b[0m=\u001b[35m0.893750011920929\u001b[0m \u001b[36mtrain_loss\u001b[0m=\u001b[35m0.38077443838119507\u001b[0m\n",
      "[881-MainThread  ] [baal.modelwrapper:test_on_dataset:696] \u001b[2m2024-04-15T01:20:32.425061Z\u001b[0m [\u001b[32m\u001b[1minfo     \u001b[0m] \u001b[1mStarting evaluating           \u001b[0m \u001b[36mdataset\u001b[0m=\u001b[35m175\u001b[0m\n",
      "[881-MainThread  ] [baal.modelwrapper:test_on_dataset:720] \u001b[2m2024-04-15T01:20:33.507563Z\u001b[0m [\u001b[32m\u001b[1minfo     \u001b[0m] \u001b[1mEvaluation complete           \u001b[0m \u001b[36mtest_acc\u001b[0m=\u001b[35m0.893750011920929\u001b[0m \u001b[36mtest_loss\u001b[0m=\u001b[35m0.3633088171482086\u001b[0m\n",
      "Uth----------- tensor(0.6430)\n",
      "[881-MainThread  ] [baal.modelwrapper:predict_on_dataset_generator:819] \u001b[2m2024-04-15T01:20:33.513908Z\u001b[0m [\u001b[32m\u001b[1minfo     \u001b[0m] \u001b[1mStart Predict                 \u001b[0m \u001b[36mdataset\u001b[0m=\u001b[35m400\u001b[0m\n",
      "\n",
      "  0%|          | 0/40 [00:00<?, ?it/s]\u001b[A\n",
      "  2%|▎         | 1/40 [00:00<00:14,  2.76it/s]\u001b[A\n",
      " 10%|█         | 4/40 [00:00<00:03,  9.88it/s]\u001b[A\n",
      " 18%|█▊        | 7/40 [00:00<00:02, 14.56it/s]\u001b[A\n",
      " 25%|██▌       | 10/40 [00:00<00:01, 17.76it/s]\u001b[A\n",
      " 32%|███▎      | 13/40 [00:00<00:01, 19.88it/s]\u001b[A\n",
      " 40%|████      | 16/40 [00:00<00:01, 21.31it/s]\u001b[A\n",
      " 48%|████▊     | 19/40 [00:01<00:00, 22.33it/s]\u001b[A\n",
      " 55%|█████▌    | 22/40 [00:01<00:00, 22.88it/s]\u001b[A\n",
      " 62%|██████▎   | 25/40 [00:01<00:00, 23.36it/s]\u001b[A\n",
      " 70%|███████   | 28/40 [00:01<00:00, 23.81it/s]\u001b[A\n",
      " 78%|███████▊  | 31/40 [00:01<00:00, 24.05it/s]\u001b[A\n",
      " 85%|████████▌ | 34/40 [00:01<00:00, 24.25it/s]\u001b[A\n",
      " 92%|█████████▎| 37/40 [00:01<00:00, 24.36it/s]\u001b[A\n",
      "100%|██████████| 40/40 [00:02<00:00, 19.62it/s]\u001b[A"
     ]
    },
    {
     "name": "stderr",
     "output_type": "stream",
     "text": [
      " 25%|██▍       | 13/53 [02:10<06:45, 10.13s/it]"
     ]
    },
    {
     "name": "stdout",
     "output_type": "stream",
     "text": [
      "\n",
      "{'dataset_size': 130,\n",
      " 'test_accuracy': 0.893750011920929,\n",
      " 'test_loss': 0.3633088171482086,\n",
      " 'train_accuracy': 0.893750011920929,\n",
      " 'train_loss': 0.38077443838119507}\n",
      "[881-MainThread  ] [baal.modelwrapper:train_on_dataset:654] \u001b[2m2024-04-15T01:20:35.561743Z\u001b[0m [\u001b[32m\u001b[1minfo     \u001b[0m] \u001b[1mStarting training             \u001b[0m \u001b[36mdataset\u001b[0m=\u001b[35m140\u001b[0m \u001b[36mepoch\u001b[0m=\u001b[35m10\u001b[0m\n",
      "[881-MainThread  ] [baal.modelwrapper:train_on_dataset:666] \u001b[2m2024-04-15T01:20:42.631257Z\u001b[0m [\u001b[32m\u001b[1minfo     \u001b[0m] \u001b[1mTraining complete             \u001b[0m \u001b[36mtrain_acc\u001b[0m=\u001b[35m0.8645833730697632\u001b[0m \u001b[36mtrain_loss\u001b[0m=\u001b[35m0.365802139043808\u001b[0m\n",
      "[881-MainThread  ] [baal.modelwrapper:test_on_dataset:696] \u001b[2m2024-04-15T01:20:42.634044Z\u001b[0m [\u001b[32m\u001b[1minfo     \u001b[0m] \u001b[1mStarting evaluating           \u001b[0m \u001b[36mdataset\u001b[0m=\u001b[35m175\u001b[0m\n",
      "[881-MainThread  ] [baal.modelwrapper:test_on_dataset:720] \u001b[2m2024-04-15T01:20:43.725436Z\u001b[0m [\u001b[32m\u001b[1minfo     \u001b[0m] \u001b[1mEvaluation complete           \u001b[0m \u001b[36mtest_acc\u001b[0m=\u001b[35m0.8736111521720886\u001b[0m \u001b[36mtest_loss\u001b[0m=\u001b[35m0.3870314359664917\u001b[0m\n",
      "Uth----------- tensor(0.6847)\n",
      "[881-MainThread  ] [baal.modelwrapper:predict_on_dataset_generator:819] \u001b[2m2024-04-15T01:20:43.731925Z\u001b[0m [\u001b[32m\u001b[1minfo     \u001b[0m] \u001b[1mStart Predict                 \u001b[0m \u001b[36mdataset\u001b[0m=\u001b[35m390\u001b[0m\n",
      "\n",
      "  0%|          | 0/39 [00:00<?, ?it/s]\u001b[A\n",
      "  3%|▎         | 1/39 [00:00<00:13,  2.76it/s]\u001b[A\n",
      " 10%|█         | 4/39 [00:00<00:03,  9.87it/s]\u001b[A\n",
      " 18%|█▊        | 7/39 [00:00<00:02, 14.59it/s]\u001b[A\n",
      " 26%|██▌       | 10/39 [00:00<00:01, 17.77it/s]\u001b[A\n",
      " 33%|███▎      | 13/39 [00:00<00:01, 19.88it/s]\u001b[A\n",
      " 41%|████      | 16/39 [00:00<00:01, 21.33it/s]\u001b[A\n",
      " 49%|████▊     | 19/39 [00:01<00:00, 22.29it/s]\u001b[A\n",
      " 56%|█████▋    | 22/39 [00:01<00:00, 22.95it/s]\u001b[A\n",
      " 64%|██████▍   | 25/39 [00:01<00:00, 23.50it/s]\u001b[A\n",
      " 72%|███████▏  | 28/39 [00:01<00:00, 23.86it/s]\u001b[A\n",
      " 79%|███████▉  | 31/39 [00:01<00:00, 24.05it/s]\u001b[A\n",
      " 87%|████████▋ | 34/39 [00:01<00:00, 24.25it/s]\u001b[A\n",
      "100%|██████████| 39/39 [00:01<00:00, 19.95it/s]\u001b[A"
     ]
    },
    {
     "name": "stderr",
     "output_type": "stream",
     "text": [
      " 26%|██▋       | 14/53 [02:20<06:35, 10.13s/it]"
     ]
    },
    {
     "name": "stdout",
     "output_type": "stream",
     "text": [
      "\n",
      "{'dataset_size': 140,\n",
      " 'test_accuracy': 0.8736111521720886,\n",
      " 'test_loss': 0.3870314359664917,\n",
      " 'train_accuracy': 0.8645833730697632,\n",
      " 'train_loss': 0.365802139043808}\n",
      "[881-MainThread  ] [baal.modelwrapper:train_on_dataset:654] \u001b[2m2024-04-15T01:20:45.695474Z\u001b[0m [\u001b[32m\u001b[1minfo     \u001b[0m] \u001b[1mStarting training             \u001b[0m \u001b[36mdataset\u001b[0m=\u001b[35m150\u001b[0m \u001b[36mepoch\u001b[0m=\u001b[35m10\u001b[0m\n",
      "[881-MainThread  ] [baal.modelwrapper:train_on_dataset:666] \u001b[2m2024-04-15T01:20:53.317267Z\u001b[0m [\u001b[32m\u001b[1minfo     \u001b[0m] \u001b[1mTraining complete             \u001b[0m \u001b[36mtrain_acc\u001b[0m=\u001b[35m0.8204545974731445\u001b[0m \u001b[36mtrain_loss\u001b[0m=\u001b[35m0.41453367471694946\u001b[0m\n",
      "[881-MainThread  ] [baal.modelwrapper:test_on_dataset:696] \u001b[2m2024-04-15T01:20:53.322296Z\u001b[0m [\u001b[32m\u001b[1minfo     \u001b[0m] \u001b[1mStarting evaluating           \u001b[0m \u001b[36mdataset\u001b[0m=\u001b[35m175\u001b[0m\n",
      "[881-MainThread  ] [baal.modelwrapper:test_on_dataset:720] \u001b[2m2024-04-15T01:20:54.459061Z\u001b[0m [\u001b[32m\u001b[1minfo     \u001b[0m] \u001b[1mEvaluation complete           \u001b[0m \u001b[36mtest_acc\u001b[0m=\u001b[35m0.9263889193534851\u001b[0m \u001b[36mtest_loss\u001b[0m=\u001b[35m0.33798491954803467\u001b[0m\n",
      "Uth----------- tensor(0.6924)\n",
      "[881-MainThread  ] [baal.modelwrapper:predict_on_dataset_generator:819] \u001b[2m2024-04-15T01:20:54.466098Z\u001b[0m [\u001b[32m\u001b[1minfo     \u001b[0m] \u001b[1mStart Predict                 \u001b[0m \u001b[36mdataset\u001b[0m=\u001b[35m380\u001b[0m\n",
      "\n",
      "  0%|          | 0/38 [00:00<?, ?it/s]\u001b[A\n",
      "  3%|▎         | 1/38 [00:00<00:15,  2.37it/s]\u001b[A\n",
      " 11%|█         | 4/38 [00:00<00:03,  8.88it/s]\u001b[A\n",
      " 18%|█▊        | 7/38 [00:00<00:02, 13.50it/s]\u001b[A\n",
      " 26%|██▋       | 10/38 [00:00<00:01, 16.84it/s]\u001b[A\n",
      " 34%|███▍      | 13/38 [00:00<00:01, 19.17it/s]\u001b[A\n",
      " 42%|████▏     | 16/38 [00:01<00:01, 20.81it/s]\u001b[A\n",
      " 50%|█████     | 19/38 [00:01<00:00, 21.98it/s]\u001b[A\n",
      " 58%|█████▊    | 22/38 [00:01<00:00, 22.72it/s]\u001b[A\n",
      " 66%|██████▌   | 25/38 [00:01<00:00, 23.45it/s]\u001b[A\n",
      " 74%|███████▎  | 28/38 [00:01<00:00, 23.57it/s]\u001b[A\n",
      " 82%|████████▏ | 31/38 [00:01<00:00, 23.89it/s]\u001b[A\n",
      " 89%|████████▉ | 34/38 [00:01<00:00, 24.12it/s]\u001b[A\n",
      "100%|██████████| 38/38 [00:02<00:00, 18.87it/s]\u001b[A"
     ]
    },
    {
     "name": "stderr",
     "output_type": "stream",
     "text": [
      " 28%|██▊       | 15/53 [02:31<06:32, 10.33s/it]"
     ]
    },
    {
     "name": "stdout",
     "output_type": "stream",
     "text": [
      "\n",
      "{'dataset_size': 150,\n",
      " 'test_accuracy': 0.9263889193534851,\n",
      " 'test_loss': 0.33798491954803467,\n",
      " 'train_accuracy': 0.8204545974731445,\n",
      " 'train_loss': 0.41453367471694946}\n",
      "[881-MainThread  ] [baal.modelwrapper:train_on_dataset:654] \u001b[2m2024-04-15T01:20:56.490802Z\u001b[0m [\u001b[32m\u001b[1minfo     \u001b[0m] \u001b[1mStarting training             \u001b[0m \u001b[36mdataset\u001b[0m=\u001b[35m160\u001b[0m \u001b[36mepoch\u001b[0m=\u001b[35m10\u001b[0m\n",
      "[881-MainThread  ] [baal.modelwrapper:train_on_dataset:666] \u001b[2m2024-04-15T01:21:05.174679Z\u001b[0m [\u001b[32m\u001b[1minfo     \u001b[0m] \u001b[1mTraining complete             \u001b[0m \u001b[36mtrain_acc\u001b[0m=\u001b[35m0.824999988079071\u001b[0m \u001b[36mtrain_loss\u001b[0m=\u001b[35m0.40871042013168335\u001b[0m\n",
      "[881-MainThread  ] [baal.modelwrapper:test_on_dataset:696] \u001b[2m2024-04-15T01:21:05.179162Z\u001b[0m [\u001b[32m\u001b[1minfo     \u001b[0m] \u001b[1mStarting evaluating           \u001b[0m \u001b[36mdataset\u001b[0m=\u001b[35m175\u001b[0m\n",
      "[881-MainThread  ] [baal.modelwrapper:test_on_dataset:720] \u001b[2m2024-04-15T01:21:06.339106Z\u001b[0m [\u001b[32m\u001b[1minfo     \u001b[0m] \u001b[1mEvaluation complete           \u001b[0m \u001b[36mtest_acc\u001b[0m=\u001b[35m0.9197916984558105\u001b[0m \u001b[36mtest_loss\u001b[0m=\u001b[35m0.34767982363700867\u001b[0m\n",
      "Uth----------- tensor(0.6680)\n",
      "[881-MainThread  ] [baal.modelwrapper:predict_on_dataset_generator:819] \u001b[2m2024-04-15T01:21:06.345827Z\u001b[0m [\u001b[32m\u001b[1minfo     \u001b[0m] \u001b[1mStart Predict                 \u001b[0m \u001b[36mdataset\u001b[0m=\u001b[35m370\u001b[0m\n",
      "\n",
      "  0%|          | 0/37 [00:00<?, ?it/s]\u001b[A\n",
      "  3%|▎         | 1/37 [00:00<00:13,  2.70it/s]\u001b[A\n",
      " 11%|█         | 4/37 [00:00<00:03,  9.72it/s]\u001b[A\n",
      " 19%|█▉        | 7/37 [00:00<00:02, 14.45it/s]\u001b[A\n",
      " 27%|██▋       | 10/37 [00:00<00:01, 17.71it/s]\u001b[A\n",
      " 35%|███▌      | 13/37 [00:00<00:01, 19.59it/s]\u001b[A\n",
      " 43%|████▎     | 16/37 [00:00<00:00, 21.07it/s]\u001b[A\n",
      " 51%|█████▏    | 19/37 [00:01<00:00, 22.06it/s]\u001b[A\n",
      " 59%|█████▉    | 22/37 [00:01<00:00, 22.74it/s]\u001b[A\n",
      " 68%|██████▊   | 25/37 [00:01<00:00, 23.02it/s]\u001b[A\n",
      " 76%|███████▌  | 28/37 [00:01<00:00, 23.51it/s]\u001b[A\n",
      " 84%|████████▍ | 31/37 [00:01<00:00, 23.82it/s]\u001b[A\n",
      " 92%|█████████▏| 34/37 [00:01<00:00, 24.08it/s]\u001b[A\n",
      "100%|██████████| 37/37 [00:01<00:00, 19.52it/s]\u001b[A"
     ]
    },
    {
     "name": "stderr",
     "output_type": "stream",
     "text": [
      " 30%|███       | 16/53 [02:43<06:38, 10.76s/it]"
     ]
    },
    {
     "name": "stdout",
     "output_type": "stream",
     "text": [
      "\n",
      "{'dataset_size': 160,\n",
      " 'test_accuracy': 0.9197916984558105,\n",
      " 'test_loss': 0.34767982363700867,\n",
      " 'train_accuracy': 0.824999988079071,\n",
      " 'train_loss': 0.40871042013168335}\n",
      "[881-MainThread  ] [baal.modelwrapper:train_on_dataset:654] \u001b[2m2024-04-15T01:21:08.249915Z\u001b[0m [\u001b[32m\u001b[1minfo     \u001b[0m] \u001b[1mStarting training             \u001b[0m \u001b[36mdataset\u001b[0m=\u001b[35m170\u001b[0m \u001b[36mepoch\u001b[0m=\u001b[35m10\u001b[0m\n",
      "[881-MainThread  ] [baal.modelwrapper:train_on_dataset:666] \u001b[2m2024-04-15T01:21:16.873982Z\u001b[0m [\u001b[32m\u001b[1minfo     \u001b[0m] \u001b[1mTraining complete             \u001b[0m \u001b[36mtrain_acc\u001b[0m=\u001b[35m0.8843750357627869\u001b[0m \u001b[36mtrain_loss\u001b[0m=\u001b[35m0.3609232008457184\u001b[0m\n",
      "[881-MainThread  ] [baal.modelwrapper:test_on_dataset:696] \u001b[2m2024-04-15T01:21:16.876847Z\u001b[0m [\u001b[32m\u001b[1minfo     \u001b[0m] \u001b[1mStarting evaluating           \u001b[0m \u001b[36mdataset\u001b[0m=\u001b[35m175\u001b[0m\n",
      "[881-MainThread  ] [baal.modelwrapper:test_on_dataset:720] \u001b[2m2024-04-15T01:21:17.953985Z\u001b[0m [\u001b[32m\u001b[1minfo     \u001b[0m] \u001b[1mEvaluation complete           \u001b[0m \u001b[36mtest_acc\u001b[0m=\u001b[35m0.9190972447395325\u001b[0m \u001b[36mtest_loss\u001b[0m=\u001b[35m0.30009591579437256\u001b[0m\n",
      "Uth----------- tensor(0.5967)\n",
      "[881-MainThread  ] [baal.modelwrapper:predict_on_dataset_generator:819] \u001b[2m2024-04-15T01:21:17.960854Z\u001b[0m [\u001b[32m\u001b[1minfo     \u001b[0m] \u001b[1mStart Predict                 \u001b[0m \u001b[36mdataset\u001b[0m=\u001b[35m360\u001b[0m\n",
      "\n",
      "  0%|          | 0/36 [00:00<?, ?it/s]\u001b[A\n",
      "  3%|▎         | 1/36 [00:00<00:12,  2.73it/s]\u001b[A\n",
      " 11%|█         | 4/36 [00:00<00:03,  9.81it/s]\u001b[A\n",
      " 19%|█▉        | 7/36 [00:00<00:02, 14.47it/s]\u001b[A\n",
      " 28%|██▊       | 10/36 [00:00<00:01, 17.32it/s]\u001b[A\n",
      " 36%|███▌      | 13/36 [00:00<00:01, 19.53it/s]\u001b[A\n",
      " 44%|████▍     | 16/36 [00:00<00:00, 21.03it/s]\u001b[A\n",
      " 53%|█████▎    | 19/36 [00:01<00:00, 22.14it/s]\u001b[A\n",
      " 61%|██████    | 22/36 [00:01<00:00, 22.78it/s]\u001b[A\n",
      " 69%|██████▉   | 25/36 [00:01<00:00, 23.40it/s]\u001b[A\n",
      " 78%|███████▊  | 28/36 [00:01<00:00, 23.77it/s]\u001b[A\n",
      " 86%|████████▌ | 31/36 [00:01<00:00, 24.00it/s]\u001b[A\n",
      "100%|██████████| 36/36 [00:01<00:00, 19.23it/s]\u001b[A"
     ]
    },
    {
     "name": "stderr",
     "output_type": "stream",
     "text": [
      " 32%|███▏      | 17/53 [02:54<06:36, 11.01s/it]"
     ]
    },
    {
     "name": "stdout",
     "output_type": "stream",
     "text": [
      "\n",
      "{'dataset_size': 170,\n",
      " 'test_accuracy': 0.9190972447395325,\n",
      " 'test_loss': 0.30009591579437256,\n",
      " 'train_accuracy': 0.8843750357627869,\n",
      " 'train_loss': 0.3609232008457184}\n",
      "[881-MainThread  ] [baal.modelwrapper:train_on_dataset:654] \u001b[2m2024-04-15T01:21:19.843049Z\u001b[0m [\u001b[32m\u001b[1minfo     \u001b[0m] \u001b[1mStarting training             \u001b[0m \u001b[36mdataset\u001b[0m=\u001b[35m180\u001b[0m \u001b[36mepoch\u001b[0m=\u001b[35m10\u001b[0m\n",
      "[881-MainThread  ] [baal.modelwrapper:train_on_dataset:666] \u001b[2m2024-04-15T01:21:28.531878Z\u001b[0m [\u001b[32m\u001b[1minfo     \u001b[0m] \u001b[1mTraining complete             \u001b[0m \u001b[36mtrain_acc\u001b[0m=\u001b[35m0.8541666865348816\u001b[0m \u001b[36mtrain_loss\u001b[0m=\u001b[35m0.3650049865245819\u001b[0m\n",
      "[881-MainThread  ] [baal.modelwrapper:test_on_dataset:696] \u001b[2m2024-04-15T01:21:28.535418Z\u001b[0m [\u001b[32m\u001b[1minfo     \u001b[0m] \u001b[1mStarting evaluating           \u001b[0m \u001b[36mdataset\u001b[0m=\u001b[35m175\u001b[0m\n",
      "[881-MainThread  ] [baal.modelwrapper:test_on_dataset:720] \u001b[2m2024-04-15T01:21:29.679644Z\u001b[0m [\u001b[32m\u001b[1minfo     \u001b[0m] \u001b[1mEvaluation complete           \u001b[0m \u001b[36mtest_acc\u001b[0m=\u001b[35m0.9302083849906921\u001b[0m \u001b[36mtest_loss\u001b[0m=\u001b[35m0.3136574625968933\u001b[0m\n",
      "Uth----------- tensor(0.6111)\n",
      "[881-MainThread  ] [baal.modelwrapper:predict_on_dataset_generator:819] \u001b[2m2024-04-15T01:21:29.686840Z\u001b[0m [\u001b[32m\u001b[1minfo     \u001b[0m] \u001b[1mStart Predict                 \u001b[0m \u001b[36mdataset\u001b[0m=\u001b[35m350\u001b[0m\n",
      "\n",
      "  0%|          | 0/35 [00:00<?, ?it/s]\u001b[A\n",
      "  3%|▎         | 1/35 [00:00<00:12,  2.77it/s]\u001b[A\n",
      " 11%|█▏        | 4/35 [00:00<00:03,  9.91it/s]\u001b[A\n",
      " 20%|██        | 7/35 [00:00<00:01, 14.40it/s]\u001b[A\n",
      " 29%|██▊       | 10/35 [00:00<00:01, 17.62it/s]\u001b[A\n",
      " 37%|███▋      | 13/35 [00:00<00:01, 19.79it/s]\u001b[A\n",
      " 46%|████▌     | 16/35 [00:00<00:00, 21.28it/s]\u001b[A\n",
      " 54%|█████▍    | 19/35 [00:01<00:00, 21.93it/s]\u001b[A\n",
      " 63%|██████▎   | 22/35 [00:01<00:00, 22.60it/s]\u001b[A\n",
      " 71%|███████▏  | 25/35 [00:01<00:00, 23.19it/s]\u001b[A\n",
      " 80%|████████  | 28/35 [00:01<00:00, 23.46it/s]\u001b[A\n",
      " 89%|████████▊ | 31/35 [00:01<00:00, 23.74it/s]\u001b[A\n",
      "100%|██████████| 35/35 [00:01<00:00, 18.82it/s]\u001b[A"
     ]
    },
    {
     "name": "stderr",
     "output_type": "stream",
     "text": [
      " 34%|███▍      | 18/53 [03:06<06:32, 11.22s/it]"
     ]
    },
    {
     "name": "stdout",
     "output_type": "stream",
     "text": [
      "\n",
      "{'dataset_size': 180,\n",
      " 'test_accuracy': 0.9302083849906921,\n",
      " 'test_loss': 0.3136574625968933,\n",
      " 'train_accuracy': 0.8541666865348816,\n",
      " 'train_loss': 0.3650049865245819}\n",
      "[881-MainThread  ] [baal.modelwrapper:train_on_dataset:654] \u001b[2m2024-04-15T01:21:31.556674Z\u001b[0m [\u001b[32m\u001b[1minfo     \u001b[0m] \u001b[1mStarting training             \u001b[0m \u001b[36mdataset\u001b[0m=\u001b[35m190\u001b[0m \u001b[36mepoch\u001b[0m=\u001b[35m10\u001b[0m\n",
      "[881-MainThread  ] [baal.modelwrapper:train_on_dataset:666] \u001b[2m2024-04-15T01:21:40.212916Z\u001b[0m [\u001b[32m\u001b[1minfo     \u001b[0m] \u001b[1mTraining complete             \u001b[0m \u001b[36mtrain_acc\u001b[0m=\u001b[35m0.8361110687255859\u001b[0m \u001b[36mtrain_loss\u001b[0m=\u001b[35m0.3887850344181061\u001b[0m\n",
      "[881-MainThread  ] [baal.modelwrapper:test_on_dataset:696] \u001b[2m2024-04-15T01:21:40.217545Z\u001b[0m [\u001b[32m\u001b[1minfo     \u001b[0m] \u001b[1mStarting evaluating           \u001b[0m \u001b[36mdataset\u001b[0m=\u001b[35m175\u001b[0m\n",
      "[881-MainThread  ] [baal.modelwrapper:test_on_dataset:720] \u001b[2m2024-04-15T01:21:41.394369Z\u001b[0m [\u001b[32m\u001b[1minfo     \u001b[0m] \u001b[1mEvaluation complete           \u001b[0m \u001b[36mtest_acc\u001b[0m=\u001b[35m0.941319465637207\u001b[0m \u001b[36mtest_loss\u001b[0m=\u001b[35m0.30741944909095764\u001b[0m\n",
      "Uth----------- tensor(0.6238)\n",
      "[881-MainThread  ] [baal.modelwrapper:predict_on_dataset_generator:819] \u001b[2m2024-04-15T01:21:41.400866Z\u001b[0m [\u001b[32m\u001b[1minfo     \u001b[0m] \u001b[1mStart Predict                 \u001b[0m \u001b[36mdataset\u001b[0m=\u001b[35m340\u001b[0m\n",
      "\n",
      "  0%|          | 0/34 [00:00<?, ?it/s]\u001b[A\n",
      "  3%|▎         | 1/34 [00:00<00:11,  2.77it/s]\u001b[A\n",
      " 12%|█▏        | 4/34 [00:00<00:03,  9.75it/s]\u001b[A\n",
      " 21%|██        | 7/34 [00:00<00:01, 14.37it/s]\u001b[A\n",
      " 29%|██▉       | 10/34 [00:00<00:01, 17.59it/s]\u001b[A\n",
      " 38%|███▊      | 13/34 [00:00<00:01, 19.74it/s]\u001b[A\n",
      " 47%|████▋     | 16/34 [00:00<00:00, 21.02it/s]\u001b[A\n",
      " 56%|█████▌    | 19/34 [00:01<00:00, 22.06it/s]\u001b[A\n",
      " 65%|██████▍   | 22/34 [00:01<00:00, 22.87it/s]\u001b[A\n",
      " 74%|███████▎  | 25/34 [00:01<00:00, 23.36it/s]\u001b[A\n",
      " 82%|████████▏ | 28/34 [00:01<00:00, 23.66it/s]\u001b[A\n",
      " 91%|█████████ | 31/34 [00:01<00:00, 23.71it/s]\u001b[A\n",
      "100%|██████████| 34/34 [00:01<00:00, 19.21it/s]\u001b[A\n",
      "!!!Save weights in AlexNetal\n",
      "Uncertain_th update to 0.6238087\n"
     ]
    },
    {
     "name": "stderr",
     "output_type": "stream",
     "text": [
      " 36%|███▌      | 19/53 [03:19<06:36, 11.68s/it]"
     ]
    },
    {
     "name": "stdout",
     "output_type": "stream",
     "text": [
      "{'dataset_size': 190,\n",
      " 'test_accuracy': 0.941319465637207,\n",
      " 'test_loss': 0.30741944909095764,\n",
      " 'train_accuracy': 0.8361110687255859,\n",
      " 'train_loss': 0.3887850344181061}\n",
      "[881-MainThread  ] [baal.modelwrapper:train_on_dataset:654] \u001b[2m2024-04-15T01:21:44.289282Z\u001b[0m [\u001b[32m\u001b[1minfo     \u001b[0m] \u001b[1mStarting training             \u001b[0m \u001b[36mdataset\u001b[0m=\u001b[35m200\u001b[0m \u001b[36mepoch\u001b[0m=\u001b[35m10\u001b[0m\n",
      "[881-MainThread  ] [baal.modelwrapper:train_on_dataset:666] \u001b[2m2024-04-15T01:21:53.066821Z\u001b[0m [\u001b[32m\u001b[1minfo     \u001b[0m] \u001b[1mTraining complete             \u001b[0m \u001b[36mtrain_acc\u001b[0m=\u001b[35m0.8482142686843872\u001b[0m \u001b[36mtrain_loss\u001b[0m=\u001b[35m0.3636952042579651\u001b[0m\n",
      "[881-MainThread  ] [baal.modelwrapper:test_on_dataset:696] \u001b[2m2024-04-15T01:21:53.069744Z\u001b[0m [\u001b[32m\u001b[1minfo     \u001b[0m] \u001b[1mStarting evaluating           \u001b[0m \u001b[36mdataset\u001b[0m=\u001b[35m175\u001b[0m\n",
      "[881-MainThread  ] [baal.modelwrapper:test_on_dataset:720] \u001b[2m2024-04-15T01:21:54.159515Z\u001b[0m [\u001b[32m\u001b[1minfo     \u001b[0m] \u001b[1mEvaluation complete           \u001b[0m \u001b[36mtest_acc\u001b[0m=\u001b[35m0.8499999642372131\u001b[0m \u001b[36mtest_loss\u001b[0m=\u001b[35m0.38627514243125916\u001b[0m\n",
      "Uth----------- tensor(0.5601)\n",
      "[881-MainThread  ] [baal.modelwrapper:predict_on_dataset_generator:819] \u001b[2m2024-04-15T01:21:54.166380Z\u001b[0m [\u001b[32m\u001b[1minfo     \u001b[0m] \u001b[1mStart Predict                 \u001b[0m \u001b[36mdataset\u001b[0m=\u001b[35m330\u001b[0m\n",
      "\n",
      "  0%|          | 0/33 [00:00<?, ?it/s]\u001b[A\n",
      "  3%|▎         | 1/33 [00:00<00:11,  2.75it/s]\u001b[A\n",
      " 12%|█▏        | 4/33 [00:00<00:02,  9.81it/s]\u001b[A\n",
      " 21%|██        | 7/33 [00:00<00:01, 14.41it/s]\u001b[A\n",
      " 30%|███       | 10/33 [00:00<00:01, 17.65it/s]\u001b[A\n",
      " 39%|███▉      | 13/33 [00:00<00:01, 19.78it/s]\u001b[A\n",
      " 48%|████▊     | 16/33 [00:00<00:00, 21.22it/s]\u001b[A\n",
      " 58%|█████▊    | 19/33 [00:01<00:00, 22.05it/s]\u001b[A\n",
      " 67%|██████▋   | 22/33 [00:01<00:00, 22.82it/s]\u001b[A\n",
      " 76%|███████▌  | 25/33 [00:01<00:00, 23.29it/s]\u001b[A\n",
      " 85%|████████▍ | 28/33 [00:01<00:00, 23.55it/s]\u001b[A\n",
      "100%|██████████| 33/33 [00:01<00:00, 18.75it/s]\u001b[A"
     ]
    },
    {
     "name": "stderr",
     "output_type": "stream",
     "text": [
      " 38%|███▊      | 20/53 [03:31<06:25, 11.67s/it]"
     ]
    },
    {
     "name": "stdout",
     "output_type": "stream",
     "text": [
      "\n",
      "{'dataset_size': 200,\n",
      " 'test_accuracy': 0.8499999642372131,\n",
      " 'test_loss': 0.38627514243125916,\n",
      " 'train_accuracy': 0.8482142686843872,\n",
      " 'train_loss': 0.3636952042579651}\n",
      "[881-MainThread  ] [baal.modelwrapper:train_on_dataset:654] \u001b[2m2024-04-15T01:21:55.943353Z\u001b[0m [\u001b[32m\u001b[1minfo     \u001b[0m] \u001b[1mStarting training             \u001b[0m \u001b[36mdataset\u001b[0m=\u001b[35m210\u001b[0m \u001b[36mepoch\u001b[0m=\u001b[35m10\u001b[0m\n",
      "[881-MainThread  ] [baal.modelwrapper:train_on_dataset:666] \u001b[2m2024-04-15T01:22:05.188307Z\u001b[0m [\u001b[32m\u001b[1minfo     \u001b[0m] \u001b[1mTraining complete             \u001b[0m \u001b[36mtrain_acc\u001b[0m=\u001b[35m0.85317462682724\u001b[0m \u001b[36mtrain_loss\u001b[0m=\u001b[35m0.378505140542984\u001b[0m\n",
      "[881-MainThread  ] [baal.modelwrapper:test_on_dataset:696] \u001b[2m2024-04-15T01:22:05.191659Z\u001b[0m [\u001b[32m\u001b[1minfo     \u001b[0m] \u001b[1mStarting evaluating           \u001b[0m \u001b[36mdataset\u001b[0m=\u001b[35m175\u001b[0m\n",
      "[881-MainThread  ] [baal.modelwrapper:test_on_dataset:720] \u001b[2m2024-04-15T01:22:06.329334Z\u001b[0m [\u001b[32m\u001b[1minfo     \u001b[0m] \u001b[1mEvaluation complete           \u001b[0m \u001b[36mtest_acc\u001b[0m=\u001b[35m0.9027778506278992\u001b[0m \u001b[36mtest_loss\u001b[0m=\u001b[35m0.30647012591362\u001b[0m\n",
      "Uth----------- tensor(0.5590)\n",
      "[881-MainThread  ] [baal.modelwrapper:predict_on_dataset_generator:819] \u001b[2m2024-04-15T01:22:06.335891Z\u001b[0m [\u001b[32m\u001b[1minfo     \u001b[0m] \u001b[1mStart Predict                 \u001b[0m \u001b[36mdataset\u001b[0m=\u001b[35m320\u001b[0m\n",
      "\n",
      "  0%|          | 0/32 [00:00<?, ?it/s]\u001b[A\n",
      "  3%|▎         | 1/32 [00:00<00:12,  2.43it/s]\u001b[A\n",
      " 12%|█▎        | 4/32 [00:00<00:03,  9.02it/s]\u001b[A\n",
      " 22%|██▏       | 7/32 [00:00<00:01, 13.73it/s]\u001b[A\n",
      " 31%|███▏      | 10/32 [00:00<00:01, 17.00it/s]\u001b[A\n",
      " 41%|████      | 13/32 [00:00<00:00, 19.26it/s]\u001b[A\n",
      " 50%|█████     | 16/32 [00:01<00:00, 20.99it/s]\u001b[A\n",
      " 59%|█████▉    | 19/32 [00:01<00:00, 22.02it/s]\u001b[A\n",
      " 69%|██████▉   | 22/32 [00:01<00:00, 22.83it/s]\u001b[A\n",
      " 78%|███████▊  | 25/32 [00:01<00:00, 23.34it/s]\u001b[A\n",
      " 88%|████████▊ | 28/32 [00:01<00:00, 23.64it/s]\u001b[A\n",
      "100%|██████████| 32/32 [00:01<00:00, 18.17it/s]\u001b[A"
     ]
    },
    {
     "name": "stderr",
     "output_type": "stream",
     "text": [
      " 40%|███▉      | 21/53 [03:43<06:18, 11.82s/it]"
     ]
    },
    {
     "name": "stdout",
     "output_type": "stream",
     "text": [
      "\n",
      "{'dataset_size': 210,\n",
      " 'test_accuracy': 0.9027778506278992,\n",
      " 'test_loss': 0.30647012591362,\n",
      " 'train_accuracy': 0.85317462682724,\n",
      " 'train_loss': 0.378505140542984}\n",
      "[881-MainThread  ] [baal.modelwrapper:train_on_dataset:654] \u001b[2m2024-04-15T01:22:08.106248Z\u001b[0m [\u001b[32m\u001b[1minfo     \u001b[0m] \u001b[1mStarting training             \u001b[0m \u001b[36mdataset\u001b[0m=\u001b[35m220\u001b[0m \u001b[36mepoch\u001b[0m=\u001b[35m10\u001b[0m\n",
      "[881-MainThread  ] [baal.modelwrapper:train_on_dataset:666] \u001b[2m2024-04-15T01:22:17.442560Z\u001b[0m [\u001b[32m\u001b[1minfo     \u001b[0m] \u001b[1mTraining complete             \u001b[0m \u001b[36mtrain_acc\u001b[0m=\u001b[35m0.8131377100944519\u001b[0m \u001b[36mtrain_loss\u001b[0m=\u001b[35m0.39555230736732483\u001b[0m\n",
      "[881-MainThread  ] [baal.modelwrapper:test_on_dataset:696] \u001b[2m2024-04-15T01:22:17.446891Z\u001b[0m [\u001b[32m\u001b[1minfo     \u001b[0m] \u001b[1mStarting evaluating           \u001b[0m \u001b[36mdataset\u001b[0m=\u001b[35m175\u001b[0m\n",
      "[881-MainThread  ] [baal.modelwrapper:test_on_dataset:720] \u001b[2m2024-04-15T01:22:18.535960Z\u001b[0m [\u001b[32m\u001b[1minfo     \u001b[0m] \u001b[1mEvaluation complete           \u001b[0m \u001b[36mtest_acc\u001b[0m=\u001b[35m0.910069465637207\u001b[0m \u001b[36mtest_loss\u001b[0m=\u001b[35m0.30782371759414673\u001b[0m\n",
      "Uth----------- tensor(0.6414)\n",
      "[881-MainThread  ] [baal.modelwrapper:predict_on_dataset_generator:819] \u001b[2m2024-04-15T01:22:18.542674Z\u001b[0m [\u001b[32m\u001b[1minfo     \u001b[0m] \u001b[1mStart Predict                 \u001b[0m \u001b[36mdataset\u001b[0m=\u001b[35m310\u001b[0m\n",
      "\n",
      "  0%|          | 0/31 [00:00<?, ?it/s]\u001b[A\n",
      "  3%|▎         | 1/31 [00:00<00:11,  2.66it/s]\u001b[A\n",
      " 13%|█▎        | 4/31 [00:00<00:02,  9.68it/s]\u001b[A\n",
      " 23%|██▎       | 7/31 [00:00<00:01, 14.37it/s]\u001b[A\n",
      " 32%|███▏      | 10/31 [00:00<00:01, 17.62it/s]\u001b[A\n",
      " 42%|████▏     | 13/31 [00:00<00:00, 19.72it/s]\u001b[A\n",
      " 52%|█████▏    | 16/31 [00:00<00:00, 21.19it/s]\u001b[A\n",
      " 61%|██████▏   | 19/31 [00:01<00:00, 22.11it/s]\u001b[A\n",
      " 71%|███████   | 22/31 [00:01<00:00, 23.02it/s]\u001b[A\n",
      " 81%|████████  | 25/31 [00:01<00:00, 23.41it/s]\u001b[A\n",
      " 90%|█████████ | 28/31 [00:01<00:00, 23.75it/s]\u001b[A\n",
      "100%|██████████| 31/31 [00:01<00:00, 18.81it/s]\u001b[A"
     ]
    },
    {
     "name": "stderr",
     "output_type": "stream",
     "text": [
      " 42%|████▏     | 22/53 [03:55<06:08, 11.90s/it]"
     ]
    },
    {
     "name": "stdout",
     "output_type": "stream",
     "text": [
      "\n",
      "{'dataset_size': 220,\n",
      " 'test_accuracy': 0.910069465637207,\n",
      " 'test_loss': 0.30782371759414673,\n",
      " 'train_accuracy': 0.8131377100944519,\n",
      " 'train_loss': 0.39555230736732483}\n",
      "[881-MainThread  ] [baal.modelwrapper:train_on_dataset:654] \u001b[2m2024-04-15T01:22:20.200128Z\u001b[0m [\u001b[32m\u001b[1minfo     \u001b[0m] \u001b[1mStarting training             \u001b[0m \u001b[36mdataset\u001b[0m=\u001b[35m230\u001b[0m \u001b[36mepoch\u001b[0m=\u001b[35m10\u001b[0m\n",
      "[881-MainThread  ] [baal.modelwrapper:train_on_dataset:666] \u001b[2m2024-04-15T01:22:29.850760Z\u001b[0m [\u001b[32m\u001b[1minfo     \u001b[0m] \u001b[1mTraining complete             \u001b[0m \u001b[36mtrain_acc\u001b[0m=\u001b[35m0.8541666865348816\u001b[0m \u001b[36mtrain_loss\u001b[0m=\u001b[35m0.36389440298080444\u001b[0m\n",
      "[881-MainThread  ] [baal.modelwrapper:test_on_dataset:696] \u001b[2m2024-04-15T01:22:29.853000Z\u001b[0m [\u001b[32m\u001b[1minfo     \u001b[0m] \u001b[1mStarting evaluating           \u001b[0m \u001b[36mdataset\u001b[0m=\u001b[35m175\u001b[0m\n",
      "[881-MainThread  ] [baal.modelwrapper:test_on_dataset:720] \u001b[2m2024-04-15T01:22:30.950648Z\u001b[0m [\u001b[32m\u001b[1minfo     \u001b[0m] \u001b[1mEvaluation complete           \u001b[0m \u001b[36mtest_acc\u001b[0m=\u001b[35m0.9152777791023254\u001b[0m \u001b[36mtest_loss\u001b[0m=\u001b[35m0.2718903124332428\u001b[0m\n",
      "Uth----------- tensor(0.6062)\n",
      "[881-MainThread  ] [baal.modelwrapper:predict_on_dataset_generator:819] \u001b[2m2024-04-15T01:22:30.957060Z\u001b[0m [\u001b[32m\u001b[1minfo     \u001b[0m] \u001b[1mStart Predict                 \u001b[0m \u001b[36mdataset\u001b[0m=\u001b[35m300\u001b[0m\n",
      "\n",
      "  0%|          | 0/30 [00:00<?, ?it/s]\u001b[A\n",
      "  3%|▎         | 1/30 [00:00<00:10,  2.68it/s]\u001b[A\n",
      " 13%|█▎        | 4/30 [00:00<00:02,  9.70it/s]\u001b[A\n",
      " 23%|██▎       | 7/30 [00:00<00:01, 14.41it/s]\u001b[A\n",
      " 33%|███▎      | 10/30 [00:00<00:01, 17.47it/s]\u001b[A\n",
      " 43%|████▎     | 13/30 [00:00<00:00, 19.67it/s]\u001b[A\n",
      " 53%|█████▎    | 16/30 [00:00<00:00, 21.22it/s]\u001b[A\n",
      " 63%|██████▎   | 19/30 [00:01<00:00, 22.26it/s]\u001b[A\n",
      " 73%|███████▎  | 22/30 [00:01<00:00, 22.79it/s]\u001b[A\n",
      " 83%|████████▎ | 25/30 [00:01<00:00, 23.32it/s]\u001b[A\n",
      "100%|██████████| 30/30 [00:01<00:00, 18.26it/s]\u001b[A"
     ]
    },
    {
     "name": "stderr",
     "output_type": "stream",
     "text": [
      " 43%|████▎     | 23/53 [04:07<06:01, 12.05s/it]"
     ]
    },
    {
     "name": "stdout",
     "output_type": "stream",
     "text": [
      "\n",
      "{'dataset_size': 230,\n",
      " 'test_accuracy': 0.9152777791023254,\n",
      " 'test_loss': 0.2718903124332428,\n",
      " 'train_accuracy': 0.8541666865348816,\n",
      " 'train_loss': 0.36389440298080444}\n",
      "[881-MainThread  ] [baal.modelwrapper:train_on_dataset:654] \u001b[2m2024-04-15T01:22:32.608906Z\u001b[0m [\u001b[32m\u001b[1minfo     \u001b[0m] \u001b[1mStarting training             \u001b[0m \u001b[36mdataset\u001b[0m=\u001b[35m240\u001b[0m \u001b[36mepoch\u001b[0m=\u001b[35m10\u001b[0m\n",
      "[881-MainThread  ] [baal.modelwrapper:train_on_dataset:666] \u001b[2m2024-04-15T01:22:41.998444Z\u001b[0m [\u001b[32m\u001b[1minfo     \u001b[0m] \u001b[1mTraining complete             \u001b[0m \u001b[36mtrain_acc\u001b[0m=\u001b[35m0.87890625\u001b[0m \u001b[36mtrain_loss\u001b[0m=\u001b[35m0.32490721344947815\u001b[0m\n",
      "[881-MainThread  ] [baal.modelwrapper:test_on_dataset:696] \u001b[2m2024-04-15T01:22:42.002269Z\u001b[0m [\u001b[32m\u001b[1minfo     \u001b[0m] \u001b[1mStarting evaluating           \u001b[0m \u001b[36mdataset\u001b[0m=\u001b[35m175\u001b[0m\n",
      "[881-MainThread  ] [baal.modelwrapper:test_on_dataset:720] \u001b[2m2024-04-15T01:22:43.104491Z\u001b[0m [\u001b[32m\u001b[1minfo     \u001b[0m] \u001b[1mEvaluation complete           \u001b[0m \u001b[36mtest_acc\u001b[0m=\u001b[35m0.9354166984558105\u001b[0m \u001b[36mtest_loss\u001b[0m=\u001b[35m0.2607692778110504\u001b[0m\n",
      "Uth----------- tensor(0.5771)\n",
      "[881-MainThread  ] [baal.modelwrapper:predict_on_dataset_generator:819] \u001b[2m2024-04-15T01:22:43.110967Z\u001b[0m [\u001b[32m\u001b[1minfo     \u001b[0m] \u001b[1mStart Predict                 \u001b[0m \u001b[36mdataset\u001b[0m=\u001b[35m290\u001b[0m\n",
      "\n",
      "  0%|          | 0/29 [00:00<?, ?it/s]\u001b[A\n",
      "  3%|▎         | 1/29 [00:00<00:10,  2.74it/s]\u001b[A\n",
      " 14%|█▍        | 4/29 [00:00<00:02,  9.86it/s]\u001b[A\n",
      " 24%|██▍       | 7/29 [00:00<00:01, 14.45it/s]\u001b[A\n",
      " 34%|███▍      | 10/29 [00:00<00:01, 17.65it/s]\u001b[A\n",
      " 45%|████▍     | 13/29 [00:00<00:00, 19.80it/s]\u001b[A\n",
      " 55%|█████▌    | 16/29 [00:00<00:00, 21.28it/s]\u001b[A\n",
      " 66%|██████▌   | 19/29 [00:01<00:00, 22.24it/s]\u001b[A\n",
      " 76%|███████▌  | 22/29 [00:01<00:00, 23.05it/s]\u001b[A\n",
      " 86%|████████▌ | 25/29 [00:01<00:00, 23.42it/s]\u001b[A\n",
      "100%|██████████| 29/29 [00:01<00:00, 18.66it/s]\u001b[A"
     ]
    },
    {
     "name": "stderr",
     "output_type": "stream",
     "text": [
      " 45%|████▌     | 24/53 [04:19<05:49, 12.06s/it]"
     ]
    },
    {
     "name": "stdout",
     "output_type": "stream",
     "text": [
      "\n",
      "{'dataset_size': 240,\n",
      " 'test_accuracy': 0.9354166984558105,\n",
      " 'test_loss': 0.2607692778110504,\n",
      " 'train_accuracy': 0.87890625,\n",
      " 'train_loss': 0.32490721344947815}\n",
      "[881-MainThread  ] [baal.modelwrapper:train_on_dataset:654] \u001b[2m2024-04-15T01:22:44.673269Z\u001b[0m [\u001b[32m\u001b[1minfo     \u001b[0m] \u001b[1mStarting training             \u001b[0m \u001b[36mdataset\u001b[0m=\u001b[35m250\u001b[0m \u001b[36mepoch\u001b[0m=\u001b[35m10\u001b[0m\n",
      "[881-MainThread  ] [baal.modelwrapper:train_on_dataset:666] \u001b[2m2024-04-15T01:22:54.153013Z\u001b[0m [\u001b[32m\u001b[1minfo     \u001b[0m] \u001b[1mTraining complete             \u001b[0m \u001b[36mtrain_acc\u001b[0m=\u001b[35m0.8617788553237915\u001b[0m \u001b[36mtrain_loss\u001b[0m=\u001b[35m0.3371378481388092\u001b[0m\n",
      "[881-MainThread  ] [baal.modelwrapper:test_on_dataset:696] \u001b[2m2024-04-15T01:22:54.157265Z\u001b[0m [\u001b[32m\u001b[1minfo     \u001b[0m] \u001b[1mStarting evaluating           \u001b[0m \u001b[36mdataset\u001b[0m=\u001b[35m175\u001b[0m\n",
      "[881-MainThread  ] [baal.modelwrapper:test_on_dataset:720] \u001b[2m2024-04-15T01:22:55.290593Z\u001b[0m [\u001b[32m\u001b[1minfo     \u001b[0m] \u001b[1mEvaluation complete           \u001b[0m \u001b[36mtest_acc\u001b[0m=\u001b[35m0.9354166984558105\u001b[0m \u001b[36mtest_loss\u001b[0m=\u001b[35m0.2530975043773651\u001b[0m\n",
      "Uth----------- tensor(0.5540)\n",
      "[881-MainThread  ] [baal.modelwrapper:predict_on_dataset_generator:819] \u001b[2m2024-04-15T01:22:55.297066Z\u001b[0m [\u001b[32m\u001b[1minfo     \u001b[0m] \u001b[1mStart Predict                 \u001b[0m \u001b[36mdataset\u001b[0m=\u001b[35m280\u001b[0m\n",
      "\n",
      "  0%|          | 0/28 [00:00<?, ?it/s]\u001b[A\n",
      "  4%|▎         | 1/28 [00:00<00:09,  2.70it/s]\u001b[A\n",
      " 14%|█▍        | 4/28 [00:00<00:02,  9.75it/s]\u001b[A\n",
      " 25%|██▌       | 7/28 [00:00<00:01, 14.45it/s]\u001b[A\n",
      " 36%|███▌      | 10/28 [00:00<00:01, 17.67it/s]\u001b[A\n",
      " 46%|████▋     | 13/28 [00:00<00:00, 19.78it/s]\u001b[A\n",
      " 57%|█████▋    | 16/28 [00:00<00:00, 21.24it/s]\u001b[A\n",
      " 68%|██████▊   | 19/28 [00:01<00:00, 22.21it/s]\u001b[A\n",
      " 79%|███████▊  | 22/28 [00:01<00:00, 22.81it/s]\u001b[A\n",
      " 89%|████████▉ | 25/28 [00:01<00:00, 23.33it/s]\u001b[A\n",
      "100%|██████████| 28/28 [00:01<00:00, 18.38it/s]\u001b[A"
     ]
    },
    {
     "name": "stderr",
     "output_type": "stream",
     "text": [
      " 47%|████▋     | 25/53 [04:31<05:38, 12.09s/it]"
     ]
    },
    {
     "name": "stdout",
     "output_type": "stream",
     "text": [
      "\n",
      "{'dataset_size': 250,\n",
      " 'test_accuracy': 0.9354166984558105,\n",
      " 'test_loss': 0.2530975043773651,\n",
      " 'train_accuracy': 0.8617788553237915,\n",
      " 'train_loss': 0.3371378481388092}\n",
      "[881-MainThread  ] [baal.modelwrapper:train_on_dataset:654] \u001b[2m2024-04-15T01:22:56.829006Z\u001b[0m [\u001b[32m\u001b[1minfo     \u001b[0m] \u001b[1mStarting training             \u001b[0m \u001b[36mdataset\u001b[0m=\u001b[35m260\u001b[0m \u001b[36mepoch\u001b[0m=\u001b[35m10\u001b[0m\n",
      "[881-MainThread  ] [baal.modelwrapper:train_on_dataset:666] \u001b[2m2024-04-15T01:23:06.631191Z\u001b[0m [\u001b[32m\u001b[1minfo     \u001b[0m] \u001b[1mTraining complete             \u001b[0m \u001b[36mtrain_acc\u001b[0m=\u001b[35m0.8368055820465088\u001b[0m \u001b[36mtrain_loss\u001b[0m=\u001b[35m0.3615581691265106\u001b[0m\n",
      "[881-MainThread  ] [baal.modelwrapper:test_on_dataset:696] \u001b[2m2024-04-15T01:23:06.633436Z\u001b[0m [\u001b[32m\u001b[1minfo     \u001b[0m] \u001b[1mStarting evaluating           \u001b[0m \u001b[36mdataset\u001b[0m=\u001b[35m175\u001b[0m\n",
      "[881-MainThread  ] [baal.modelwrapper:test_on_dataset:720] \u001b[2m2024-04-15T01:23:07.833011Z\u001b[0m [\u001b[32m\u001b[1minfo     \u001b[0m] \u001b[1mEvaluation complete           \u001b[0m \u001b[36mtest_acc\u001b[0m=\u001b[35m0.9465277791023254\u001b[0m \u001b[36mtest_loss\u001b[0m=\u001b[35m0.2460666447877884\u001b[0m\n",
      "Uth----------- tensor(0.5706)\n",
      "[881-MainThread  ] [baal.modelwrapper:predict_on_dataset_generator:819] \u001b[2m2024-04-15T01:23:07.839828Z\u001b[0m [\u001b[32m\u001b[1minfo     \u001b[0m] \u001b[1mStart Predict                 \u001b[0m \u001b[36mdataset\u001b[0m=\u001b[35m270\u001b[0m\n",
      "\n",
      "  0%|          | 0/27 [00:00<?, ?it/s]\u001b[A\n",
      "  4%|▎         | 1/27 [00:00<00:11,  2.21it/s]\u001b[A\n",
      " 15%|█▍        | 4/27 [00:00<00:02,  8.45it/s]\u001b[A\n",
      " 26%|██▌       | 7/27 [00:00<00:01, 13.04it/s]\u001b[A\n",
      " 37%|███▋      | 10/27 [00:00<00:01, 16.41it/s]\u001b[A\n",
      " 48%|████▊     | 13/27 [00:00<00:00, 18.74it/s]\u001b[A\n",
      " 59%|█████▉    | 16/27 [00:01<00:00, 20.42it/s]\u001b[A\n",
      " 70%|███████   | 19/27 [00:01<00:00, 21.66it/s]\u001b[A\n",
      " 81%|████████▏ | 22/27 [00:01<00:00, 22.48it/s]\u001b[A\n",
      "100%|██████████| 27/27 [00:01<00:00, 16.82it/s]\u001b[A\n",
      "!!!Save weights in AlexNetal\n",
      "Uncertain_th update to 0.57056904\n"
     ]
    },
    {
     "name": "stderr",
     "output_type": "stream",
     "text": [
      " 49%|████▉     | 26/53 [04:45<05:39, 12.58s/it]"
     ]
    },
    {
     "name": "stdout",
     "output_type": "stream",
     "text": [
      "{'dataset_size': 260,\n",
      " 'test_accuracy': 0.9465277791023254,\n",
      " 'test_loss': 0.2460666447877884,\n",
      " 'train_accuracy': 0.8368055820465088,\n",
      " 'train_loss': 0.3615581691265106}\n",
      "[881-MainThread  ] [baal.modelwrapper:train_on_dataset:654] \u001b[2m2024-04-15T01:23:10.558854Z\u001b[0m [\u001b[32m\u001b[1minfo     \u001b[0m] \u001b[1mStarting training             \u001b[0m \u001b[36mdataset\u001b[0m=\u001b[35m270\u001b[0m \u001b[36mepoch\u001b[0m=\u001b[35m10\u001b[0m\n",
      "[881-MainThread  ] [baal.modelwrapper:train_on_dataset:666] \u001b[2m2024-04-15T01:23:20.290454Z\u001b[0m [\u001b[32m\u001b[1minfo     \u001b[0m] \u001b[1mTraining complete             \u001b[0m \u001b[36mtrain_acc\u001b[0m=\u001b[35m0.879960298538208\u001b[0m \u001b[36mtrain_loss\u001b[0m=\u001b[35m0.3115188181400299\u001b[0m\n",
      "[881-MainThread  ] [baal.modelwrapper:test_on_dataset:696] \u001b[2m2024-04-15T01:23:20.293410Z\u001b[0m [\u001b[32m\u001b[1minfo     \u001b[0m] \u001b[1mStarting evaluating           \u001b[0m \u001b[36mdataset\u001b[0m=\u001b[35m175\u001b[0m\n",
      "[881-MainThread  ] [baal.modelwrapper:test_on_dataset:720] \u001b[2m2024-04-15T01:23:21.383761Z\u001b[0m [\u001b[32m\u001b[1minfo     \u001b[0m] \u001b[1mEvaluation complete           \u001b[0m \u001b[36mtest_acc\u001b[0m=\u001b[35m0.956944465637207\u001b[0m \u001b[36mtest_loss\u001b[0m=\u001b[35m0.22175247967243195\u001b[0m\n",
      "Uth----------- tensor(0.5460)\n",
      "[881-MainThread  ] [baal.modelwrapper:predict_on_dataset_generator:819] \u001b[2m2024-04-15T01:23:21.390327Z\u001b[0m [\u001b[32m\u001b[1minfo     \u001b[0m] \u001b[1mStart Predict                 \u001b[0m \u001b[36mdataset\u001b[0m=\u001b[35m260\u001b[0m\n",
      "\n",
      "  0%|          | 0/26 [00:00<?, ?it/s]\u001b[A\n",
      "  4%|▍         | 1/26 [00:00<00:10,  2.40it/s]\u001b[A\n",
      " 15%|█▌        | 4/26 [00:00<00:02,  9.00it/s]\u001b[A\n",
      " 27%|██▋       | 7/26 [00:00<00:01, 13.67it/s]\u001b[A\n",
      " 38%|███▊      | 10/26 [00:00<00:00, 17.00it/s]\u001b[A\n",
      " 50%|█████     | 13/26 [00:00<00:00, 19.19it/s]\u001b[A\n",
      " 62%|██████▏   | 16/26 [00:01<00:00, 20.82it/s]\u001b[A\n",
      " 73%|███████▎  | 19/26 [00:01<00:00, 22.03it/s]\u001b[A\n",
      " 85%|████████▍ | 22/26 [00:01<00:00, 22.80it/s]\u001b[A\n",
      "100%|██████████| 26/26 [00:01<00:00, 17.59it/s]\u001b[A\n",
      "!!!Save weights in AlexNetal\n",
      "Uncertain_th update to 0.5459879\n"
     ]
    },
    {
     "name": "stderr",
     "output_type": "stream",
     "text": [
      " 51%|█████     | 27/53 [04:59<05:33, 12.83s/it]"
     ]
    },
    {
     "name": "stdout",
     "output_type": "stream",
     "text": [
      "{'dataset_size': 270,\n",
      " 'test_accuracy': 0.956944465637207,\n",
      " 'test_loss': 0.22175247967243195,\n",
      " 'train_accuracy': 0.879960298538208,\n",
      " 'train_loss': 0.3115188181400299}\n",
      "[881-MainThread  ] [baal.modelwrapper:train_on_dataset:654] \u001b[2m2024-04-15T01:23:23.968746Z\u001b[0m [\u001b[32m\u001b[1minfo     \u001b[0m] \u001b[1mStarting training             \u001b[0m \u001b[36mdataset\u001b[0m=\u001b[35m280\u001b[0m \u001b[36mepoch\u001b[0m=\u001b[35m10\u001b[0m\n",
      "[881-MainThread  ] [baal.modelwrapper:train_on_dataset:666] \u001b[2m2024-04-15T01:23:34.261800Z\u001b[0m [\u001b[32m\u001b[1minfo     \u001b[0m] \u001b[1mTraining complete             \u001b[0m \u001b[36mtrain_acc\u001b[0m=\u001b[35m0.8090277910232544\u001b[0m \u001b[36mtrain_loss\u001b[0m=\u001b[35m0.40370047092437744\u001b[0m\n",
      "[881-MainThread  ] [baal.modelwrapper:test_on_dataset:696] \u001b[2m2024-04-15T01:23:34.266142Z\u001b[0m [\u001b[32m\u001b[1minfo     \u001b[0m] \u001b[1mStarting evaluating           \u001b[0m \u001b[36mdataset\u001b[0m=\u001b[35m175\u001b[0m\n",
      "[881-MainThread  ] [baal.modelwrapper:test_on_dataset:720] \u001b[2m2024-04-15T01:23:35.388276Z\u001b[0m [\u001b[32m\u001b[1minfo     \u001b[0m] \u001b[1mEvaluation complete           \u001b[0m \u001b[36mtest_acc\u001b[0m=\u001b[35m0.9295139312744141\u001b[0m \u001b[36mtest_loss\u001b[0m=\u001b[35m0.24066509306430817\u001b[0m\n",
      "Uth----------- tensor(0.5215)\n",
      "[881-MainThread  ] [baal.modelwrapper:predict_on_dataset_generator:819] \u001b[2m2024-04-15T01:23:35.395423Z\u001b[0m [\u001b[32m\u001b[1minfo     \u001b[0m] \u001b[1mStart Predict                 \u001b[0m \u001b[36mdataset\u001b[0m=\u001b[35m250\u001b[0m\n",
      "\n",
      "  0%|          | 0/25 [00:00<?, ?it/s]\u001b[A\n",
      "  4%|▍         | 1/25 [00:00<00:11,  2.15it/s]\u001b[A\n",
      " 16%|█▌        | 4/25 [00:00<00:02,  8.21it/s]\u001b[A\n",
      " 28%|██▊       | 7/25 [00:00<00:01, 12.79it/s]\u001b[A\n",
      " 40%|████      | 10/25 [00:00<00:00, 16.28it/s]\u001b[A\n",
      " 52%|█████▏    | 13/25 [00:00<00:00, 18.73it/s]\u001b[A\n",
      " 64%|██████▍   | 16/25 [00:01<00:00, 20.50it/s]\u001b[A\n",
      " 76%|███████▌  | 19/25 [00:01<00:00, 21.54it/s]\u001b[A\n",
      " 88%|████████▊ | 22/25 [00:01<00:00, 22.48it/s]\u001b[A\n",
      "100%|██████████| 25/25 [00:01<00:00, 16.50it/s]\u001b[A\n"
     ]
    },
    {
     "name": "stderr",
     "output_type": "stream",
     "text": [
      " 53%|█████▎    | 28/53 [05:11<05:21, 12.87s/it]"
     ]
    },
    {
     "name": "stdout",
     "output_type": "stream",
     "text": [
      "{'dataset_size': 280,\n",
      " 'test_accuracy': 0.9295139312744141,\n",
      " 'test_loss': 0.24066509306430817,\n",
      " 'train_accuracy': 0.8090277910232544,\n",
      " 'train_loss': 0.40370047092437744}\n",
      "[881-MainThread  ] [baal.modelwrapper:train_on_dataset:654] \u001b[2m2024-04-15T01:23:36.922084Z\u001b[0m [\u001b[32m\u001b[1minfo     \u001b[0m] \u001b[1mStarting training             \u001b[0m \u001b[36mdataset\u001b[0m=\u001b[35m290\u001b[0m \u001b[36mepoch\u001b[0m=\u001b[35m10\u001b[0m\n",
      "[881-MainThread  ] [baal.modelwrapper:train_on_dataset:666] \u001b[2m2024-04-15T01:23:48.033913Z\u001b[0m [\u001b[32m\u001b[1minfo     \u001b[0m] \u001b[1mTraining complete             \u001b[0m \u001b[36mtrain_acc\u001b[0m=\u001b[35m0.7875000238418579\u001b[0m \u001b[36mtrain_loss\u001b[0m=\u001b[35m0.41569891571998596\u001b[0m\n",
      "[881-MainThread  ] [baal.modelwrapper:test_on_dataset:696] \u001b[2m2024-04-15T01:23:48.035842Z\u001b[0m [\u001b[32m\u001b[1minfo     \u001b[0m] \u001b[1mStarting evaluating           \u001b[0m \u001b[36mdataset\u001b[0m=\u001b[35m175\u001b[0m\n",
      "[881-MainThread  ] [baal.modelwrapper:test_on_dataset:720] \u001b[2m2024-04-15T01:23:49.151280Z\u001b[0m [\u001b[32m\u001b[1minfo     \u001b[0m] \u001b[1mEvaluation complete           \u001b[0m \u001b[36mtest_acc\u001b[0m=\u001b[35m0.7857639193534851\u001b[0m \u001b[36mtest_loss\u001b[0m=\u001b[35m0.4324783384799957\u001b[0m\n",
      "Uth----------- tensor(0.6386)\n",
      "[881-MainThread  ] [baal.modelwrapper:predict_on_dataset_generator:819] \u001b[2m2024-04-15T01:23:49.158126Z\u001b[0m [\u001b[32m\u001b[1minfo     \u001b[0m] \u001b[1mStart Predict                 \u001b[0m \u001b[36mdataset\u001b[0m=\u001b[35m240\u001b[0m\n",
      "\n",
      "  0%|          | 0/24 [00:00<?, ?it/s]\u001b[A\n",
      "  4%|▍         | 1/24 [00:00<00:08,  2.74it/s]\u001b[A\n",
      " 17%|█▋        | 4/24 [00:00<00:02,  9.85it/s]\u001b[A\n",
      " 29%|██▉       | 7/24 [00:00<00:01, 14.50it/s]\u001b[A\n",
      " 42%|████▏     | 10/24 [00:00<00:00, 17.64it/s]\u001b[A\n",
      " 54%|█████▍    | 13/24 [00:00<00:00, 19.79it/s]\u001b[A\n",
      " 67%|██████▋   | 16/24 [00:00<00:00, 21.14it/s]\u001b[A\n",
      " 79%|███████▉  | 19/24 [00:01<00:00, 22.35it/s]\u001b[A\n",
      "100%|██████████| 24/24 [00:01<00:00, 17.73it/s]\u001b[A"
     ]
    },
    {
     "name": "stderr",
     "output_type": "stream",
     "text": [
      " 55%|█████▍    | 29/53 [05:25<05:14, 13.09s/it]"
     ]
    },
    {
     "name": "stdout",
     "output_type": "stream",
     "text": [
      "\n",
      "{'dataset_size': 290,\n",
      " 'test_accuracy': 0.7857639193534851,\n",
      " 'test_loss': 0.4324783384799957,\n",
      " 'train_accuracy': 0.7875000238418579,\n",
      " 'train_loss': 0.41569891571998596}\n",
      "[881-MainThread  ] [baal.modelwrapper:train_on_dataset:654] \u001b[2m2024-04-15T01:23:50.521905Z\u001b[0m [\u001b[32m\u001b[1minfo     \u001b[0m] \u001b[1mStarting training             \u001b[0m \u001b[36mdataset\u001b[0m=\u001b[35m300\u001b[0m \u001b[36mepoch\u001b[0m=\u001b[35m10\u001b[0m\n",
      "[881-MainThread  ] [baal.modelwrapper:train_on_dataset:666] \u001b[2m2024-04-15T01:24:01.613791Z\u001b[0m [\u001b[32m\u001b[1minfo     \u001b[0m] \u001b[1mTraining complete             \u001b[0m \u001b[36mtrain_acc\u001b[0m=\u001b[35m0.9010416865348816\u001b[0m \u001b[36mtrain_loss\u001b[0m=\u001b[35m0.26744550466537476\u001b[0m\n",
      "[881-MainThread  ] [baal.modelwrapper:test_on_dataset:696] \u001b[2m2024-04-15T01:24:01.616899Z\u001b[0m [\u001b[32m\u001b[1minfo     \u001b[0m] \u001b[1mStarting evaluating           \u001b[0m \u001b[36mdataset\u001b[0m=\u001b[35m175\u001b[0m\n",
      "[881-MainThread  ] [baal.modelwrapper:test_on_dataset:720] \u001b[2m2024-04-15T01:24:02.708131Z\u001b[0m [\u001b[32m\u001b[1minfo     \u001b[0m] \u001b[1mEvaluation complete           \u001b[0m \u001b[36mtest_acc\u001b[0m=\u001b[35m0.9204861521720886\u001b[0m \u001b[36mtest_loss\u001b[0m=\u001b[35m0.22999142110347748\u001b[0m\n",
      "Uth----------- tensor(0.5597)\n",
      "[881-MainThread  ] [baal.modelwrapper:predict_on_dataset_generator:819] \u001b[2m2024-04-15T01:24:02.715307Z\u001b[0m [\u001b[32m\u001b[1minfo     \u001b[0m] \u001b[1mStart Predict                 \u001b[0m \u001b[36mdataset\u001b[0m=\u001b[35m230\u001b[0m\n",
      "\n",
      "  0%|          | 0/23 [00:00<?, ?it/s]\u001b[A\n",
      "  4%|▍         | 1/23 [00:00<00:08,  2.72it/s]\u001b[A\n",
      " 17%|█▋        | 4/23 [00:00<00:01,  9.68it/s]\u001b[A\n",
      " 30%|███       | 7/23 [00:00<00:01, 14.40it/s]\u001b[A\n",
      " 43%|████▎     | 10/23 [00:00<00:00, 17.54it/s]\u001b[A\n",
      " 57%|█████▋    | 13/23 [00:00<00:00, 19.71it/s]\u001b[A\n",
      " 70%|██████▉   | 16/23 [00:00<00:00, 20.87it/s]\u001b[A\n",
      " 83%|████████▎ | 19/23 [00:01<00:00, 22.03it/s]\u001b[A\n",
      "100%|██████████| 23/23 [00:01<00:00, 16.98it/s]\u001b[A"
     ]
    },
    {
     "name": "stderr",
     "output_type": "stream",
     "text": [
      " 57%|█████▋    | 30/53 [05:39<05:04, 13.23s/it]"
     ]
    },
    {
     "name": "stdout",
     "output_type": "stream",
     "text": [
      "\n",
      "{'dataset_size': 300,\n",
      " 'test_accuracy': 0.9204861521720886,\n",
      " 'test_loss': 0.22999142110347748,\n",
      " 'train_accuracy': 0.9010416865348816,\n",
      " 'train_loss': 0.26744550466537476}\n",
      "[881-MainThread  ] [baal.modelwrapper:train_on_dataset:654] \u001b[2m2024-04-15T01:24:04.080013Z\u001b[0m [\u001b[32m\u001b[1minfo     \u001b[0m] \u001b[1mStarting training             \u001b[0m \u001b[36mdataset\u001b[0m=\u001b[35m310\u001b[0m \u001b[36mepoch\u001b[0m=\u001b[35m10\u001b[0m\n",
      "[881-MainThread  ] [baal.modelwrapper:train_on_dataset:666] \u001b[2m2024-04-15T01:24:15.812404Z\u001b[0m [\u001b[32m\u001b[1minfo     \u001b[0m] \u001b[1mTraining complete             \u001b[0m \u001b[36mtrain_acc\u001b[0m=\u001b[35m0.9005681872367859\u001b[0m \u001b[36mtrain_loss\u001b[0m=\u001b[35m0.25893792510032654\u001b[0m\n",
      "[881-MainThread  ] [baal.modelwrapper:test_on_dataset:696] \u001b[2m2024-04-15T01:24:15.816347Z\u001b[0m [\u001b[32m\u001b[1minfo     \u001b[0m] \u001b[1mStarting evaluating           \u001b[0m \u001b[36mdataset\u001b[0m=\u001b[35m175\u001b[0m\n",
      "[881-MainThread  ] [baal.modelwrapper:test_on_dataset:720] \u001b[2m2024-04-15T01:24:16.931491Z\u001b[0m [\u001b[32m\u001b[1minfo     \u001b[0m] \u001b[1mEvaluation complete           \u001b[0m \u001b[36mtest_acc\u001b[0m=\u001b[35m0.913194477558136\u001b[0m \u001b[36mtest_loss\u001b[0m=\u001b[35m0.23995669186115265\u001b[0m\n",
      "Uth----------- tensor(0.5246)\n",
      "[881-MainThread  ] [baal.modelwrapper:predict_on_dataset_generator:819] \u001b[2m2024-04-15T01:24:16.938753Z\u001b[0m [\u001b[32m\u001b[1minfo     \u001b[0m] \u001b[1mStart Predict                 \u001b[0m \u001b[36mdataset\u001b[0m=\u001b[35m220\u001b[0m\n",
      "\n",
      "  0%|          | 0/22 [00:00<?, ?it/s]\u001b[A\n",
      "  5%|▍         | 1/22 [00:00<00:09,  2.21it/s]\u001b[A\n",
      " 18%|█▊        | 4/22 [00:00<00:02,  8.50it/s]\u001b[A\n",
      " 32%|███▏      | 7/22 [00:00<00:01, 13.18it/s]\u001b[A\n",
      " 45%|████▌     | 10/22 [00:00<00:00, 16.54it/s]\u001b[A\n",
      " 59%|█████▉    | 13/22 [00:00<00:00, 19.00it/s]\u001b[A\n",
      " 73%|███████▎  | 16/22 [00:01<00:00, 20.50it/s]\u001b[A\n",
      " 86%|████████▋ | 19/22 [00:01<00:00, 21.77it/s]\u001b[A\n",
      "100%|██████████| 22/22 [00:01<00:00, 15.98it/s]\u001b[A\n"
     ]
    },
    {
     "name": "stderr",
     "output_type": "stream",
     "text": [
      " 58%|█████▊    | 31/53 [05:53<04:57, 13.53s/it]"
     ]
    },
    {
     "name": "stdout",
     "output_type": "stream",
     "text": [
      "{'dataset_size': 310,\n",
      " 'test_accuracy': 0.913194477558136,\n",
      " 'test_loss': 0.23995669186115265,\n",
      " 'train_accuracy': 0.9005681872367859,\n",
      " 'train_loss': 0.25893792510032654}\n",
      "[881-MainThread  ] [baal.modelwrapper:train_on_dataset:654] \u001b[2m2024-04-15T01:24:18.324556Z\u001b[0m [\u001b[32m\u001b[1minfo     \u001b[0m] \u001b[1mStarting training             \u001b[0m \u001b[36mdataset\u001b[0m=\u001b[35m320\u001b[0m \u001b[36mepoch\u001b[0m=\u001b[35m10\u001b[0m\n",
      "[881-MainThread  ] [baal.modelwrapper:train_on_dataset:666] \u001b[2m2024-04-15T01:24:29.749695Z\u001b[0m [\u001b[32m\u001b[1minfo     \u001b[0m] \u001b[1mTraining complete             \u001b[0m \u001b[36mtrain_acc\u001b[0m=\u001b[35m0.887499988079071\u001b[0m \u001b[36mtrain_loss\u001b[0m=\u001b[35m0.2688557803630829\u001b[0m\n",
      "[881-MainThread  ] [baal.modelwrapper:test_on_dataset:696] \u001b[2m2024-04-15T01:24:29.756618Z\u001b[0m [\u001b[32m\u001b[1minfo     \u001b[0m] \u001b[1mStarting evaluating           \u001b[0m \u001b[36mdataset\u001b[0m=\u001b[35m175\u001b[0m\n",
      "[881-MainThread  ] [baal.modelwrapper:test_on_dataset:720] \u001b[2m2024-04-15T01:24:31.001518Z\u001b[0m [\u001b[32m\u001b[1minfo     \u001b[0m] \u001b[1mEvaluation complete           \u001b[0m \u001b[36mtest_acc\u001b[0m=\u001b[35m0.9243056178092957\u001b[0m \u001b[36mtest_loss\u001b[0m=\u001b[35m0.23958426713943481\u001b[0m\n",
      "Uth----------- tensor(0.5317)\n",
      "[881-MainThread  ] [baal.modelwrapper:predict_on_dataset_generator:819] \u001b[2m2024-04-15T01:24:31.008114Z\u001b[0m [\u001b[32m\u001b[1minfo     \u001b[0m] \u001b[1mStart Predict                 \u001b[0m \u001b[36mdataset\u001b[0m=\u001b[35m210\u001b[0m\n",
      "\n",
      "  0%|          | 0/21 [00:00<?, ?it/s]\u001b[A\n",
      "  5%|▍         | 1/21 [00:00<00:07,  2.78it/s]\u001b[A\n",
      " 19%|█▉        | 4/21 [00:00<00:01,  9.65it/s]\u001b[A\n",
      " 33%|███▎      | 7/21 [00:00<00:00, 14.13it/s]\u001b[A\n",
      " 48%|████▊     | 10/21 [00:00<00:00, 17.30it/s]\u001b[A\n",
      " 62%|██████▏   | 13/21 [00:00<00:00, 19.50it/s]\u001b[A\n",
      " 76%|███████▌  | 16/21 [00:00<00:00, 21.03it/s]\u001b[A\n",
      "100%|██████████| 21/21 [00:01<00:00, 16.34it/s]\u001b[A"
     ]
    },
    {
     "name": "stderr",
     "output_type": "stream",
     "text": [
      " 60%|██████    | 32/53 [06:07<04:46, 13.67s/it]"
     ]
    },
    {
     "name": "stdout",
     "output_type": "stream",
     "text": [
      "\n",
      "{'dataset_size': 320,\n",
      " 'test_accuracy': 0.9243056178092957,\n",
      " 'test_loss': 0.23958426713943481,\n",
      " 'train_accuracy': 0.887499988079071,\n",
      " 'train_loss': 0.2688557803630829}\n",
      "[881-MainThread  ] [baal.modelwrapper:train_on_dataset:654] \u001b[2m2024-04-15T01:24:32.303106Z\u001b[0m [\u001b[32m\u001b[1minfo     \u001b[0m] \u001b[1mStarting training             \u001b[0m \u001b[36mdataset\u001b[0m=\u001b[35m330\u001b[0m \u001b[36mepoch\u001b[0m=\u001b[35m10\u001b[0m\n",
      "[881-MainThread  ] [baal.modelwrapper:train_on_dataset:666] \u001b[2m2024-04-15T01:24:43.568546Z\u001b[0m [\u001b[32m\u001b[1minfo     \u001b[0m] \u001b[1mTraining complete             \u001b[0m \u001b[36mtrain_acc\u001b[0m=\u001b[35m0.8914772272109985\u001b[0m \u001b[36mtrain_loss\u001b[0m=\u001b[35m0.26337945461273193\u001b[0m\n",
      "[881-MainThread  ] [baal.modelwrapper:test_on_dataset:696] \u001b[2m2024-04-15T01:24:43.572202Z\u001b[0m [\u001b[32m\u001b[1minfo     \u001b[0m] \u001b[1mStarting evaluating           \u001b[0m \u001b[36mdataset\u001b[0m=\u001b[35m175\u001b[0m\n",
      "[881-MainThread  ] [baal.modelwrapper:test_on_dataset:720] \u001b[2m2024-04-15T01:24:44.778725Z\u001b[0m [\u001b[32m\u001b[1minfo     \u001b[0m] \u001b[1mEvaluation complete           \u001b[0m \u001b[36mtest_acc\u001b[0m=\u001b[35m0.928819477558136\u001b[0m \u001b[36mtest_loss\u001b[0m=\u001b[35m0.24450750648975372\u001b[0m\n",
      "Uth----------- tensor(0.5097)\n",
      "[881-MainThread  ] [baal.modelwrapper:predict_on_dataset_generator:819] \u001b[2m2024-04-15T01:24:44.785633Z\u001b[0m [\u001b[32m\u001b[1minfo     \u001b[0m] \u001b[1mStart Predict                 \u001b[0m \u001b[36mdataset\u001b[0m=\u001b[35m200\u001b[0m\n",
      "\n",
      "  0%|          | 0/20 [00:00<?, ?it/s]\u001b[A\n",
      "  5%|▌         | 1/20 [00:00<00:07,  2.51it/s]\u001b[A\n",
      " 20%|██        | 4/20 [00:00<00:01,  9.28it/s]\u001b[A\n",
      " 35%|███▌      | 7/20 [00:00<00:00, 13.99it/s]\u001b[A\n",
      " 50%|█████     | 10/20 [00:00<00:00, 17.20it/s]\u001b[A\n",
      " 65%|██████▌   | 13/20 [00:00<00:00, 19.45it/s]\u001b[A\n",
      " 80%|████████  | 16/20 [00:01<00:00, 20.95it/s]\u001b[A\n",
      "100%|██████████| 20/20 [00:01<00:00, 16.34it/s]\u001b[A"
     ]
    },
    {
     "name": "stderr",
     "output_type": "stream",
     "text": [
      " 62%|██████▏   | 33/53 [06:21<04:33, 13.68s/it]"
     ]
    },
    {
     "name": "stdout",
     "output_type": "stream",
     "text": [
      "\n",
      "{'dataset_size': 330,\n",
      " 'test_accuracy': 0.928819477558136,\n",
      " 'test_loss': 0.24450750648975372,\n",
      " 'train_accuracy': 0.8914772272109985,\n",
      " 'train_loss': 0.26337945461273193}\n",
      "[881-MainThread  ] [baal.modelwrapper:train_on_dataset:654] \u001b[2m2024-04-15T01:24:46.018307Z\u001b[0m [\u001b[32m\u001b[1minfo     \u001b[0m] \u001b[1mStarting training             \u001b[0m \u001b[36mdataset\u001b[0m=\u001b[35m340\u001b[0m \u001b[36mepoch\u001b[0m=\u001b[35m10\u001b[0m\n",
      "[881-MainThread  ] [baal.modelwrapper:train_on_dataset:666] \u001b[2m2024-04-15T01:24:57.572146Z\u001b[0m [\u001b[32m\u001b[1minfo     \u001b[0m] \u001b[1mTraining complete             \u001b[0m \u001b[36mtrain_acc\u001b[0m=\u001b[35m0.8999999761581421\u001b[0m \u001b[36mtrain_loss\u001b[0m=\u001b[35m0.2740989625453949\u001b[0m\n",
      "[881-MainThread  ] [baal.modelwrapper:test_on_dataset:696] \u001b[2m2024-04-15T01:24:57.576551Z\u001b[0m [\u001b[32m\u001b[1minfo     \u001b[0m] \u001b[1mStarting evaluating           \u001b[0m \u001b[36mdataset\u001b[0m=\u001b[35m175\u001b[0m\n",
      "[881-MainThread  ] [baal.modelwrapper:test_on_dataset:720] \u001b[2m2024-04-15T01:24:58.671959Z\u001b[0m [\u001b[32m\u001b[1minfo     \u001b[0m] \u001b[1mEvaluation complete           \u001b[0m \u001b[36mtest_acc\u001b[0m=\u001b[35m0.9138889312744141\u001b[0m \u001b[36mtest_loss\u001b[0m=\u001b[35m0.22840161621570587\u001b[0m\n",
      "Uth----------- tensor(0.5386)\n",
      "[881-MainThread  ] [baal.modelwrapper:predict_on_dataset_generator:819] \u001b[2m2024-04-15T01:24:58.679679Z\u001b[0m [\u001b[32m\u001b[1minfo     \u001b[0m] \u001b[1mStart Predict                 \u001b[0m \u001b[36mdataset\u001b[0m=\u001b[35m190\u001b[0m\n",
      "\n",
      "  0%|          | 0/19 [00:00<?, ?it/s]\u001b[A\n",
      "  5%|▌         | 1/19 [00:00<00:06,  2.85it/s]\u001b[A\n",
      " 21%|██        | 4/19 [00:00<00:01, 10.12it/s]\u001b[A\n",
      " 37%|███▋      | 7/19 [00:00<00:00, 14.84it/s]\u001b[A\n",
      " 53%|█████▎    | 10/19 [00:00<00:00, 17.84it/s]\u001b[A\n",
      " 68%|██████▊   | 13/19 [00:00<00:00, 19.97it/s]\u001b[A\n",
      " 84%|████████▍ | 16/19 [00:00<00:00, 21.44it/s]\u001b[A\n",
      "100%|██████████| 19/19 [00:01<00:00, 16.70it/s]\u001b[A"
     ]
    },
    {
     "name": "stderr",
     "output_type": "stream",
     "text": [
      " 64%|██████▍   | 34/53 [06:34<04:20, 13.72s/it]"
     ]
    },
    {
     "name": "stdout",
     "output_type": "stream",
     "text": [
      "\n",
      "{'dataset_size': 340,\n",
      " 'test_accuracy': 0.9138889312744141,\n",
      " 'test_loss': 0.22840161621570587,\n",
      " 'train_accuracy': 0.8999999761581421,\n",
      " 'train_loss': 0.2740989625453949}\n",
      "[881-MainThread  ] [baal.modelwrapper:train_on_dataset:654] \u001b[2m2024-04-15T01:24:59.828584Z\u001b[0m [\u001b[32m\u001b[1minfo     \u001b[0m] \u001b[1mStarting training             \u001b[0m \u001b[36mdataset\u001b[0m=\u001b[35m350\u001b[0m \u001b[36mepoch\u001b[0m=\u001b[35m10\u001b[0m\n",
      "[881-MainThread  ] [baal.modelwrapper:train_on_dataset:666] \u001b[2m2024-04-15T01:25:11.194778Z\u001b[0m [\u001b[32m\u001b[1minfo     \u001b[0m] \u001b[1mTraining complete             \u001b[0m \u001b[36mtrain_acc\u001b[0m=\u001b[35m0.8945075869560242\u001b[0m \u001b[36mtrain_loss\u001b[0m=\u001b[35m0.2751240134239197\u001b[0m\n",
      "[881-MainThread  ] [baal.modelwrapper:test_on_dataset:696] \u001b[2m2024-04-15T01:25:11.199483Z\u001b[0m [\u001b[32m\u001b[1minfo     \u001b[0m] \u001b[1mStarting evaluating           \u001b[0m \u001b[36mdataset\u001b[0m=\u001b[35m175\u001b[0m\n",
      "[881-MainThread  ] [baal.modelwrapper:test_on_dataset:720] \u001b[2m2024-04-15T01:25:12.281936Z\u001b[0m [\u001b[32m\u001b[1minfo     \u001b[0m] \u001b[1mEvaluation complete           \u001b[0m \u001b[36mtest_acc\u001b[0m=\u001b[35m0.9309027791023254\u001b[0m \u001b[36mtest_loss\u001b[0m=\u001b[35m0.21067680418491364\u001b[0m\n",
      "Uth----------- tensor(0.5407)\n",
      "[881-MainThread  ] [baal.modelwrapper:predict_on_dataset_generator:819] \u001b[2m2024-04-15T01:25:12.288845Z\u001b[0m [\u001b[32m\u001b[1minfo     \u001b[0m] \u001b[1mStart Predict                 \u001b[0m \u001b[36mdataset\u001b[0m=\u001b[35m180\u001b[0m\n",
      "\n",
      "  0%|          | 0/18 [00:00<?, ?it/s]\u001b[A\n",
      "  6%|▌         | 1/18 [00:00<00:06,  2.81it/s]\u001b[A\n",
      " 22%|██▏       | 4/18 [00:00<00:01, 10.04it/s]\u001b[A\n",
      " 39%|███▉      | 7/18 [00:00<00:00, 14.74it/s]\u001b[A\n",
      " 56%|█████▌    | 10/18 [00:00<00:00, 17.88it/s]\u001b[A\n",
      " 72%|███████▏  | 13/18 [00:00<00:00, 19.99it/s]\u001b[A\n",
      "100%|██████████| 18/18 [00:01<00:00, 16.44it/s]\u001b[A"
     ]
    },
    {
     "name": "stderr",
     "output_type": "stream",
     "text": [
      " 66%|██████▌   | 35/53 [06:48<04:06, 13.67s/it]"
     ]
    },
    {
     "name": "stdout",
     "output_type": "stream",
     "text": [
      "\n",
      "{'dataset_size': 350,\n",
      " 'test_accuracy': 0.9309027791023254,\n",
      " 'test_loss': 0.21067680418491364,\n",
      " 'train_accuracy': 0.8945075869560242,\n",
      " 'train_loss': 0.2751240134239197}\n",
      "[881-MainThread  ] [baal.modelwrapper:train_on_dataset:654] \u001b[2m2024-04-15T01:25:13.392607Z\u001b[0m [\u001b[32m\u001b[1minfo     \u001b[0m] \u001b[1mStarting training             \u001b[0m \u001b[36mdataset\u001b[0m=\u001b[35m360\u001b[0m \u001b[36mepoch\u001b[0m=\u001b[35m10\u001b[0m\n",
      "[881-MainThread  ] [baal.modelwrapper:train_on_dataset:666] \u001b[2m2024-04-15T01:25:25.143936Z\u001b[0m [\u001b[32m\u001b[1minfo     \u001b[0m] \u001b[1mTraining complete             \u001b[0m \u001b[36mtrain_acc\u001b[0m=\u001b[35m0.8932291865348816\u001b[0m \u001b[36mtrain_loss\u001b[0m=\u001b[35m0.2468014806509018\u001b[0m\n",
      "[881-MainThread  ] [baal.modelwrapper:test_on_dataset:696] \u001b[2m2024-04-15T01:25:25.146395Z\u001b[0m [\u001b[32m\u001b[1minfo     \u001b[0m] \u001b[1mStarting evaluating           \u001b[0m \u001b[36mdataset\u001b[0m=\u001b[35m175\u001b[0m\n",
      "[881-MainThread  ] [baal.modelwrapper:test_on_dataset:720] \u001b[2m2024-04-15T01:25:26.215510Z\u001b[0m [\u001b[32m\u001b[1minfo     \u001b[0m] \u001b[1mEvaluation complete           \u001b[0m \u001b[36mtest_acc\u001b[0m=\u001b[35m0.8996527791023254\u001b[0m \u001b[36mtest_loss\u001b[0m=\u001b[35m0.22459734976291656\u001b[0m\n",
      "Uth----------- tensor(0.5419)\n",
      "[881-MainThread  ] [baal.modelwrapper:predict_on_dataset_generator:819] \u001b[2m2024-04-15T01:25:26.222010Z\u001b[0m [\u001b[32m\u001b[1minfo     \u001b[0m] \u001b[1mStart Predict                 \u001b[0m \u001b[36mdataset\u001b[0m=\u001b[35m170\u001b[0m\n",
      "\n",
      "  0%|          | 0/17 [00:00<?, ?it/s]\u001b[A\n",
      "  6%|▌         | 1/17 [00:00<00:05,  2.97it/s]\u001b[A\n",
      " 24%|██▎       | 4/17 [00:00<00:01, 10.37it/s]\u001b[A\n",
      " 41%|████      | 7/17 [00:00<00:00, 14.99it/s]\u001b[A\n",
      " 59%|█████▉    | 10/17 [00:00<00:00, 18.07it/s]\u001b[A\n",
      " 76%|███████▋  | 13/17 [00:00<00:00, 20.02it/s]\u001b[A\n",
      "100%|██████████| 17/17 [00:01<00:00, 16.38it/s]\u001b[A"
     ]
    },
    {
     "name": "stderr",
     "output_type": "stream",
     "text": [
      " 68%|██████▊   | 36/53 [07:02<03:53, 13.73s/it]"
     ]
    },
    {
     "name": "stdout",
     "output_type": "stream",
     "text": [
      "\n",
      "{'dataset_size': 360,\n",
      " 'test_accuracy': 0.8996527791023254,\n",
      " 'test_loss': 0.22459734976291656,\n",
      " 'train_accuracy': 0.8932291865348816,\n",
      " 'train_loss': 0.2468014806509018}\n",
      "[881-MainThread  ] [baal.modelwrapper:train_on_dataset:654] \u001b[2m2024-04-15T01:25:27.269133Z\u001b[0m [\u001b[32m\u001b[1minfo     \u001b[0m] \u001b[1mStarting training             \u001b[0m \u001b[36mdataset\u001b[0m=\u001b[35m370\u001b[0m \u001b[36mepoch\u001b[0m=\u001b[35m10\u001b[0m\n",
      "[881-MainThread  ] [baal.modelwrapper:train_on_dataset:666] \u001b[2m2024-04-15T01:25:39.338218Z\u001b[0m [\u001b[32m\u001b[1minfo     \u001b[0m] \u001b[1mTraining complete             \u001b[0m \u001b[36mtrain_acc\u001b[0m=\u001b[35m0.8929398059844971\u001b[0m \u001b[36mtrain_loss\u001b[0m=\u001b[35m0.25705257058143616\u001b[0m\n",
      "[881-MainThread  ] [baal.modelwrapper:test_on_dataset:696] \u001b[2m2024-04-15T01:25:39.341585Z\u001b[0m [\u001b[32m\u001b[1minfo     \u001b[0m] \u001b[1mStarting evaluating           \u001b[0m \u001b[36mdataset\u001b[0m=\u001b[35m175\u001b[0m\n",
      "[881-MainThread  ] [baal.modelwrapper:test_on_dataset:720] \u001b[2m2024-04-15T01:25:40.463828Z\u001b[0m [\u001b[32m\u001b[1minfo     \u001b[0m] \u001b[1mEvaluation complete           \u001b[0m \u001b[36mtest_acc\u001b[0m=\u001b[35m0.8951389193534851\u001b[0m \u001b[36mtest_loss\u001b[0m=\u001b[35m0.282584011554718\u001b[0m\n",
      "Uth----------- tensor(0.5374)\n",
      "[881-MainThread  ] [baal.modelwrapper:predict_on_dataset_generator:819] \u001b[2m2024-04-15T01:25:40.471344Z\u001b[0m [\u001b[32m\u001b[1minfo     \u001b[0m] \u001b[1mStart Predict                 \u001b[0m \u001b[36mdataset\u001b[0m=\u001b[35m160\u001b[0m\n",
      "\n",
      "  0%|          | 0/16 [00:00<?, ?it/s]\u001b[A\n",
      "  6%|▋         | 1/16 [00:00<00:05,  2.93it/s]\u001b[A\n",
      " 25%|██▌       | 4/16 [00:00<00:01, 10.33it/s]\u001b[A\n",
      " 44%|████▍     | 7/16 [00:00<00:00, 14.95it/s]\u001b[A\n",
      " 62%|██████▎   | 10/16 [00:00<00:00, 18.07it/s]\u001b[A\n",
      " 81%|████████▏ | 13/16 [00:00<00:00, 20.11it/s]\u001b[A\n",
      "100%|██████████| 16/16 [00:01<00:00, 15.90it/s]\u001b[A"
     ]
    },
    {
     "name": "stderr",
     "output_type": "stream",
     "text": [
      " 70%|██████▉   | 37/53 [07:16<03:42, 13.88s/it]"
     ]
    },
    {
     "name": "stdout",
     "output_type": "stream",
     "text": [
      "\n",
      "{'dataset_size': 370,\n",
      " 'test_accuracy': 0.8951389193534851,\n",
      " 'test_loss': 0.282584011554718,\n",
      " 'train_accuracy': 0.8929398059844971,\n",
      " 'train_loss': 0.25705257058143616}\n",
      "[881-MainThread  ] [baal.modelwrapper:train_on_dataset:654] \u001b[2m2024-04-15T01:25:41.487173Z\u001b[0m [\u001b[32m\u001b[1minfo     \u001b[0m] \u001b[1mStarting training             \u001b[0m \u001b[36mdataset\u001b[0m=\u001b[35m380\u001b[0m \u001b[36mepoch\u001b[0m=\u001b[35m10\u001b[0m\n",
      "[881-MainThread  ] [baal.modelwrapper:train_on_dataset:666] \u001b[2m2024-04-15T01:25:53.134148Z\u001b[0m [\u001b[32m\u001b[1minfo     \u001b[0m] \u001b[1mTraining complete             \u001b[0m \u001b[36mtrain_acc\u001b[0m=\u001b[35m0.8924851417541504\u001b[0m \u001b[36mtrain_loss\u001b[0m=\u001b[35m0.24403589963912964\u001b[0m\n",
      "[881-MainThread  ] [baal.modelwrapper:test_on_dataset:696] \u001b[2m2024-04-15T01:25:53.138516Z\u001b[0m [\u001b[32m\u001b[1minfo     \u001b[0m] \u001b[1mStarting evaluating           \u001b[0m \u001b[36mdataset\u001b[0m=\u001b[35m175\u001b[0m\n",
      "[881-MainThread  ] [baal.modelwrapper:test_on_dataset:720] \u001b[2m2024-04-15T01:25:54.210782Z\u001b[0m [\u001b[32m\u001b[1minfo     \u001b[0m] \u001b[1mEvaluation complete           \u001b[0m \u001b[36mtest_acc\u001b[0m=\u001b[35m0.9302083849906921\u001b[0m \u001b[36mtest_loss\u001b[0m=\u001b[35m0.20767901837825775\u001b[0m\n",
      "Uth----------- tensor(0.5318)\n",
      "[881-MainThread  ] [baal.modelwrapper:predict_on_dataset_generator:819] \u001b[2m2024-04-15T01:25:54.217350Z\u001b[0m [\u001b[32m\u001b[1minfo     \u001b[0m] \u001b[1mStart Predict                 \u001b[0m \u001b[36mdataset\u001b[0m=\u001b[35m150\u001b[0m\n",
      "\n",
      "  0%|          | 0/15 [00:00<?, ?it/s]\u001b[A\n",
      "  7%|▋         | 1/15 [00:00<00:05,  2.78it/s]\u001b[A\n",
      " 27%|██▋       | 4/15 [00:00<00:01,  9.96it/s]\u001b[A\n",
      " 47%|████▋     | 7/15 [00:00<00:00, 14.66it/s]\u001b[A\n",
      " 67%|██████▋   | 10/15 [00:00<00:00, 17.58it/s]\u001b[A\n",
      "100%|██████████| 15/15 [00:01<00:00, 14.92it/s]\u001b[A"
     ]
    },
    {
     "name": "stderr",
     "output_type": "stream",
     "text": [
      " 72%|███████▏  | 38/53 [07:30<03:27, 13.84s/it]"
     ]
    },
    {
     "name": "stdout",
     "output_type": "stream",
     "text": [
      "\n",
      "{'dataset_size': 380,\n",
      " 'test_accuracy': 0.9302083849906921,\n",
      " 'test_loss': 0.20767901837825775,\n",
      " 'train_accuracy': 0.8924851417541504,\n",
      " 'train_loss': 0.24403589963912964}\n",
      "[881-MainThread  ] [baal.modelwrapper:train_on_dataset:654] \u001b[2m2024-04-15T01:25:55.230644Z\u001b[0m [\u001b[32m\u001b[1minfo     \u001b[0m] \u001b[1mStarting training             \u001b[0m \u001b[36mdataset\u001b[0m=\u001b[35m390\u001b[0m \u001b[36mepoch\u001b[0m=\u001b[35m10\u001b[0m\n",
      "[881-MainThread  ] [baal.modelwrapper:train_on_dataset:666] \u001b[2m2024-04-15T01:26:07.011668Z\u001b[0m [\u001b[32m\u001b[1minfo     \u001b[0m] \u001b[1mTraining complete             \u001b[0m \u001b[36mtrain_acc\u001b[0m=\u001b[35m0.9278846383094788\u001b[0m \u001b[36mtrain_loss\u001b[0m=\u001b[35m0.19323107600212097\u001b[0m\n",
      "[881-MainThread  ] [baal.modelwrapper:test_on_dataset:696] \u001b[2m2024-04-15T01:26:07.013935Z\u001b[0m [\u001b[32m\u001b[1minfo     \u001b[0m] \u001b[1mStarting evaluating           \u001b[0m \u001b[36mdataset\u001b[0m=\u001b[35m175\u001b[0m\n",
      "[881-MainThread  ] [baal.modelwrapper:test_on_dataset:720] \u001b[2m2024-04-15T01:26:08.132564Z\u001b[0m [\u001b[32m\u001b[1minfo     \u001b[0m] \u001b[1mEvaluation complete           \u001b[0m \u001b[36mtest_acc\u001b[0m=\u001b[35m0.941319465637207\u001b[0m \u001b[36mtest_loss\u001b[0m=\u001b[35m0.17759239673614502\u001b[0m\n",
      "Uth----------- tensor(0.5139)\n",
      "[881-MainThread  ] [baal.modelwrapper:predict_on_dataset_generator:819] \u001b[2m2024-04-15T01:26:08.138980Z\u001b[0m [\u001b[32m\u001b[1minfo     \u001b[0m] \u001b[1mStart Predict                 \u001b[0m \u001b[36mdataset\u001b[0m=\u001b[35m140\u001b[0m\n",
      "\n",
      "  0%|          | 0/14 [00:00<?, ?it/s]\u001b[A\n",
      "  7%|▋         | 1/14 [00:00<00:04,  3.08it/s]\u001b[A\n",
      " 29%|██▊       | 4/14 [00:00<00:00, 10.59it/s]\u001b[A\n",
      " 50%|█████     | 7/14 [00:00<00:00, 15.18it/s]\u001b[A\n",
      " 71%|███████▏  | 10/14 [00:00<00:00, 18.19it/s]\u001b[A\n",
      "100%|██████████| 14/14 [00:00<00:00, 15.44it/s]\u001b[A"
     ]
    },
    {
     "name": "stderr",
     "output_type": "stream",
     "text": [
      " 74%|███████▎  | 39/53 [07:44<03:13, 13.83s/it]"
     ]
    },
    {
     "name": "stdout",
     "output_type": "stream",
     "text": [
      "\n",
      "{'dataset_size': 390,\n",
      " 'test_accuracy': 0.941319465637207,\n",
      " 'test_loss': 0.17759239673614502,\n",
      " 'train_accuracy': 0.9278846383094788,\n",
      " 'train_loss': 0.19323107600212097}\n",
      "[881-MainThread  ] [baal.modelwrapper:train_on_dataset:654] \u001b[2m2024-04-15T01:26:09.053538Z\u001b[0m [\u001b[32m\u001b[1minfo     \u001b[0m] \u001b[1mStarting training             \u001b[0m \u001b[36mdataset\u001b[0m=\u001b[35m400\u001b[0m \u001b[36mepoch\u001b[0m=\u001b[35m10\u001b[0m\n",
      "[881-MainThread  ] [baal.modelwrapper:train_on_dataset:666] \u001b[2m2024-04-15T01:26:21.178034Z\u001b[0m [\u001b[32m\u001b[1minfo     \u001b[0m] \u001b[1mTraining complete             \u001b[0m \u001b[36mtrain_acc\u001b[0m=\u001b[35m0.8966346383094788\u001b[0m \u001b[36mtrain_loss\u001b[0m=\u001b[35m0.24885812401771545\u001b[0m\n",
      "[881-MainThread  ] [baal.modelwrapper:test_on_dataset:696] \u001b[2m2024-04-15T01:26:21.181533Z\u001b[0m [\u001b[32m\u001b[1minfo     \u001b[0m] \u001b[1mStarting evaluating           \u001b[0m \u001b[36mdataset\u001b[0m=\u001b[35m175\u001b[0m\n",
      "[881-MainThread  ] [baal.modelwrapper:test_on_dataset:720] \u001b[2m2024-04-15T01:26:22.262532Z\u001b[0m [\u001b[32m\u001b[1minfo     \u001b[0m] \u001b[1mEvaluation complete           \u001b[0m \u001b[36mtest_acc\u001b[0m=\u001b[35m0.9361111521720886\u001b[0m \u001b[36mtest_loss\u001b[0m=\u001b[35m0.18624156713485718\u001b[0m\n",
      "Uth----------- tensor(0.5298)\n",
      "[881-MainThread  ] [baal.modelwrapper:predict_on_dataset_generator:819] \u001b[2m2024-04-15T01:26:22.273247Z\u001b[0m [\u001b[32m\u001b[1minfo     \u001b[0m] \u001b[1mStart Predict                 \u001b[0m \u001b[36mdataset\u001b[0m=\u001b[35m130\u001b[0m\n",
      "\n",
      "  0%|          | 0/13 [00:00<?, ?it/s]\u001b[A\n",
      "  8%|▊         | 1/13 [00:00<00:03,  3.04it/s]\u001b[A\n",
      " 31%|███       | 4/13 [00:00<00:00, 10.56it/s]\u001b[A\n",
      " 54%|█████▍    | 7/13 [00:00<00:00, 15.19it/s]\u001b[A\n",
      " 77%|███████▋  | 10/13 [00:00<00:00, 18.20it/s]\u001b[A\n",
      "100%|██████████| 13/13 [00:00<00:00, 15.07it/s]\u001b[A"
     ]
    },
    {
     "name": "stderr",
     "output_type": "stream",
     "text": [
      " 75%|███████▌  | 40/53 [07:58<03:00, 13.91s/it]"
     ]
    },
    {
     "name": "stdout",
     "output_type": "stream",
     "text": [
      "\n",
      "{'dataset_size': 400,\n",
      " 'test_accuracy': 0.9361111521720886,\n",
      " 'test_loss': 0.18624156713485718,\n",
      " 'train_accuracy': 0.8966346383094788,\n",
      " 'train_loss': 0.24885812401771545}\n",
      "[881-MainThread  ] [baal.modelwrapper:train_on_dataset:654] \u001b[2m2024-04-15T01:26:23.148635Z\u001b[0m [\u001b[32m\u001b[1minfo     \u001b[0m] \u001b[1mStarting training             \u001b[0m \u001b[36mdataset\u001b[0m=\u001b[35m410\u001b[0m \u001b[36mepoch\u001b[0m=\u001b[35m10\u001b[0m\n",
      "[881-MainThread  ] [baal.modelwrapper:train_on_dataset:666] \u001b[2m2024-04-15T01:26:36.018037Z\u001b[0m [\u001b[32m\u001b[1minfo     \u001b[0m] \u001b[1mTraining complete             \u001b[0m \u001b[36mtrain_acc\u001b[0m=\u001b[35m0.8829511404037476\u001b[0m \u001b[36mtrain_loss\u001b[0m=\u001b[35m0.2682037651538849\u001b[0m\n",
      "[881-MainThread  ] [baal.modelwrapper:test_on_dataset:696] \u001b[2m2024-04-15T01:26:36.022199Z\u001b[0m [\u001b[32m\u001b[1minfo     \u001b[0m] \u001b[1mStarting evaluating           \u001b[0m \u001b[36mdataset\u001b[0m=\u001b[35m175\u001b[0m\n",
      "[881-MainThread  ] [baal.modelwrapper:test_on_dataset:720] \u001b[2m2024-04-15T01:26:37.129725Z\u001b[0m [\u001b[32m\u001b[1minfo     \u001b[0m] \u001b[1mEvaluation complete           \u001b[0m \u001b[36mtest_acc\u001b[0m=\u001b[35m0.941319465637207\u001b[0m \u001b[36mtest_loss\u001b[0m=\u001b[35m0.19361884891986847\u001b[0m\n",
      "Uth----------- tensor(0.5290)\n",
      "[881-MainThread  ] [baal.modelwrapper:predict_on_dataset_generator:819] \u001b[2m2024-04-15T01:26:37.137004Z\u001b[0m [\u001b[32m\u001b[1minfo     \u001b[0m] \u001b[1mStart Predict                 \u001b[0m \u001b[36mdataset\u001b[0m=\u001b[35m120\u001b[0m\n",
      "\n",
      "  0%|          | 0/12 [00:00<?, ?it/s]\u001b[A\n",
      "  8%|▊         | 1/12 [00:00<00:04,  2.31it/s]\u001b[A\n",
      " 33%|███▎      | 4/12 [00:00<00:00,  8.75it/s]\u001b[A\n",
      " 58%|█████▊    | 7/12 [00:00<00:00, 13.44it/s]\u001b[A\n",
      "100%|██████████| 12/12 [00:00<00:00, 12.50it/s]\u001b[A"
     ]
    },
    {
     "name": "stderr",
     "output_type": "stream",
     "text": [
      " 77%|███████▋  | 41/53 [08:13<02:50, 14.23s/it]"
     ]
    },
    {
     "name": "stdout",
     "output_type": "stream",
     "text": [
      "\n",
      "{'dataset_size': 410,\n",
      " 'test_accuracy': 0.941319465637207,\n",
      " 'test_loss': 0.19361884891986847,\n",
      " 'train_accuracy': 0.8829511404037476,\n",
      " 'train_loss': 0.2682037651538849}\n",
      "[881-MainThread  ] [baal.modelwrapper:train_on_dataset:654] \u001b[2m2024-04-15T01:26:38.105906Z\u001b[0m [\u001b[32m\u001b[1minfo     \u001b[0m] \u001b[1mStarting training             \u001b[0m \u001b[36mdataset\u001b[0m=\u001b[35m420\u001b[0m \u001b[36mepoch\u001b[0m=\u001b[35m10\u001b[0m\n",
      "[881-MainThread  ] [baal.modelwrapper:train_on_dataset:666] \u001b[2m2024-04-15T01:26:51.862586Z\u001b[0m [\u001b[32m\u001b[1minfo     \u001b[0m] \u001b[1mTraining complete             \u001b[0m \u001b[36mtrain_acc\u001b[0m=\u001b[35m0.9129464030265808\u001b[0m \u001b[36mtrain_loss\u001b[0m=\u001b[35m0.21961061656475067\u001b[0m\n",
      "[881-MainThread  ] [baal.modelwrapper:test_on_dataset:696] \u001b[2m2024-04-15T01:26:51.865424Z\u001b[0m [\u001b[32m\u001b[1minfo     \u001b[0m] \u001b[1mStarting evaluating           \u001b[0m \u001b[36mdataset\u001b[0m=\u001b[35m175\u001b[0m\n",
      "[881-MainThread  ] [baal.modelwrapper:test_on_dataset:720] \u001b[2m2024-04-15T01:26:53.135367Z\u001b[0m [\u001b[32m\u001b[1minfo     \u001b[0m] \u001b[1mEvaluation complete           \u001b[0m \u001b[36mtest_acc\u001b[0m=\u001b[35m0.9243056178092957\u001b[0m \u001b[36mtest_loss\u001b[0m=\u001b[35m0.2064506560564041\u001b[0m\n",
      "Uth----------- tensor(0.5228)\n",
      "[881-MainThread  ] [baal.modelwrapper:predict_on_dataset_generator:819] \u001b[2m2024-04-15T01:26:53.142584Z\u001b[0m [\u001b[32m\u001b[1minfo     \u001b[0m] \u001b[1mStart Predict                 \u001b[0m \u001b[36mdataset\u001b[0m=\u001b[35m110\u001b[0m\n",
      "\n",
      "  0%|          | 0/11 [00:00<?, ?it/s]\u001b[A\n",
      "  9%|▉         | 1/11 [00:00<00:03,  2.99it/s]\u001b[A\n",
      " 36%|███▋      | 4/11 [00:00<00:00, 10.44it/s]\u001b[A\n",
      " 64%|██████▎   | 7/11 [00:00<00:00, 14.95it/s]\u001b[A\n",
      "100%|██████████| 11/11 [00:00<00:00, 13.80it/s]\u001b[A"
     ]
    },
    {
     "name": "stderr",
     "output_type": "stream",
     "text": [
      " 79%|███████▉  | 42/53 [08:29<02:41, 14.71s/it]"
     ]
    },
    {
     "name": "stdout",
     "output_type": "stream",
     "text": [
      "\n",
      "{'dataset_size': 420,\n",
      " 'test_accuracy': 0.9243056178092957,\n",
      " 'test_loss': 0.2064506560564041,\n",
      " 'train_accuracy': 0.9129464030265808,\n",
      " 'train_loss': 0.21961061656475067}\n",
      "[881-MainThread  ] [baal.modelwrapper:train_on_dataset:654] \u001b[2m2024-04-15T01:26:53.948594Z\u001b[0m [\u001b[32m\u001b[1minfo     \u001b[0m] \u001b[1mStarting training             \u001b[0m \u001b[36mdataset\u001b[0m=\u001b[35m430\u001b[0m \u001b[36mepoch\u001b[0m=\u001b[35m10\u001b[0m\n",
      "[881-MainThread  ] [baal.modelwrapper:train_on_dataset:666] \u001b[2m2024-04-15T01:27:07.825346Z\u001b[0m [\u001b[32m\u001b[1minfo     \u001b[0m] \u001b[1mTraining complete             \u001b[0m \u001b[36mtrain_acc\u001b[0m=\u001b[35m0.9129464030265808\u001b[0m \u001b[36mtrain_loss\u001b[0m=\u001b[35m0.21838876605033875\u001b[0m\n",
      "[881-MainThread  ] [baal.modelwrapper:test_on_dataset:696] \u001b[2m2024-04-15T01:27:07.829125Z\u001b[0m [\u001b[32m\u001b[1minfo     \u001b[0m] \u001b[1mStarting evaluating           \u001b[0m \u001b[36mdataset\u001b[0m=\u001b[35m175\u001b[0m\n",
      "[881-MainThread  ] [baal.modelwrapper:test_on_dataset:720] \u001b[2m2024-04-15T01:27:09.032116Z\u001b[0m [\u001b[32m\u001b[1minfo     \u001b[0m] \u001b[1mEvaluation complete           \u001b[0m \u001b[36mtest_acc\u001b[0m=\u001b[35m0.909375011920929\u001b[0m \u001b[36mtest_loss\u001b[0m=\u001b[35m0.21372871100902557\u001b[0m\n",
      "Uth----------- tensor(0.5187)\n",
      "[881-MainThread  ] [baal.modelwrapper:predict_on_dataset_generator:819] \u001b[2m2024-04-15T01:27:09.039293Z\u001b[0m [\u001b[32m\u001b[1minfo     \u001b[0m] \u001b[1mStart Predict                 \u001b[0m \u001b[36mdataset\u001b[0m=\u001b[35m100\u001b[0m\n",
      "\n",
      "  0%|          | 0/10 [00:00<?, ?it/s]\u001b[A\n",
      " 10%|█         | 1/10 [00:00<00:03,  2.28it/s]\u001b[A\n",
      " 40%|████      | 4/10 [00:00<00:00,  8.64it/s]\u001b[A\n",
      " 70%|███████   | 7/10 [00:00<00:00, 13.29it/s]\u001b[A\n",
      "100%|██████████| 10/10 [00:00<00:00, 11.63it/s]\u001b[A"
     ]
    },
    {
     "name": "stderr",
     "output_type": "stream",
     "text": [
      " 81%|████████  | 43/53 [08:44<02:30, 15.09s/it]"
     ]
    },
    {
     "name": "stdout",
     "output_type": "stream",
     "text": [
      "\n",
      "{'dataset_size': 430,\n",
      " 'test_accuracy': 0.909375011920929,\n",
      " 'test_loss': 0.21372871100902557,\n",
      " 'train_accuracy': 0.9129464030265808,\n",
      " 'train_loss': 0.21838876605033875}\n",
      "[881-MainThread  ] [baal.modelwrapper:train_on_dataset:654] \u001b[2m2024-04-15T01:27:09.907278Z\u001b[0m [\u001b[32m\u001b[1minfo     \u001b[0m] \u001b[1mStarting training             \u001b[0m \u001b[36mdataset\u001b[0m=\u001b[35m440\u001b[0m \u001b[36mepoch\u001b[0m=\u001b[35m10\u001b[0m\n",
      "[881-MainThread  ] [baal.modelwrapper:train_on_dataset:666] \u001b[2m2024-04-15T01:27:23.569444Z\u001b[0m [\u001b[32m\u001b[1minfo     \u001b[0m] \u001b[1mTraining complete             \u001b[0m \u001b[36mtrain_acc\u001b[0m=\u001b[35m0.9174107313156128\u001b[0m \u001b[36mtrain_loss\u001b[0m=\u001b[35m0.2056470662355423\u001b[0m\n",
      "[881-MainThread  ] [baal.modelwrapper:test_on_dataset:696] \u001b[2m2024-04-15T01:27:23.573969Z\u001b[0m [\u001b[32m\u001b[1minfo     \u001b[0m] \u001b[1mStarting evaluating           \u001b[0m \u001b[36mdataset\u001b[0m=\u001b[35m175\u001b[0m\n",
      "[881-MainThread  ] [baal.modelwrapper:test_on_dataset:720] \u001b[2m2024-04-15T01:27:24.665221Z\u001b[0m [\u001b[32m\u001b[1minfo     \u001b[0m] \u001b[1mEvaluation complete           \u001b[0m \u001b[36mtest_acc\u001b[0m=\u001b[35m0.9309027791023254\u001b[0m \u001b[36mtest_loss\u001b[0m=\u001b[35m0.19050030410289764\u001b[0m\n",
      "Uth----------- tensor(0.5203)\n",
      "[881-MainThread  ] [baal.modelwrapper:predict_on_dataset_generator:819] \u001b[2m2024-04-15T01:27:24.672695Z\u001b[0m [\u001b[32m\u001b[1minfo     \u001b[0m] \u001b[1mStart Predict                 \u001b[0m \u001b[36mdataset\u001b[0m=\u001b[35m90\u001b[0m\n",
      "\n",
      "  0%|          | 0/9 [00:00<?, ?it/s]\u001b[A\n",
      " 11%|█         | 1/9 [00:00<00:02,  3.01it/s]\u001b[A\n",
      " 44%|████▍     | 4/9 [00:00<00:00, 10.50it/s]\u001b[A\n",
      "100%|██████████| 9/9 [00:00<00:00, 12.72it/s]\u001b[A"
     ]
    },
    {
     "name": "stderr",
     "output_type": "stream",
     "text": [
      " 83%|████████▎ | 44/53 [09:00<02:16, 15.20s/it]"
     ]
    },
    {
     "name": "stdout",
     "output_type": "stream",
     "text": [
      "\n",
      "{'dataset_size': 440,\n",
      " 'test_accuracy': 0.9309027791023254,\n",
      " 'test_loss': 0.19050030410289764,\n",
      " 'train_accuracy': 0.9174107313156128,\n",
      " 'train_loss': 0.2056470662355423}\n",
      "[881-MainThread  ] [baal.modelwrapper:train_on_dataset:654] \u001b[2m2024-04-15T01:27:25.388520Z\u001b[0m [\u001b[32m\u001b[1minfo     \u001b[0m] \u001b[1mStarting training             \u001b[0m \u001b[36mdataset\u001b[0m=\u001b[35m450\u001b[0m \u001b[36mepoch\u001b[0m=\u001b[35m10\u001b[0m\n",
      "[881-MainThread  ] [baal.modelwrapper:train_on_dataset:666] \u001b[2m2024-04-15T01:27:39.730284Z\u001b[0m [\u001b[32m\u001b[1minfo     \u001b[0m] \u001b[1mTraining complete             \u001b[0m \u001b[36mtrain_acc\u001b[0m=\u001b[35m0.925000011920929\u001b[0m \u001b[36mtrain_loss\u001b[0m=\u001b[35m0.18073345720767975\u001b[0m\n",
      "[881-MainThread  ] [baal.modelwrapper:test_on_dataset:696] \u001b[2m2024-04-15T01:27:39.732801Z\u001b[0m [\u001b[32m\u001b[1minfo     \u001b[0m] \u001b[1mStarting evaluating           \u001b[0m \u001b[36mdataset\u001b[0m=\u001b[35m175\u001b[0m\n",
      "[881-MainThread  ] [baal.modelwrapper:test_on_dataset:720] \u001b[2m2024-04-15T01:27:40.869386Z\u001b[0m [\u001b[32m\u001b[1minfo     \u001b[0m] \u001b[1mEvaluation complete           \u001b[0m \u001b[36mtest_acc\u001b[0m=\u001b[35m0.878819465637207\u001b[0m \u001b[36mtest_loss\u001b[0m=\u001b[35m0.29535046219825745\u001b[0m\n",
      "Uth----------- tensor(0.5232)\n",
      "[881-MainThread  ] [baal.modelwrapper:predict_on_dataset_generator:819] \u001b[2m2024-04-15T01:27:40.876400Z\u001b[0m [\u001b[32m\u001b[1minfo     \u001b[0m] \u001b[1mStart Predict                 \u001b[0m \u001b[36mdataset\u001b[0m=\u001b[35m80\u001b[0m\n",
      "\n",
      "  0%|          | 0/8 [00:00<?, ?it/s]\u001b[A\n",
      " 12%|█▎        | 1/8 [00:00<00:02,  3.12it/s]\u001b[A\n",
      " 50%|█████     | 4/8 [00:00<00:00, 10.73it/s]\u001b[A\n",
      "100%|██████████| 8/8 [00:00<00:00, 12.00it/s]\u001b[A"
     ]
    },
    {
     "name": "stderr",
     "output_type": "stream",
     "text": [
      " 85%|████████▍ | 45/53 [09:16<02:03, 15.49s/it]"
     ]
    },
    {
     "name": "stdout",
     "output_type": "stream",
     "text": [
      "\n",
      "{'dataset_size': 450,\n",
      " 'test_accuracy': 0.878819465637207,\n",
      " 'test_loss': 0.29535046219825745,\n",
      " 'train_accuracy': 0.925000011920929,\n",
      " 'train_loss': 0.18073345720767975}\n",
      "[881-MainThread  ] [baal.modelwrapper:train_on_dataset:654] \u001b[2m2024-04-15T01:27:41.554362Z\u001b[0m [\u001b[32m\u001b[1minfo     \u001b[0m] \u001b[1mStarting training             \u001b[0m \u001b[36mdataset\u001b[0m=\u001b[35m460\u001b[0m \u001b[36mepoch\u001b[0m=\u001b[35m10\u001b[0m\n",
      "[881-MainThread  ] [baal.modelwrapper:train_on_dataset:666] \u001b[2m2024-04-15T01:27:55.626675Z\u001b[0m [\u001b[32m\u001b[1minfo     \u001b[0m] \u001b[1mTraining complete             \u001b[0m \u001b[36mtrain_acc\u001b[0m=\u001b[35m0.8826389312744141\u001b[0m \u001b[36mtrain_loss\u001b[0m=\u001b[35m0.2958732545375824\u001b[0m\n",
      "[881-MainThread  ] [baal.modelwrapper:test_on_dataset:696] \u001b[2m2024-04-15T01:27:55.629880Z\u001b[0m [\u001b[32m\u001b[1minfo     \u001b[0m] \u001b[1mStarting evaluating           \u001b[0m \u001b[36mdataset\u001b[0m=\u001b[35m175\u001b[0m\n",
      "[881-MainThread  ] [baal.modelwrapper:test_on_dataset:720] \u001b[2m2024-04-15T01:27:56.701281Z\u001b[0m [\u001b[32m\u001b[1minfo     \u001b[0m] \u001b[1mEvaluation complete           \u001b[0m \u001b[36mtest_acc\u001b[0m=\u001b[35m0.9020833373069763\u001b[0m \u001b[36mtest_loss\u001b[0m=\u001b[35m0.29232996702194214\u001b[0m\n",
      "Uth----------- tensor(0.5017)\n",
      "[881-MainThread  ] [baal.modelwrapper:predict_on_dataset_generator:819] \u001b[2m2024-04-15T01:27:56.708234Z\u001b[0m [\u001b[32m\u001b[1minfo     \u001b[0m] \u001b[1mStart Predict                 \u001b[0m \u001b[36mdataset\u001b[0m=\u001b[35m70\u001b[0m\n",
      "\n",
      "  0%|          | 0/7 [00:00<?, ?it/s]\u001b[A\n",
      " 14%|█▍        | 1/7 [00:00<00:01,  3.11it/s]\u001b[A\n",
      " 57%|█████▋    | 4/7 [00:00<00:00, 10.62it/s]\u001b[A\n",
      "100%|██████████| 7/7 [00:00<00:00, 10.76it/s]\u001b[A"
     ]
    },
    {
     "name": "stderr",
     "output_type": "stream",
     "text": [
      " 87%|████████▋ | 46/53 [09:32<01:49, 15.59s/it]"
     ]
    },
    {
     "name": "stdout",
     "output_type": "stream",
     "text": [
      "\n",
      "{'dataset_size': 460,\n",
      " 'test_accuracy': 0.9020833373069763,\n",
      " 'test_loss': 0.29232996702194214,\n",
      " 'train_accuracy': 0.8826389312744141,\n",
      " 'train_loss': 0.2958732545375824}\n",
      "[881-MainThread  ] [baal.modelwrapper:train_on_dataset:654] \u001b[2m2024-04-15T01:27:57.369668Z\u001b[0m [\u001b[32m\u001b[1minfo     \u001b[0m] \u001b[1mStarting training             \u001b[0m \u001b[36mdataset\u001b[0m=\u001b[35m470\u001b[0m \u001b[36mepoch\u001b[0m=\u001b[35m10\u001b[0m\n",
      "[881-MainThread  ] [baal.modelwrapper:train_on_dataset:666] \u001b[2m2024-04-15T01:28:11.618074Z\u001b[0m [\u001b[32m\u001b[1minfo     \u001b[0m] \u001b[1mTraining complete             \u001b[0m \u001b[36mtrain_acc\u001b[0m=\u001b[35m0.9221590757369995\u001b[0m \u001b[36mtrain_loss\u001b[0m=\u001b[35m0.2002592235803604\u001b[0m\n",
      "[881-MainThread  ] [baal.modelwrapper:test_on_dataset:696] \u001b[2m2024-04-15T01:28:11.622599Z\u001b[0m [\u001b[32m\u001b[1minfo     \u001b[0m] \u001b[1mStarting evaluating           \u001b[0m \u001b[36mdataset\u001b[0m=\u001b[35m175\u001b[0m\n",
      "[881-MainThread  ] [baal.modelwrapper:test_on_dataset:720] \u001b[2m2024-04-15T01:28:12.865305Z\u001b[0m [\u001b[32m\u001b[1minfo     \u001b[0m] \u001b[1mEvaluation complete           \u001b[0m \u001b[36mtest_acc\u001b[0m=\u001b[35m0.8371527791023254\u001b[0m \u001b[36mtest_loss\u001b[0m=\u001b[35m0.3397754728794098\u001b[0m\n",
      "Uth----------- tensor(0.5380)\n",
      "[881-MainThread  ] [baal.modelwrapper:predict_on_dataset_generator:819] \u001b[2m2024-04-15T01:28:12.872878Z\u001b[0m [\u001b[32m\u001b[1minfo     \u001b[0m] \u001b[1mStart Predict                 \u001b[0m \u001b[36mdataset\u001b[0m=\u001b[35m60\u001b[0m\n",
      "\n",
      "  0%|          | 0/6 [00:00<?, ?it/s]\u001b[A\n",
      " 17%|█▋        | 1/6 [00:00<00:02,  2.42it/s]\u001b[A\n",
      "100%|██████████| 6/6 [00:00<00:00,  9.03it/s]\u001b[A"
     ]
    },
    {
     "name": "stderr",
     "output_type": "stream",
     "text": [
      " 89%|████████▊ | 47/53 [09:48<01:34, 15.77s/it]"
     ]
    },
    {
     "name": "stdout",
     "output_type": "stream",
     "text": [
      "\n",
      "{'dataset_size': 470,\n",
      " 'test_accuracy': 0.8371527791023254,\n",
      " 'test_loss': 0.3397754728794098,\n",
      " 'train_accuracy': 0.9221590757369995,\n",
      " 'train_loss': 0.2002592235803604}\n",
      "[881-MainThread  ] [baal.modelwrapper:train_on_dataset:654] \u001b[2m2024-04-15T01:28:13.545220Z\u001b[0m [\u001b[32m\u001b[1minfo     \u001b[0m] \u001b[1mStarting training             \u001b[0m \u001b[36mdataset\u001b[0m=\u001b[35m480\u001b[0m \u001b[36mepoch\u001b[0m=\u001b[35m10\u001b[0m\n",
      "[881-MainThread  ] [baal.modelwrapper:train_on_dataset:666] \u001b[2m2024-04-15T01:28:27.770232Z\u001b[0m [\u001b[32m\u001b[1minfo     \u001b[0m] \u001b[1mTraining complete             \u001b[0m \u001b[36mtrain_acc\u001b[0m=\u001b[35m0.8999999761581421\u001b[0m \u001b[36mtrain_loss\u001b[0m=\u001b[35m0.23015497624874115\u001b[0m\n",
      "[881-MainThread  ] [baal.modelwrapper:test_on_dataset:696] \u001b[2m2024-04-15T01:28:27.775533Z\u001b[0m [\u001b[32m\u001b[1minfo     \u001b[0m] \u001b[1mStarting evaluating           \u001b[0m \u001b[36mdataset\u001b[0m=\u001b[35m175\u001b[0m\n",
      "[881-MainThread  ] [baal.modelwrapper:test_on_dataset:720] \u001b[2m2024-04-15T01:28:28.869053Z\u001b[0m [\u001b[32m\u001b[1minfo     \u001b[0m] \u001b[1mEvaluation complete           \u001b[0m \u001b[36mtest_acc\u001b[0m=\u001b[35m0.8840277791023254\u001b[0m \u001b[36mtest_loss\u001b[0m=\u001b[35m0.26024261116981506\u001b[0m\n",
      "Uth----------- tensor(0.5366)\n",
      "[881-MainThread  ] [baal.modelwrapper:predict_on_dataset_generator:819] \u001b[2m2024-04-15T01:28:28.877504Z\u001b[0m [\u001b[32m\u001b[1minfo     \u001b[0m] \u001b[1mStart Predict                 \u001b[0m \u001b[36mdataset\u001b[0m=\u001b[35m50\u001b[0m\n",
      "\n",
      "  0%|          | 0/5 [00:00<?, ?it/s]\u001b[A\n",
      " 20%|██        | 1/5 [00:00<00:01,  2.49it/s]\u001b[A\n",
      "100%|██████████| 5/5 [00:00<00:00,  8.07it/s]\u001b[A"
     ]
    },
    {
     "name": "stderr",
     "output_type": "stream",
     "text": [
      " 91%|█████████ | 48/53 [10:04<01:19, 15.82s/it]"
     ]
    },
    {
     "name": "stdout",
     "output_type": "stream",
     "text": [
      "\n",
      "{'dataset_size': 480,\n",
      " 'test_accuracy': 0.8840277791023254,\n",
      " 'test_loss': 0.26024261116981506,\n",
      " 'train_accuracy': 0.8999999761581421,\n",
      " 'train_loss': 0.23015497624874115}\n",
      "[881-MainThread  ] [baal.modelwrapper:train_on_dataset:654] \u001b[2m2024-04-15T01:28:29.505550Z\u001b[0m [\u001b[32m\u001b[1minfo     \u001b[0m] \u001b[1mStarting training             \u001b[0m \u001b[36mdataset\u001b[0m=\u001b[35m490\u001b[0m \u001b[36mepoch\u001b[0m=\u001b[35m10\u001b[0m\n",
      "[881-MainThread  ] [baal.modelwrapper:train_on_dataset:666] \u001b[2m2024-04-15T01:28:44.094690Z\u001b[0m [\u001b[32m\u001b[1minfo     \u001b[0m] \u001b[1mTraining complete             \u001b[0m \u001b[36mtrain_acc\u001b[0m=\u001b[35m0.90625\u001b[0m \u001b[36mtrain_loss\u001b[0m=\u001b[35m0.2115267515182495\u001b[0m\n",
      "[881-MainThread  ] [baal.modelwrapper:test_on_dataset:696] \u001b[2m2024-04-15T01:28:44.097651Z\u001b[0m [\u001b[32m\u001b[1minfo     \u001b[0m] \u001b[1mStarting evaluating           \u001b[0m \u001b[36mdataset\u001b[0m=\u001b[35m175\u001b[0m\n",
      "[881-MainThread  ] [baal.modelwrapper:test_on_dataset:720] \u001b[2m2024-04-15T01:28:45.261251Z\u001b[0m [\u001b[32m\u001b[1minfo     \u001b[0m] \u001b[1mEvaluation complete           \u001b[0m \u001b[36mtest_acc\u001b[0m=\u001b[35m0.8968749642372131\u001b[0m \u001b[36mtest_loss\u001b[0m=\u001b[35m0.3547874987125397\u001b[0m\n",
      "Uth----------- tensor(0.5045)\n",
      "[881-MainThread  ] [baal.modelwrapper:predict_on_dataset_generator:819] \u001b[2m2024-04-15T01:28:45.268546Z\u001b[0m [\u001b[32m\u001b[1minfo     \u001b[0m] \u001b[1mStart Predict                 \u001b[0m \u001b[36mdataset\u001b[0m=\u001b[35m40\u001b[0m\n",
      "\n",
      "  0%|          | 0/4 [00:00<?, ?it/s]\u001b[A\n",
      " 25%|██▌       | 1/4 [00:00<00:00,  3.25it/s]\u001b[A\n",
      "100%|██████████| 4/4 [00:00<00:00,  8.34it/s]\u001b[A"
     ]
    },
    {
     "name": "stderr",
     "output_type": "stream",
     "text": [
      " 92%|█████████▏| 49/53 [10:20<01:03, 15.95s/it]"
     ]
    },
    {
     "name": "stdout",
     "output_type": "stream",
     "text": [
      "\n",
      "{'dataset_size': 490,\n",
      " 'test_accuracy': 0.8968749642372131,\n",
      " 'test_loss': 0.3547874987125397,\n",
      " 'train_accuracy': 0.90625,\n",
      " 'train_loss': 0.2115267515182495}\n",
      "[881-MainThread  ] [baal.modelwrapper:train_on_dataset:654] \u001b[2m2024-04-15T01:28:45.757650Z\u001b[0m [\u001b[32m\u001b[1minfo     \u001b[0m] \u001b[1mStarting training             \u001b[0m \u001b[36mdataset\u001b[0m=\u001b[35m500\u001b[0m \u001b[36mepoch\u001b[0m=\u001b[35m10\u001b[0m\n",
      "[881-MainThread  ] [baal.modelwrapper:train_on_dataset:666] \u001b[2m2024-04-15T01:29:00.147246Z\u001b[0m [\u001b[32m\u001b[1minfo     \u001b[0m] \u001b[1mTraining complete             \u001b[0m \u001b[36mtrain_acc\u001b[0m=\u001b[35m0.920703113079071\u001b[0m \u001b[36mtrain_loss\u001b[0m=\u001b[35m0.20813240110874176\u001b[0m\n",
      "[881-MainThread  ] [baal.modelwrapper:test_on_dataset:696] \u001b[2m2024-04-15T01:29:00.151249Z\u001b[0m [\u001b[32m\u001b[1minfo     \u001b[0m] \u001b[1mStarting evaluating           \u001b[0m \u001b[36mdataset\u001b[0m=\u001b[35m175\u001b[0m\n",
      "[881-MainThread  ] [baal.modelwrapper:test_on_dataset:720] \u001b[2m2024-04-15T01:29:01.221645Z\u001b[0m [\u001b[32m\u001b[1minfo     \u001b[0m] \u001b[1mEvaluation complete           \u001b[0m \u001b[36mtest_acc\u001b[0m=\u001b[35m0.9072916507720947\u001b[0m \u001b[36mtest_loss\u001b[0m=\u001b[35m0.264026015996933\u001b[0m\n",
      "Uth----------- tensor(0.5043)\n",
      "[881-MainThread  ] [baal.modelwrapper:predict_on_dataset_generator:819] \u001b[2m2024-04-15T01:29:01.228408Z\u001b[0m [\u001b[32m\u001b[1minfo     \u001b[0m] \u001b[1mStart Predict                 \u001b[0m \u001b[36mdataset\u001b[0m=\u001b[35m30\u001b[0m\n",
      "\n",
      "  0%|          | 0/3 [00:00<?, ?it/s]\u001b[A\n",
      "100%|██████████| 3/3 [00:00<00:00,  6.90it/s]\u001b[A"
     ]
    },
    {
     "name": "stderr",
     "output_type": "stream",
     "text": [
      " 94%|█████████▍| 50/53 [10:36<00:47, 15.94s/it]"
     ]
    },
    {
     "name": "stdout",
     "output_type": "stream",
     "text": [
      "\n",
      "{'dataset_size': 500,\n",
      " 'test_accuracy': 0.9072916507720947,\n",
      " 'test_loss': 0.264026015996933,\n",
      " 'train_accuracy': 0.920703113079071,\n",
      " 'train_loss': 0.20813240110874176}\n",
      "[881-MainThread  ] [baal.modelwrapper:train_on_dataset:654] \u001b[2m2024-04-15T01:29:01.674247Z\u001b[0m [\u001b[32m\u001b[1minfo     \u001b[0m] \u001b[1mStarting training             \u001b[0m \u001b[36mdataset\u001b[0m=\u001b[35m510\u001b[0m \u001b[36mepoch\u001b[0m=\u001b[35m10\u001b[0m\n",
      "[881-MainThread  ] [baal.modelwrapper:train_on_dataset:666] \u001b[2m2024-04-15T01:29:16.132924Z\u001b[0m [\u001b[32m\u001b[1minfo     \u001b[0m] \u001b[1mTraining complete             \u001b[0m \u001b[36mtrain_acc\u001b[0m=\u001b[35m0.9291666746139526\u001b[0m \u001b[36mtrain_loss\u001b[0m=\u001b[35m0.17019879817962646\u001b[0m\n",
      "[881-MainThread  ] [baal.modelwrapper:test_on_dataset:696] \u001b[2m2024-04-15T01:29:16.137531Z\u001b[0m [\u001b[32m\u001b[1minfo     \u001b[0m] \u001b[1mStarting evaluating           \u001b[0m \u001b[36mdataset\u001b[0m=\u001b[35m175\u001b[0m\n",
      "[881-MainThread  ] [baal.modelwrapper:test_on_dataset:720] \u001b[2m2024-04-15T01:29:17.209861Z\u001b[0m [\u001b[32m\u001b[1minfo     \u001b[0m] \u001b[1mEvaluation complete           \u001b[0m \u001b[36mtest_acc\u001b[0m=\u001b[35m0.9309027791023254\u001b[0m \u001b[36mtest_loss\u001b[0m=\u001b[35m0.18728142976760864\u001b[0m\n",
      "Uth----------- tensor(0.5065)\n",
      "[881-MainThread  ] [baal.modelwrapper:predict_on_dataset_generator:819] \u001b[2m2024-04-15T01:29:17.216346Z\u001b[0m [\u001b[32m\u001b[1minfo     \u001b[0m] \u001b[1mStart Predict                 \u001b[0m \u001b[36mdataset\u001b[0m=\u001b[35m20\u001b[0m\n",
      "\n",
      "  0%|          | 0/2 [00:00<?, ?it/s]\u001b[A\n",
      "100%|██████████| 2/2 [00:00<00:00,  4.92it/s]\u001b[A"
     ]
    },
    {
     "name": "stderr",
     "output_type": "stream",
     "text": [
      " 96%|█████████▌| 51/53 [10:52<00:31, 15.95s/it]"
     ]
    },
    {
     "name": "stdout",
     "output_type": "stream",
     "text": [
      "\n",
      "{'dataset_size': 510,\n",
      " 'test_accuracy': 0.9309027791023254,\n",
      " 'test_loss': 0.18728142976760864,\n",
      " 'train_accuracy': 0.9291666746139526,\n",
      " 'train_loss': 0.17019879817962646}\n",
      "[881-MainThread  ] [baal.modelwrapper:train_on_dataset:654] \u001b[2m2024-04-15T01:29:17.630110Z\u001b[0m [\u001b[32m\u001b[1minfo     \u001b[0m] \u001b[1mStarting training             \u001b[0m \u001b[36mdataset\u001b[0m=\u001b[35m520\u001b[0m \u001b[36mepoch\u001b[0m=\u001b[35m10\u001b[0m\n",
      "[881-MainThread  ] [baal.modelwrapper:train_on_dataset:666] \u001b[2m2024-04-15T01:29:32.026171Z\u001b[0m [\u001b[32m\u001b[1minfo     \u001b[0m] \u001b[1mTraining complete             \u001b[0m \u001b[36mtrain_acc\u001b[0m=\u001b[35m0.9154411554336548\u001b[0m \u001b[36mtrain_loss\u001b[0m=\u001b[35m0.18449300527572632\u001b[0m\n",
      "[881-MainThread  ] [baal.modelwrapper:test_on_dataset:696] \u001b[2m2024-04-15T01:29:32.028791Z\u001b[0m [\u001b[32m\u001b[1minfo     \u001b[0m] \u001b[1mStarting evaluating           \u001b[0m \u001b[36mdataset\u001b[0m=\u001b[35m175\u001b[0m\n",
      "[881-MainThread  ] [baal.modelwrapper:test_on_dataset:720] \u001b[2m2024-04-15T01:29:33.106310Z\u001b[0m [\u001b[32m\u001b[1minfo     \u001b[0m] \u001b[1mEvaluation complete           \u001b[0m \u001b[36mtest_acc\u001b[0m=\u001b[35m0.9041666984558105\u001b[0m \u001b[36mtest_loss\u001b[0m=\u001b[35m0.26516056060791016\u001b[0m\n",
      "Uth----------- tensor(0.5098)\n",
      "[881-MainThread  ] [baal.modelwrapper:predict_on_dataset_generator:819] \u001b[2m2024-04-15T01:29:33.113175Z\u001b[0m [\u001b[32m\u001b[1minfo     \u001b[0m] \u001b[1mStart Predict                 \u001b[0m \u001b[36mdataset\u001b[0m=\u001b[35m10\u001b[0m\n",
      "\n",
      "  0%|          | 0/1 [00:00<?, ?it/s]\u001b[A\n",
      "100%|██████████| 1/1 [00:00<00:00,  2.66it/s]\u001b[A"
     ]
    },
    {
     "name": "stderr",
     "output_type": "stream",
     "text": [
      " 98%|█████████▊| 52/53 [11:08<00:15, 15.92s/it]"
     ]
    },
    {
     "name": "stdout",
     "output_type": "stream",
     "text": [
      "\n",
      "{'dataset_size': 520,\n",
      " 'test_accuracy': 0.9041666984558105,\n",
      " 'test_loss': 0.26516056060791016,\n",
      " 'train_accuracy': 0.9154411554336548,\n",
      " 'train_loss': 0.18449300527572632}\n",
      "[881-MainThread  ] [baal.modelwrapper:train_on_dataset:654] \u001b[2m2024-04-15T01:29:33.498089Z\u001b[0m [\u001b[32m\u001b[1minfo     \u001b[0m] \u001b[1mStarting training             \u001b[0m \u001b[36mdataset\u001b[0m=\u001b[35m530\u001b[0m \u001b[36mepoch\u001b[0m=\u001b[35m10\u001b[0m\n",
      "[881-MainThread  ] [baal.modelwrapper:train_on_dataset:666] \u001b[2m2024-04-15T01:29:48.585090Z\u001b[0m [\u001b[32m\u001b[1minfo     \u001b[0m] \u001b[1mTraining complete             \u001b[0m \u001b[36mtrain_acc\u001b[0m=\u001b[35m0.9430146813392639\u001b[0m \u001b[36mtrain_loss\u001b[0m=\u001b[35m0.15321600437164307\u001b[0m\n",
      "[881-MainThread  ] [baal.modelwrapper:test_on_dataset:696] \u001b[2m2024-04-15T01:29:48.588552Z\u001b[0m [\u001b[32m\u001b[1minfo     \u001b[0m] \u001b[1mStarting evaluating           \u001b[0m \u001b[36mdataset\u001b[0m=\u001b[35m175\u001b[0m\n",
      "[881-MainThread  ] [baal.modelwrapper:test_on_dataset:720] \u001b[2m2024-04-15T01:29:49.727191Z\u001b[0m [\u001b[32m\u001b[1minfo     \u001b[0m] \u001b[1mEvaluation complete           \u001b[0m \u001b[36mtest_acc\u001b[0m=\u001b[35m0.9295139312744141\u001b[0m \u001b[36mtest_loss\u001b[0m=\u001b[35m0.21144014596939087\u001b[0m\n"
     ]
    },
    {
     "name": "stderr",
     "output_type": "stream",
     "text": [
      " 98%|█████████▊| 52/53 [11:24<00:13, 13.17s/it]"
     ]
    },
    {
     "name": "stdout",
     "output_type": "stream",
     "text": [
      "Uth----------- tensor(0.5069)\n"
     ]
    },
    {
     "name": "stderr",
     "output_type": "stream",
     "text": [
      "\n"
     ]
    },
    {
     "name": "stdout",
     "output_type": "stream",
     "text": [
      "(530,)\n",
      "Start draw gif\n",
      "Done gif\n",
      "Uncertain_th: 0.5459879\n"
     ]
    },
    {
     "data": {
      "image/png": "[encoded data removed]",
      "text/plain": [
       "<Figure size 640x480 with 1 Axes>"
      ]
     },
     "metadata": {},
     "output_type": "display_data"
    },
    {
     "data": {
      "image/png": "[encoded data removed]",
      "text/plain": [
       "<Figure size 640x480 with 1 Axes>"
      ]
     },
     "metadata": {},
     "output_type": "display_data"
    }
   ],
   "source": [
    "fig, ax = plt.subplots(1,1)\n",
    "fig2, ax2 = plt.subplots(1,1)\n",
    "\n",
    "for modeluse in hyperparams[\"model\"]: #对每一种启发式方法查询策略进行主动学习，绘制性能曲线\n",
    "    for query_strategy in hyperparams[\"heuristic\"]:\n",
    "        t_loss = []\n",
    "        print(\"Start active learning Training: model is \", modeluse, '\\n')\n",
    "        print(\"Start active learning Training: query_strategy is \", query_strategy, '\\n')\n",
    "        best_acc = 0\n",
    "        performance = [] #用于记录每个查询策略的性能\n",
    "        active_set, test_set = get_datasets(hyperparams[\"initial_pool\"])\n",
    "        if(query_strategy != 'bald'):\n",
    "            reduction = 'mean'\n",
    "        else:\n",
    "            reduction = 'none'\n",
    "        print('reduction on main is ', reduction)\n",
    "        heuristic = get_heuristic(query_strategy, hyperparams[\"shuffle_prop\"], reduction = reduction) #启发式算法bald，并添加噪声\n",
    "        criterion = CrossEntropyLoss()\n",
    "        if modeluse == 'vgg16':\n",
    "            model = vgg16(num_classes=2)\n",
    "            weights_path = \"/root/主动学习//vgg16-397923af.pth\"\n",
    "        elif modeluse == 'AlexNet':\n",
    "            model = AlexNet(num_classes=2)\n",
    "            weights_path = \"/root/主动学习//alexnet-owt-4df8aa71.pth\"\n",
    "        weights = torch.load(weights_path, map_location='cpu')\n",
    "        weights = {k: v for k, v in weights.items() if \"classifier.6\" not in k}\n",
    "        model.load_state_dict(weights, strict=False)\n",
    "\n",
    "        # change dropout layer to MCDropout\n",
    "        model = patch_module(model)\n",
    "\n",
    "        if use_cuda:\n",
    "            model.cuda()\n",
    "        optimizer = optim.SGD(model.parameters(), lr=hyperparams[\"lr\"], momentum=0.9)\n",
    "\n",
    "        # Wraps the model into a usable API.\n",
    "        model = ModelWrapper(model, criterion, replicate_in_memory=False)\n",
    "\n",
    "        logs = {}\n",
    "        logs[\"epoch\"] = 0\n",
    "\n",
    "        # for prediction we use a smaller batchsize\n",
    "        # since it is slower\n",
    "        active_loop = ActiveLearningLoop(\n",
    "            active_set,\n",
    "            model.predict_on_dataset,\n",
    "            heuristic,  # 给定启发式算法\n",
    "            hyperparams.get(\"query_size\", 1),  # 每次标记的样本数\n",
    "            batch_size=10,\n",
    "            iterations=hyperparams[\"iterations\"],  # 从后验分布采样次数\n",
    "            use_cuda=use_cuda,\n",
    "        )\n",
    "        # We will reset the weights at each active learning step.\n",
    "        init_weights = deepcopy(model.state_dict()) #每次主动学习前初始化权重\n",
    "\n",
    "        labelling_progress = active_set.labelled.copy().astype(int)#将active_set对象的labelled属性复制为一个整数类型的数组labelling_progress。\n",
    "        with open(\"results.txt\", \"w\") as file:\n",
    "            for epoch in tqdm(range(hyperparams['epoch'])):  #主动学习循环次数\n",
    "                # Load the initial weights.\n",
    "                model.load_state_dict(init_weights)\n",
    "                model.train_on_dataset(  #这个函数可以返回一次主动循环的训练日志\n",
    "                    active_set,\n",
    "                    optimizer,\n",
    "                    hyperparams[\"batch_size\"],\n",
    "                    hyperparams[\"learning_epoch\"],  #训练的epoch数\n",
    "                    use_cuda,\n",
    "                )\n",
    "\n",
    "                # Validation!\n",
    "    #             test_acc = model.test_on_dataset(test_set, hyperparams[\"batch_size\"], use_cuda)\n",
    "    #             performance.append(test_acc)\n",
    "\n",
    "    #             should_continue = active_loop.step()    #执行主动学习步骤，根据启发式算法标记新样本\n",
    "    #             # Keep track of progress\n",
    "    #             labelling_progress += active_set._labelled.astype(np.uint16)#主动学习标记样本进度\n",
    "    #             if not should_continue:\n",
    "    #                 break\n",
    "\n",
    "    #             model_weight = model.state_dict()\n",
    "    #             dataset = active_set.state_dict()\n",
    "    #             if test_acc > best_acc:\n",
    "    #                 best_acc = test_acc\n",
    "    #                 print(\"Save weights in \"+query_strategy+str(_)+'al')\n",
    "    #                 torch.save({'model': model_weight, 'dataset': dataset, 'labelling_progress': labelling_progress},\n",
    "    #                        'best_{}.pth'.format([query_strategy]))\n",
    "                result = model.test_on_dataset(test_set, hyperparams[\"batch_size\"], use_cuda, average_predictions=10)\n",
    "                Uth = result[0]\n",
    "                test_acc = result[1]\n",
    "                test_loss = result[2]\n",
    "                # 写入当前 epoch 的结果\n",
    "                file.write(f\"query_strategy: {query_strategy}:\\n\")\n",
    "                file.write(f\"Epoch {epoch}:\\n\")\n",
    "                file.write(f\"dataset: {len(active_set)}:\\n\")\n",
    "                file.write(f\"Uth: {Uth}:\\n\")\n",
    "                file.write(f\"test_acc: {test_acc}:\\n\")\n",
    "                file.write(f\"test_loss: {test_loss}:\\n\")\n",
    "                file.write(\"\\n\")  # 添加一个空行以分隔各个 epoch 的结果\n",
    "                \n",
    "                print('Uth-----------', Uth)\n",
    "                performance.append(test_acc)\n",
    "                t_loss.append(test_loss)\n",
    "                should_continue = active_loop.step()    #执行主动学习步骤，根据启发式算法标记新样本\n",
    "                # Keep track of progress\n",
    "                labelling_progress += active_set._labelled.astype(np.uint16)#主动学习标记样本进度\n",
    "                if not should_continue:\n",
    "                    break\n",
    "\n",
    "                model_weight = model.state_dict()\n",
    "                dataset = active_set.state_dict()\n",
    "                if test_acc > best_acc:\n",
    "                    best_acc = test_acc\n",
    "                    Uncertain_th = Uth.cpu().numpy() #更新不确定性阈值\n",
    "                    print(\"!!!Save weights in \"+modeluse+str(_)+'al')\n",
    "                    print('Uncertain_th update to', Uncertain_th)\n",
    "                    torch.save({'model': model_weight, 'dataset': dataset, 'labelling_progress': labelling_progress},\n",
    "                           'best_{}.pth'.format([query_strategy]))\n",
    "                    with open('model_params.txt', 'w') as f:\n",
    "                        f.write(\"Uncertain-threshold:\"+str(Uth)+'\\n')\n",
    "                pprint(model.get_metrics())\n",
    "            # 绘制性能曲线\n",
    "            # 绘制性能曲线\n",
    "            ax.plot(range(hyperparams[\"epoch\"]), performance, label=query_strategy)#绘制一条曲线 横坐标为主动学习循环次数，纵坐标为test_acc\n",
    "            ax2.plot(range(hyperparams[\"epoch\"]), t_loss, label=query_strategy)\n",
    "            # Make a feature extractor from our trained model.\n",
    "            class FeatureExtractor(nn.Module):\n",
    "                def __init__(self, model):\n",
    "                    super().__init__()\n",
    "                    self.model = model\n",
    "\n",
    "                def forward(self, x):\n",
    "                    return torch.flatten(self.model.features(x), 1)\n",
    "\n",
    "            def plot_images(img_list):\n",
    "                def init():\n",
    "                    img.set_data(img_list[0])\n",
    "                    return (img,)\n",
    "\n",
    "                def animate(i):\n",
    "                    img.set_data(img_list[i])\n",
    "                    return (img,)\n",
    "\n",
    "                fig = plt.Figure(figsize=(10, 10))\n",
    "                ax = fig.gca()\n",
    "                img = ax.imshow(img_list[0])\n",
    "                anim = animation.FuncAnimation(fig, animate, init_func=init,\n",
    "                                               frames=len(img_list), interval=60, blit=True)\n",
    "                return anim\n",
    "\n",
    "            features = FeatureExtractor(model.model)\n",
    "            acc = []\n",
    "            for x, y in DataLoader(active_set._dataset, batch_size=10):\n",
    "                acc.append((features(x.cuda()).detach().cpu().numpy(), y.detach().cpu().numpy()))\n",
    "\n",
    "            xs, ys = zip(*acc)\n",
    "            # Compute t-SNE on the extracted features.\n",
    "            tsne = TSNE(n_jobs=1, learning_rate='auto')\n",
    "            transformed = tsne.fit_transform(np.vstack(xs))\n",
    "            labels = np.concatenate(ys)\n",
    "            print(labels.shape)\n",
    "            # Create frames to animate the process.\n",
    "            frames = make_animation_from_data(transformed, labels, labelling_progress, [\"Positive\", \"Negative\"])\n",
    "            gifpath = \"/root/\"+query_strategy+modeluse+'.gif'\n",
    "            print('Start draw gif')\n",
    "            imageio.mimsave(gifpath, frames, duration=333.33)\n",
    "            print('Done gif')\n",
    "print('Uncertain_th:', Uncertain_th)\n",
    "# 添加图例\n",
    "ax.legend()\n",
    "ax2.legend()\n",
    "# 添加横轴标签和纵轴标签\n",
    "ax.set_xlabel('Activate_iterations')\n",
    "ax.set_ylabel('Accuracy')\n",
    "ax2.set_xlabel('Activate_iterations')\n",
    "ax2.set_ylabel('Loss')\n",
    "# 设置标题、坐标轴范围等其他设置\n",
    "ax.set_title('Val Accuracy')\n",
    "ax2.set_title('Val Loss')\n",
    "ax.grid(True)\n",
    "ax2.grid(True)\n",
    "# 显示图形\n",
    "plt.show()"
   ]
  },
  {
   "cell_type": "code",
   "execution_count": null,
   "id": "a329590e-7ec1-459e-9290-aa3ddc337ff8",
   "metadata": {},
   "outputs": [],
   "source": []
  }
 ],
 "metadata": {
  "kernelspec": {
   "display_name": "py38",
   "language": "python",
   "name": "py38"
  },
  "language_info": {
   "codemirror_mode": {
    "name": "ipython",
    "version": 3
   },
   "file_extension": ".py",
   "mimetype": "text/x-python",
   "name": "python",
   "nbconvert_exporter": "python",
   "pygments_lexer": "ipython3",
   "version": "3.8.0"
  }
 },
 "nbformat": 4,
 "nbformat_minor": 5
}
